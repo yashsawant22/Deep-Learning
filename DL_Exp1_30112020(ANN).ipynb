{
  "nbformat": 4,
  "nbformat_minor": 0,
  "metadata": {
    "colab": {
      "name": "DL_Exp1_30112020(ANN).ipynb",
      "provenance": [],
      "collapsed_sections": [],
      "include_colab_link": true
    },
    "kernelspec": {
      "name": "python3",
      "display_name": "Python 3"
    },
    "accelerator": "GPU"
  },
  "cells": [
    {
      "cell_type": "markdown",
      "metadata": {
        "id": "view-in-github",
        "colab_type": "text"
      },
      "source": [
        "<a href=\"https://colab.research.google.com/github/pranit06/Deep_Learning/blob/main/DL_Exp1_30112020(ANN).ipynb\" target=\"_parent\"><img src=\"https://colab.research.google.com/assets/colab-badge.svg\" alt=\"Open In Colab\"/></a>"
      ]
    },
    {
      "cell_type": "markdown",
      "metadata": {
        "id": "k0_6Xum3WYvv"
      },
      "source": [
        "# Arabic Aplhabets"
      ]
    },
    {
      "cell_type": "markdown",
      "metadata": {
        "id": "az6O32ruW0uM"
      },
      "source": [
        "## Importing Libraries and dataset"
      ]
    },
    {
      "cell_type": "code",
      "metadata": {
        "id": "0Ffj-pnDWUmg"
      },
      "source": [
        "import numpy as np\n",
        "import pandas as pd\n",
        "import matplotlib.pyplot as plt\n",
        "import seaborn as sns\n",
        "\n",
        "from keras.utils import to_categorical\n",
        "from keras.models import Sequential\n",
        "from keras.layers import Dense, Dropout, Flatten, Conv2D, MaxPool2D\n",
        "from keras.optimizers import RMSprop\n",
        "from keras.preprocessing.image import ImageDataGenerator\n",
        "from sklearn.metrics import confusion_matrix"
      ],
      "execution_count": null,
      "outputs": []
    },
    {
      "cell_type": "code",
      "metadata": {
        "colab": {
          "base_uri": "https://localhost:8080/"
        },
        "id": "JotIT-msXM1H",
        "outputId": "dc976ed3-3b48-471f-cfea-e50e91560d7c"
      },
      "source": [
        "!wget http://upscfever.com/datasets/csvTrainImages13440x1024.csv -P drive/app\n",
        "!wget http://upscfever.com/datasets/csvTrainLabel13440x1.csv -P drive/app\n",
        "!wget http://upscfever.com/datasets/csvTestImages3360x1024.csv -P drive/app\n",
        "!wget http://upscfever.com/datasets/csvTestLabel3360x1.csv -P drive/app"
      ],
      "execution_count": null,
      "outputs": [
        {
          "output_type": "stream",
          "text": [
            "--2020-12-02 05:22:20--  http://upscfever.com/datasets/csvTrainImages13440x1024.csv\n",
            "Resolving upscfever.com (upscfever.com)... 104.27.176.133, 104.27.177.133, 172.67.193.2, ...\n",
            "Connecting to upscfever.com (upscfever.com)|104.27.176.133|:80... connected.\n",
            "HTTP request sent, awaiting response... 301 Moved Permanently\n",
            "Location: https://upscfever.com/datasets/csvTrainImages13440x1024.csv [following]\n",
            "--2020-12-02 05:22:20--  https://upscfever.com/datasets/csvTrainImages13440x1024.csv\n",
            "Connecting to upscfever.com (upscfever.com)|104.27.176.133|:443... connected.\n",
            "HTTP request sent, awaiting response... 200 OK\n",
            "Length: unspecified [text/csv]\n",
            "Saving to: ‘drive/app/csvTrainImages13440x1024.csv’\n",
            "\n",
            "\r          csvTrainI     [<=>                 ]       0  --.-KB/s               \rcsvTrainImages13440     [ <=>                ]  28.22M  --.-KB/s    in 0.1s    \n",
            "\n",
            "2020-12-02 05:22:20 (249 MB/s) - ‘drive/app/csvTrainImages13440x1024.csv’ saved [29593405]\n",
            "\n",
            "--2020-12-02 05:22:20--  http://upscfever.com/datasets/csvTrainLabel13440x1.csv\n",
            "Resolving upscfever.com (upscfever.com)... 104.27.176.133, 104.27.177.133, 172.67.193.2, ...\n",
            "Connecting to upscfever.com (upscfever.com)|104.27.176.133|:80... connected.\n",
            "HTTP request sent, awaiting response... 301 Moved Permanently\n",
            "Location: https://upscfever.com/datasets/csvTrainLabel13440x1.csv [following]\n",
            "--2020-12-02 05:22:20--  https://upscfever.com/datasets/csvTrainLabel13440x1.csv\n",
            "Connecting to upscfever.com (upscfever.com)|104.27.176.133|:443... connected.\n",
            "HTTP request sent, awaiting response... 200 OK\n",
            "Length: unspecified [text/csv]\n",
            "Saving to: ‘drive/app/csvTrainLabel13440x1.csv’\n",
            "\n",
            "csvTrainLabel13440x     [ <=>                ]  35.16K  --.-KB/s    in 0s      \n",
            "\n",
            "2020-12-02 05:22:20 (136 MB/s) - ‘drive/app/csvTrainLabel13440x1.csv’ saved [36000]\n",
            "\n",
            "--2020-12-02 05:22:20--  http://upscfever.com/datasets/csvTestImages3360x1024.csv\n",
            "Resolving upscfever.com (upscfever.com)... 104.27.176.133, 104.27.177.133, 172.67.193.2, ...\n",
            "Connecting to upscfever.com (upscfever.com)|104.27.176.133|:80... connected.\n",
            "HTTP request sent, awaiting response... 301 Moved Permanently\n",
            "Location: https://upscfever.com/datasets/csvTestImages3360x1024.csv [following]\n",
            "--2020-12-02 05:22:20--  https://upscfever.com/datasets/csvTestImages3360x1024.csv\n",
            "Connecting to upscfever.com (upscfever.com)|104.27.176.133|:443... connected.\n",
            "HTTP request sent, awaiting response... 200 OK\n",
            "Length: unspecified [text/csv]\n",
            "Saving to: ‘drive/app/csvTestImages3360x1024.csv’\n",
            "\n",
            "csvTestImages3360x1     [ <=>                ]   7.06M  --.-KB/s    in 0.03s   \n",
            "\n",
            "2020-12-02 05:22:20 (245 MB/s) - ‘drive/app/csvTestImages3360x1024.csv’ saved [7400507]\n",
            "\n",
            "--2020-12-02 05:22:20--  http://upscfever.com/datasets/csvTestLabel3360x1.csv\n",
            "Resolving upscfever.com (upscfever.com)... 104.27.176.133, 104.27.177.133, 172.67.193.2, ...\n",
            "Connecting to upscfever.com (upscfever.com)|104.27.176.133|:80... connected.\n",
            "HTTP request sent, awaiting response... 301 Moved Permanently\n",
            "Location: https://upscfever.com/datasets/csvTestLabel3360x1.csv [following]\n",
            "--2020-12-02 05:22:20--  https://upscfever.com/datasets/csvTestLabel3360x1.csv\n",
            "Connecting to upscfever.com (upscfever.com)|104.27.176.133|:443... connected.\n",
            "HTTP request sent, awaiting response... 200 OK\n",
            "Length: unspecified [text/csv]\n",
            "Saving to: ‘drive/app/csvTestLabel3360x1.csv’\n",
            "\n",
            "csvTestLabel3360x1.     [ <=>                ]   8.79K  --.-KB/s    in 0s      \n",
            "\n",
            "2020-12-02 05:22:20 (84.4 MB/s) - ‘drive/app/csvTestLabel3360x1.csv’ saved [9000]\n",
            "\n"
          ],
          "name": "stdout"
        }
      ]
    },
    {
      "cell_type": "code",
      "metadata": {
        "id": "yE_rSfKnXM4B"
      },
      "source": [
        "train_data = pd.read_csv('drive/app/csvTrainImages13440x1024.csv', header = None)\n",
        "train_label = pd.read_csv('drive/app/csvTrainLabel13440x1.csv', header = None)\n",
        "test_data = pd.read_csv('drive/app/csvTestImages3360x1024.csv', header = None)\n",
        "test_label = pd.read_csv('drive/app/csvTestLabel3360x1.csv', header = None)"
      ],
      "execution_count": null,
      "outputs": []
    },
    {
      "cell_type": "code",
      "metadata": {
        "colab": {
          "base_uri": "https://localhost:8080/"
        },
        "id": "GnB4_stIXM61",
        "outputId": "6b1ae2b2-6167-4e0e-fe96-5bfd3a4340e3"
      },
      "source": [
        "train_data.info()"
      ],
      "execution_count": null,
      "outputs": [
        {
          "output_type": "stream",
          "text": [
            "<class 'pandas.core.frame.DataFrame'>\n",
            "RangeIndex: 13440 entries, 0 to 13439\n",
            "Columns: 1024 entries, 0 to 1023\n",
            "dtypes: int64(1024)\n",
            "memory usage: 105.0 MB\n"
          ],
          "name": "stdout"
        }
      ]
    },
    {
      "cell_type": "code",
      "metadata": {
        "id": "Dgs43CIJXM-R"
      },
      "source": [
        "train_data = train_data.iloc[:,:].values.astype('float32')\n",
        "train_label = train_label.iloc[:,:].values.astype('int32')-1\n",
        "test_data = test_data.iloc[:,:].values.astype('float32')\n",
        "test_label = test_label.iloc[:,:].values.astype('int32')-1"
      ],
      "execution_count": null,
      "outputs": []
    },
    {
      "cell_type": "code",
      "metadata": {
        "id": "s2iDAtL2XyWG"
      },
      "source": [
        "def row_calculator(number_of_images, number_of_columns):\n",
        "    if number_of_images % number_of_columns != 0:\n",
        "        return (number_of_images / number_of_columns)+1\n",
        "    else:\n",
        "        return (number_of_images / number_of_columns)"
      ],
      "execution_count": null,
      "outputs": []
    },
    {
      "cell_type": "markdown",
      "metadata": {
        "id": "IHtbuZ0eX_1I"
      },
      "source": [
        "## Displaying data"
      ]
    },
    {
      "cell_type": "code",
      "metadata": {
        "id": "SyZ2TTrrXyZN"
      },
      "source": [
        "def display_image(x, img_size, number_of_images):\n",
        "    plt.figure(figsize = (8, 7))\n",
        "    if x.shape[0] > 0:\n",
        "        n_samples = x.shape[0]\n",
        "        x = x.reshape(n_samples, img_size, img_size)\n",
        "        number_of_rows = row_calculator(number_of_images, 4)\n",
        "        for i in range(number_of_images):\n",
        "            plt.subplot(number_of_rows, 4, i+1)\n",
        "            plt.imshow(x[i])"
      ],
      "execution_count": null,
      "outputs": []
    },
    {
      "cell_type": "code",
      "metadata": {
        "colab": {
          "base_uri": "https://localhost:8080/",
          "height": 461
        },
        "id": "ldpszhc8Xycn",
        "outputId": "e21410d6-d964-40a9-9ab1-7fae54bbb2eb"
      },
      "source": [
        "display_image(train_data, 32, 16)"
      ],
      "execution_count": null,
      "outputs": [
        {
          "output_type": "display_data",
          "data": {
            "image/png": "[encoded data removed]",
            "text/plain": [
              "<Figure size 576x504 with 16 Axes>"
            ]
          },
          "metadata": {
            "tags": []
          }
        }
      ]
    },
    {
      "cell_type": "code",
      "metadata": {
        "colab": {
          "base_uri": "https://localhost:8080/",
          "height": 461
        },
        "id": "3RGO28IUXyfc",
        "outputId": "a72bf06c-0d68-46de-f203-992376ffb30c"
      },
      "source": [
        "display_image(test_data, 32, 16)"
      ],
      "execution_count": null,
      "outputs": [
        {
          "output_type": "display_data",
          "data": {
            "image/png": "[encoded data removed]",
            "text/plain": [
              "<Figure size 576x504 with 16 Axes>"
            ]
          },
          "metadata": {
            "tags": []
          }
        }
      ]
    },
    {
      "cell_type": "markdown",
      "metadata": {
        "id": "7b-iQPtUYRHA"
      },
      "source": [
        "## Preprocessing"
      ]
    },
    {
      "cell_type": "code",
      "metadata": {
        "id": "tPt6vh2WXyiy"
      },
      "source": [
        "train_label = to_categorical(train_label,28)"
      ],
      "execution_count": null,
      "outputs": []
    },
    {
      "cell_type": "code",
      "metadata": {
        "id": "F3M22Yo2Xyrc"
      },
      "source": [
        "train_data = train_data/255\n",
        "test_data = test_data/255"
      ],
      "execution_count": null,
      "outputs": []
    },
    {
      "cell_type": "code",
      "metadata": {
        "id": "aEMkNSKbYYYI"
      },
      "source": [
        "train_data = train_data.reshape([-1, 32, 32, 1])\n",
        "test_data = test_data.reshape([-1, 32, 32, 1])"
      ],
      "execution_count": null,
      "outputs": []
    },
    {
      "cell_type": "code",
      "metadata": {
        "colab": {
          "base_uri": "https://localhost:8080/"
        },
        "id": "zCRAbAuvelep",
        "outputId": "6d4c5b25-4eac-4d33-e569-b1438b3c4067"
      },
      "source": [
        "train_data.shape"
      ],
      "execution_count": null,
      "outputs": [
        {
          "output_type": "execute_result",
          "data": {
            "text/plain": [
              "(13440, 32, 32, 1)"
            ]
          },
          "metadata": {
            "tags": []
          },
          "execution_count": 110
        }
      ]
    },
    {
      "cell_type": "markdown",
      "metadata": {
        "id": "jBPRpe8_Yewm"
      },
      "source": [
        "## Building ANN"
      ]
    },
    {
      "cell_type": "code",
      "metadata": {
        "id": "s3x5DP0EY8OB"
      },
      "source": [
        "from keras import models\n",
        "from keras import layers\n",
        "from keras import optimizers\n",
        "from keras.utils import to_categorical\n",
        "from keras.callbacks import EarlyStopping\n",
        "from keras.callbacks import ModelCheckpoint\n",
        "from keras.models import load_model\n",
        "from sklearn.preprocessing import LabelEncoder, StandardScaler"
      ],
      "execution_count": null,
      "outputs": []
    },
    {
      "cell_type": "code",
      "metadata": {
        "colab": {
          "base_uri": "https://localhost:8080/"
        },
        "id": "5TnKejivYYbW",
        "outputId": "e7e37ac0-ff0c-4204-edde-de8e1d37dbd7"
      },
      "source": [
        "nn = models.Sequential()\n",
        "nn.add(layers.Flatten(input_shape=(32,32,1)))\n",
        "nn.add(layers.Dense(1024, activation=\"relu\"))\n",
        "nn.add(layers.Dense(512, activation=\"relu\"))\n",
        "nn.add(layers.Dense(256, activation=\"tanh\"))\n",
        "nn.add(layers.Dense(128, activation=\"relu\"))\n",
        "nn.add(layers.Dense(64, activation=\"relu\"))\n",
        "nn.add(layers.Dense(28, activation=\"softmax\"))\n",
        "\n",
        "nn.summary()"
      ],
      "execution_count": null,
      "outputs": [
        {
          "output_type": "stream",
          "text": [
            "Model: \"sequential_8\"\n",
            "_________________________________________________________________\n",
            "Layer (type)                 Output Shape              Param #   \n",
            "=================================================================\n",
            "flatten_8 (Flatten)          (None, 1024)              0         \n",
            "_________________________________________________________________\n",
            "dense_35 (Dense)             (None, 1024)              1049600   \n",
            "_________________________________________________________________\n",
            "dense_36 (Dense)             (None, 512)               524800    \n",
            "_________________________________________________________________\n",
            "dense_37 (Dense)             (None, 256)               131328    \n",
            "_________________________________________________________________\n",
            "dense_38 (Dense)             (None, 128)               32896     \n",
            "_________________________________________________________________\n",
            "dense_39 (Dense)             (None, 64)                8256      \n",
            "_________________________________________________________________\n",
            "dense_40 (Dense)             (None, 28)                1820      \n",
            "=================================================================\n",
            "Total params: 1,748,700\n",
            "Trainable params: 1,748,700\n",
            "Non-trainable params: 0\n",
            "_________________________________________________________________\n"
          ],
          "name": "stdout"
        }
      ]
    },
    {
      "cell_type": "markdown",
      "metadata": {
        "id": "wCpKHdmhqgxx"
      },
      "source": [
        "## Using callbacks"
      ]
    },
    {
      "cell_type": "code",
      "metadata": {
        "id": "wrIqQgoIYYfA"
      },
      "source": [
        "nn.compile(optimizer=\"adam\",\n",
        "           loss='categorical_crossentropy',\n",
        "           metrics = ['accuracy'])\n",
        "es = EarlyStopping(monitor='val_loss', mode='min', verbose=1, patience=200)\n",
        "mc = ModelCheckpoint('best_model.h5', monitor='val_accuracy', mode='max', verbose=1, save_best_only=True)"
      ],
      "execution_count": null,
      "outputs": []
    },
    {
      "cell_type": "code",
      "metadata": {
        "colab": {
          "base_uri": "https://localhost:8080/"
        },
        "id": "XuAhas9aZij7",
        "outputId": "64896760-b4f7-4ff1-8661-e64370d26ff4"
      },
      "source": [
        "history = nn.fit(train_data,train_label, epochs=5000, batch_size = 100, validation_split=0.25, verbose=2, callbacks=[es, mc])"
      ],
      "execution_count": null,
      "outputs": [
        {
          "output_type": "stream",
          "text": [
            "Epoch 1/5000\n",
            "\n",
            "Epoch 00001: val_accuracy improved from -inf to 0.41220, saving model to best_model.h5\n",
            "101/101 - 1s - loss: 2.3251 - accuracy: 0.2706 - val_loss: 1.8269 - val_accuracy: 0.4122\n",
            "Epoch 2/5000\n",
            "\n",
            "Epoch 00002: val_accuracy improved from 0.41220 to 0.52649, saving model to best_model.h5\n",
            "101/101 - 1s - loss: 1.2264 - accuracy: 0.5678 - val_loss: 1.4572 - val_accuracy: 0.5265\n",
            "Epoch 3/5000\n",
            "\n",
            "Epoch 00003: val_accuracy improved from 0.52649 to 0.61845, saving model to best_model.h5\n",
            "101/101 - 1s - loss: 0.7931 - accuracy: 0.7088 - val_loss: 1.1897 - val_accuracy: 0.6185\n",
            "Epoch 4/5000\n",
            "\n",
            "Epoch 00004: val_accuracy did not improve from 0.61845\n",
            "101/101 - 0s - loss: 0.5286 - accuracy: 0.8048 - val_loss: 1.2875 - val_accuracy: 0.5973\n",
            "Epoch 5/5000\n",
            "\n",
            "Epoch 00005: val_accuracy improved from 0.61845 to 0.64167, saving model to best_model.h5\n",
            "101/101 - 0s - loss: 0.3707 - accuracy: 0.8674 - val_loss: 1.2734 - val_accuracy: 0.6417\n",
            "Epoch 6/5000\n",
            "\n",
            "Epoch 00006: val_accuracy did not improve from 0.64167\n",
            "101/101 - 0s - loss: 0.2647 - accuracy: 0.9055 - val_loss: 1.3765 - val_accuracy: 0.6384\n",
            "Epoch 7/5000\n",
            "\n",
            "Epoch 00007: val_accuracy did not improve from 0.64167\n",
            "101/101 - 0s - loss: 0.1886 - accuracy: 0.9352 - val_loss: 1.5460 - val_accuracy: 0.6399\n",
            "Epoch 8/5000\n",
            "\n",
            "Epoch 00008: val_accuracy improved from 0.64167 to 0.65030, saving model to best_model.h5\n",
            "101/101 - 0s - loss: 0.1380 - accuracy: 0.9519 - val_loss: 1.5570 - val_accuracy: 0.6503\n",
            "Epoch 9/5000\n",
            "\n",
            "Epoch 00009: val_accuracy did not improve from 0.65030\n",
            "101/101 - 0s - loss: 0.0984 - accuracy: 0.9661 - val_loss: 1.6942 - val_accuracy: 0.6488\n",
            "Epoch 10/5000\n",
            "\n",
            "Epoch 00010: val_accuracy did not improve from 0.65030\n",
            "101/101 - 0s - loss: 0.0752 - accuracy: 0.9763 - val_loss: 1.7014 - val_accuracy: 0.6449\n",
            "Epoch 11/5000\n",
            "\n",
            "Epoch 00011: val_accuracy improved from 0.65030 to 0.65089, saving model to best_model.h5\n",
            "101/101 - 0s - loss: 0.1214 - accuracy: 0.9585 - val_loss: 1.8190 - val_accuracy: 0.6509\n",
            "Epoch 12/5000\n",
            "\n",
            "Epoch 00012: val_accuracy did not improve from 0.65089\n",
            "101/101 - 0s - loss: 0.0887 - accuracy: 0.9702 - val_loss: 1.8514 - val_accuracy: 0.6476\n",
            "Epoch 13/5000\n",
            "\n",
            "Epoch 00013: val_accuracy did not improve from 0.65089\n",
            "101/101 - 0s - loss: 0.0824 - accuracy: 0.9730 - val_loss: 1.9461 - val_accuracy: 0.6393\n",
            "Epoch 14/5000\n",
            "\n",
            "Epoch 00014: val_accuracy did not improve from 0.65089\n",
            "101/101 - 0s - loss: 0.0833 - accuracy: 0.9719 - val_loss: 2.0735 - val_accuracy: 0.6485\n",
            "Epoch 15/5000\n",
            "\n",
            "Epoch 00015: val_accuracy did not improve from 0.65089\n",
            "101/101 - 0s - loss: 0.1165 - accuracy: 0.9592 - val_loss: 1.8677 - val_accuracy: 0.6452\n",
            "Epoch 16/5000\n",
            "\n",
            "Epoch 00016: val_accuracy improved from 0.65089 to 0.66845, saving model to best_model.h5\n",
            "101/101 - 0s - loss: 0.0718 - accuracy: 0.9766 - val_loss: 1.7758 - val_accuracy: 0.6685\n",
            "Epoch 17/5000\n",
            "\n",
            "Epoch 00017: val_accuracy did not improve from 0.66845\n",
            "101/101 - 0s - loss: 0.0357 - accuracy: 0.9883 - val_loss: 1.9259 - val_accuracy: 0.6676\n",
            "Epoch 18/5000\n",
            "\n",
            "Epoch 00018: val_accuracy improved from 0.66845 to 0.68274, saving model to best_model.h5\n",
            "101/101 - 0s - loss: 0.0198 - accuracy: 0.9941 - val_loss: 1.7892 - val_accuracy: 0.6827\n",
            "Epoch 19/5000\n",
            "\n",
            "Epoch 00019: val_accuracy did not improve from 0.68274\n",
            "101/101 - 0s - loss: 0.0101 - accuracy: 0.9973 - val_loss: 1.8713 - val_accuracy: 0.6783\n",
            "Epoch 20/5000\n",
            "\n",
            "Epoch 00020: val_accuracy did not improve from 0.68274\n",
            "101/101 - 0s - loss: 0.0276 - accuracy: 0.9920 - val_loss: 1.9151 - val_accuracy: 0.6798\n",
            "Epoch 21/5000\n",
            "\n",
            "Epoch 00021: val_accuracy did not improve from 0.68274\n",
            "101/101 - 0s - loss: 0.0219 - accuracy: 0.9930 - val_loss: 2.0171 - val_accuracy: 0.6690\n",
            "Epoch 22/5000\n",
            "\n",
            "Epoch 00022: val_accuracy did not improve from 0.68274\n",
            "101/101 - 0s - loss: 0.0440 - accuracy: 0.9873 - val_loss: 2.0565 - val_accuracy: 0.6631\n",
            "Epoch 23/5000\n",
            "\n",
            "Epoch 00023: val_accuracy did not improve from 0.68274\n",
            "101/101 - 0s - loss: 0.0640 - accuracy: 0.9782 - val_loss: 2.1177 - val_accuracy: 0.6530\n",
            "Epoch 24/5000\n",
            "\n",
            "Epoch 00024: val_accuracy did not improve from 0.68274\n",
            "101/101 - 0s - loss: 0.0695 - accuracy: 0.9773 - val_loss: 2.1223 - val_accuracy: 0.6494\n",
            "Epoch 25/5000\n",
            "\n",
            "Epoch 00025: val_accuracy did not improve from 0.68274\n",
            "101/101 - 0s - loss: 0.0748 - accuracy: 0.9751 - val_loss: 2.0882 - val_accuracy: 0.6574\n",
            "Epoch 26/5000\n",
            "\n",
            "Epoch 00026: val_accuracy did not improve from 0.68274\n",
            "101/101 - 0s - loss: 0.0583 - accuracy: 0.9792 - val_loss: 2.0895 - val_accuracy: 0.6509\n",
            "Epoch 27/5000\n",
            "\n",
            "Epoch 00027: val_accuracy did not improve from 0.68274\n",
            "101/101 - 0s - loss: 0.0520 - accuracy: 0.9828 - val_loss: 2.0983 - val_accuracy: 0.6676\n",
            "Epoch 28/5000\n",
            "\n",
            "Epoch 00028: val_accuracy did not improve from 0.68274\n",
            "101/101 - 0s - loss: 0.0273 - accuracy: 0.9915 - val_loss: 2.2187 - val_accuracy: 0.6604\n",
            "Epoch 29/5000\n",
            "\n",
            "Epoch 00029: val_accuracy did not improve from 0.68274\n",
            "101/101 - 0s - loss: 0.0330 - accuracy: 0.9908 - val_loss: 2.1751 - val_accuracy: 0.6631\n",
            "Epoch 30/5000\n",
            "\n",
            "Epoch 00030: val_accuracy did not improve from 0.68274\n",
            "101/101 - 0s - loss: 0.0279 - accuracy: 0.9919 - val_loss: 2.1802 - val_accuracy: 0.6687\n",
            "Epoch 31/5000\n",
            "\n",
            "Epoch 00031: val_accuracy did not improve from 0.68274\n",
            "101/101 - 0s - loss: 0.0382 - accuracy: 0.9880 - val_loss: 2.2072 - val_accuracy: 0.6655\n",
            "Epoch 32/5000\n",
            "\n",
            "Epoch 00032: val_accuracy did not improve from 0.68274\n",
            "101/101 - 0s - loss: 0.0305 - accuracy: 0.9904 - val_loss: 2.3705 - val_accuracy: 0.6610\n",
            "Epoch 33/5000\n",
            "\n",
            "Epoch 00033: val_accuracy did not improve from 0.68274\n",
            "101/101 - 0s - loss: 0.0348 - accuracy: 0.9874 - val_loss: 2.2180 - val_accuracy: 0.6607\n",
            "Epoch 34/5000\n",
            "\n",
            "Epoch 00034: val_accuracy did not improve from 0.68274\n",
            "101/101 - 0s - loss: 0.0409 - accuracy: 0.9870 - val_loss: 2.1978 - val_accuracy: 0.6667\n",
            "Epoch 35/5000\n",
            "\n",
            "Epoch 00035: val_accuracy did not improve from 0.68274\n",
            "101/101 - 0s - loss: 0.0547 - accuracy: 0.9834 - val_loss: 2.2372 - val_accuracy: 0.6595\n",
            "Epoch 36/5000\n",
            "\n",
            "Epoch 00036: val_accuracy did not improve from 0.68274\n",
            "101/101 - 0s - loss: 0.0654 - accuracy: 0.9811 - val_loss: 2.0252 - val_accuracy: 0.6676\n",
            "Epoch 37/5000\n",
            "\n",
            "Epoch 00037: val_accuracy improved from 0.68274 to 0.68661, saving model to best_model.h5\n",
            "101/101 - 0s - loss: 0.0489 - accuracy: 0.9848 - val_loss: 1.9319 - val_accuracy: 0.6866\n",
            "Epoch 38/5000\n",
            "\n",
            "Epoch 00038: val_accuracy did not improve from 0.68661\n",
            "101/101 - 0s - loss: 0.0272 - accuracy: 0.9914 - val_loss: 2.0566 - val_accuracy: 0.6723\n",
            "Epoch 39/5000\n",
            "\n",
            "Epoch 00039: val_accuracy did not improve from 0.68661\n",
            "101/101 - 0s - loss: 0.0159 - accuracy: 0.9946 - val_loss: 1.9643 - val_accuracy: 0.6860\n",
            "Epoch 40/5000\n",
            "\n",
            "Epoch 00040: val_accuracy did not improve from 0.68661\n",
            "101/101 - 0s - loss: 0.0167 - accuracy: 0.9952 - val_loss: 2.1025 - val_accuracy: 0.6812\n",
            "Epoch 41/5000\n",
            "\n",
            "Epoch 00041: val_accuracy improved from 0.68661 to 0.69375, saving model to best_model.h5\n",
            "101/101 - 0s - loss: 0.0089 - accuracy: 0.9975 - val_loss: 2.0281 - val_accuracy: 0.6938\n",
            "Epoch 42/5000\n",
            "\n",
            "Epoch 00042: val_accuracy did not improve from 0.69375\n",
            "101/101 - 0s - loss: 0.0033 - accuracy: 0.9992 - val_loss: 2.1121 - val_accuracy: 0.6875\n",
            "Epoch 43/5000\n",
            "\n",
            "Epoch 00043: val_accuracy did not improve from 0.69375\n",
            "101/101 - 0s - loss: 0.0108 - accuracy: 0.9970 - val_loss: 2.1039 - val_accuracy: 0.6875\n",
            "Epoch 44/5000\n",
            "\n",
            "Epoch 00044: val_accuracy did not improve from 0.69375\n",
            "101/101 - 0s - loss: 0.0087 - accuracy: 0.9978 - val_loss: 2.1257 - val_accuracy: 0.6884\n",
            "Epoch 45/5000\n",
            "\n",
            "Epoch 00045: val_accuracy did not improve from 0.69375\n",
            "101/101 - 0s - loss: 0.0109 - accuracy: 0.9969 - val_loss: 2.0650 - val_accuracy: 0.6893\n",
            "Epoch 46/5000\n",
            "\n",
            "Epoch 00046: val_accuracy did not improve from 0.69375\n",
            "101/101 - 0s - loss: 0.0155 - accuracy: 0.9961 - val_loss: 2.1325 - val_accuracy: 0.6801\n",
            "Epoch 47/5000\n",
            "\n",
            "Epoch 00047: val_accuracy did not improve from 0.69375\n",
            "101/101 - 0s - loss: 0.0171 - accuracy: 0.9949 - val_loss: 2.2190 - val_accuracy: 0.6634\n",
            "Epoch 48/5000\n",
            "\n",
            "Epoch 00048: val_accuracy did not improve from 0.69375\n",
            "101/101 - 0s - loss: 0.0731 - accuracy: 0.9783 - val_loss: 2.4188 - val_accuracy: 0.6342\n",
            "Epoch 49/5000\n",
            "\n",
            "Epoch 00049: val_accuracy did not improve from 0.69375\n",
            "101/101 - 0s - loss: 0.0900 - accuracy: 0.9723 - val_loss: 2.0482 - val_accuracy: 0.6500\n",
            "Epoch 50/5000\n",
            "\n",
            "Epoch 00050: val_accuracy did not improve from 0.69375\n",
            "101/101 - 0s - loss: 0.0392 - accuracy: 0.9867 - val_loss: 2.0488 - val_accuracy: 0.6664\n",
            "Epoch 51/5000\n",
            "\n",
            "Epoch 00051: val_accuracy did not improve from 0.69375\n",
            "101/101 - 0s - loss: 0.0317 - accuracy: 0.9895 - val_loss: 2.1057 - val_accuracy: 0.6729\n",
            "Epoch 52/5000\n",
            "\n",
            "Epoch 00052: val_accuracy did not improve from 0.69375\n",
            "101/101 - 0s - loss: 0.0262 - accuracy: 0.9922 - val_loss: 1.9986 - val_accuracy: 0.6842\n",
            "Epoch 53/5000\n",
            "\n",
            "Epoch 00053: val_accuracy did not improve from 0.69375\n",
            "101/101 - 0s - loss: 0.0138 - accuracy: 0.9963 - val_loss: 1.9908 - val_accuracy: 0.6902\n",
            "Epoch 54/5000\n",
            "\n",
            "Epoch 00054: val_accuracy did not improve from 0.69375\n",
            "101/101 - 0s - loss: 0.0045 - accuracy: 0.9985 - val_loss: 1.9723 - val_accuracy: 0.6938\n",
            "Epoch 55/5000\n",
            "\n",
            "Epoch 00055: val_accuracy did not improve from 0.69375\n",
            "101/101 - 0s - loss: 0.0015 - accuracy: 0.9995 - val_loss: 2.0539 - val_accuracy: 0.6884\n",
            "Epoch 56/5000\n",
            "\n",
            "Epoch 00056: val_accuracy did not improve from 0.69375\n",
            "101/101 - 0s - loss: 2.3885e-04 - accuracy: 1.0000 - val_loss: 2.0312 - val_accuracy: 0.6926\n",
            "Epoch 57/5000\n",
            "\n",
            "Epoch 00057: val_accuracy improved from 0.69375 to 0.69494, saving model to best_model.h5\n",
            "101/101 - 0s - loss: 1.3667e-04 - accuracy: 1.0000 - val_loss: 2.0410 - val_accuracy: 0.6949\n",
            "Epoch 58/5000\n",
            "\n",
            "Epoch 00058: val_accuracy did not improve from 0.69494\n",
            "101/101 - 0s - loss: 1.1396e-04 - accuracy: 1.0000 - val_loss: 2.0522 - val_accuracy: 0.6946\n",
            "Epoch 59/5000\n",
            "\n",
            "Epoch 00059: val_accuracy did not improve from 0.69494\n",
            "101/101 - 0s - loss: 9.8745e-05 - accuracy: 1.0000 - val_loss: 2.0627 - val_accuracy: 0.6949\n",
            "Epoch 60/5000\n",
            "\n",
            "Epoch 00060: val_accuracy did not improve from 0.69494\n",
            "101/101 - 0s - loss: 8.7040e-05 - accuracy: 1.0000 - val_loss: 2.0735 - val_accuracy: 0.6949\n",
            "Epoch 61/5000\n",
            "\n",
            "Epoch 00061: val_accuracy improved from 0.69494 to 0.69613, saving model to best_model.h5\n",
            "101/101 - 0s - loss: 7.7702e-05 - accuracy: 1.0000 - val_loss: 2.0841 - val_accuracy: 0.6961\n",
            "Epoch 62/5000\n",
            "\n",
            "Epoch 00062: val_accuracy improved from 0.69613 to 0.69643, saving model to best_model.h5\n",
            "101/101 - 1s - loss: 6.9919e-05 - accuracy: 1.0000 - val_loss: 2.0938 - val_accuracy: 0.6964\n",
            "Epoch 63/5000\n",
            "\n",
            "Epoch 00063: val_accuracy did not improve from 0.69643\n",
            "101/101 - 0s - loss: 6.3419e-05 - accuracy: 1.0000 - val_loss: 2.1032 - val_accuracy: 0.6961\n",
            "Epoch 64/5000\n",
            "\n",
            "Epoch 00064: val_accuracy did not improve from 0.69643\n",
            "101/101 - 0s - loss: 5.7787e-05 - accuracy: 1.0000 - val_loss: 2.1132 - val_accuracy: 0.6955\n",
            "Epoch 65/5000\n",
            "\n",
            "Epoch 00065: val_accuracy did not improve from 0.69643\n",
            "101/101 - 0s - loss: 5.2940e-05 - accuracy: 1.0000 - val_loss: 2.1222 - val_accuracy: 0.6964\n",
            "Epoch 66/5000\n",
            "\n",
            "Epoch 00066: val_accuracy improved from 0.69643 to 0.69673, saving model to best_model.h5\n",
            "101/101 - 0s - loss: 4.8624e-05 - accuracy: 1.0000 - val_loss: 2.1314 - val_accuracy: 0.6967\n",
            "Epoch 67/5000\n",
            "\n",
            "Epoch 00067: val_accuracy improved from 0.69673 to 0.69702, saving model to best_model.h5\n",
            "101/101 - 1s - loss: 4.4855e-05 - accuracy: 1.0000 - val_loss: 2.1402 - val_accuracy: 0.6970\n",
            "Epoch 68/5000\n",
            "\n",
            "Epoch 00068: val_accuracy did not improve from 0.69702\n",
            "101/101 - 0s - loss: 4.1488e-05 - accuracy: 1.0000 - val_loss: 2.1491 - val_accuracy: 0.6970\n",
            "Epoch 69/5000\n",
            "\n",
            "Epoch 00069: val_accuracy did not improve from 0.69702\n",
            "101/101 - 0s - loss: 3.8438e-05 - accuracy: 1.0000 - val_loss: 2.1576 - val_accuracy: 0.6970\n",
            "Epoch 70/5000\n",
            "\n",
            "Epoch 00070: val_accuracy did not improve from 0.69702\n",
            "101/101 - 0s - loss: 3.5690e-05 - accuracy: 1.0000 - val_loss: 2.1660 - val_accuracy: 0.6970\n",
            "Epoch 71/5000\n",
            "\n",
            "Epoch 00071: val_accuracy did not improve from 0.69702\n",
            "101/101 - 0s - loss: 3.3219e-05 - accuracy: 1.0000 - val_loss: 2.1742 - val_accuracy: 0.6967\n",
            "Epoch 72/5000\n",
            "\n",
            "Epoch 00072: val_accuracy did not improve from 0.69702\n",
            "101/101 - 0s - loss: 3.0954e-05 - accuracy: 1.0000 - val_loss: 2.1826 - val_accuracy: 0.6961\n",
            "Epoch 73/5000\n",
            "\n",
            "Epoch 00073: val_accuracy did not improve from 0.69702\n",
            "101/101 - 0s - loss: 2.8881e-05 - accuracy: 1.0000 - val_loss: 2.1910 - val_accuracy: 0.6964\n",
            "Epoch 74/5000\n",
            "\n",
            "Epoch 00074: val_accuracy did not improve from 0.69702\n",
            "101/101 - 0s - loss: 2.6974e-05 - accuracy: 1.0000 - val_loss: 2.1991 - val_accuracy: 0.6967\n",
            "Epoch 75/5000\n",
            "\n",
            "Epoch 00075: val_accuracy did not improve from 0.69702\n",
            "101/101 - 0s - loss: 2.5220e-05 - accuracy: 1.0000 - val_loss: 2.2069 - val_accuracy: 0.6967\n",
            "Epoch 76/5000\n",
            "\n",
            "Epoch 00076: val_accuracy did not improve from 0.69702\n",
            "101/101 - 0s - loss: 2.3612e-05 - accuracy: 1.0000 - val_loss: 2.2150 - val_accuracy: 0.6967\n",
            "Epoch 77/5000\n",
            "\n",
            "Epoch 00077: val_accuracy did not improve from 0.69702\n",
            "101/101 - 0s - loss: 2.2110e-05 - accuracy: 1.0000 - val_loss: 2.2233 - val_accuracy: 0.6970\n",
            "Epoch 78/5000\n",
            "\n",
            "Epoch 00078: val_accuracy did not improve from 0.69702\n",
            "101/101 - 0s - loss: 2.0719e-05 - accuracy: 1.0000 - val_loss: 2.2313 - val_accuracy: 0.6970\n",
            "Epoch 79/5000\n",
            "\n",
            "Epoch 00079: val_accuracy improved from 0.69702 to 0.69762, saving model to best_model.h5\n",
            "101/101 - 0s - loss: 1.9423e-05 - accuracy: 1.0000 - val_loss: 2.2395 - val_accuracy: 0.6976\n",
            "Epoch 80/5000\n",
            "\n",
            "Epoch 00080: val_accuracy did not improve from 0.69762\n",
            "101/101 - 0s - loss: 1.8246e-05 - accuracy: 1.0000 - val_loss: 2.2482 - val_accuracy: 0.6967\n",
            "Epoch 81/5000\n",
            "\n",
            "Epoch 00081: val_accuracy did not improve from 0.69762\n",
            "101/101 - 0s - loss: 1.7114e-05 - accuracy: 1.0000 - val_loss: 2.2565 - val_accuracy: 0.6973\n",
            "Epoch 82/5000\n",
            "\n",
            "Epoch 00082: val_accuracy did not improve from 0.69762\n",
            "101/101 - 0s - loss: 1.6076e-05 - accuracy: 1.0000 - val_loss: 2.2654 - val_accuracy: 0.6967\n",
            "Epoch 83/5000\n",
            "\n",
            "Epoch 00083: val_accuracy did not improve from 0.69762\n",
            "101/101 - 0s - loss: 1.5069e-05 - accuracy: 1.0000 - val_loss: 2.2754 - val_accuracy: 0.6964\n",
            "Epoch 84/5000\n",
            "\n",
            "Epoch 00084: val_accuracy did not improve from 0.69762\n",
            "101/101 - 0s - loss: 1.4065e-05 - accuracy: 1.0000 - val_loss: 2.2893 - val_accuracy: 0.6976\n",
            "Epoch 85/5000\n",
            "\n",
            "Epoch 00085: val_accuracy improved from 0.69762 to 0.69851, saving model to best_model.h5\n",
            "101/101 - 0s - loss: 1.2746e-05 - accuracy: 1.0000 - val_loss: 2.3225 - val_accuracy: 0.6985\n",
            "Epoch 86/5000\n",
            "\n",
            "Epoch 00086: val_accuracy did not improve from 0.69851\n",
            "101/101 - 0s - loss: 1.0918e-05 - accuracy: 1.0000 - val_loss: 2.3652 - val_accuracy: 0.6985\n",
            "Epoch 87/5000\n",
            "\n",
            "Epoch 00087: val_accuracy improved from 0.69851 to 0.69911, saving model to best_model.h5\n",
            "101/101 - 0s - loss: 9.5349e-06 - accuracy: 1.0000 - val_loss: 2.3940 - val_accuracy: 0.6991\n",
            "Epoch 88/5000\n",
            "\n",
            "Epoch 00088: val_accuracy did not improve from 0.69911\n",
            "101/101 - 0s - loss: 8.7256e-06 - accuracy: 1.0000 - val_loss: 2.4046 - val_accuracy: 0.6979\n",
            "Epoch 89/5000\n",
            "\n",
            "Epoch 00089: val_accuracy did not improve from 0.69911\n",
            "101/101 - 0s - loss: 8.1007e-06 - accuracy: 1.0000 - val_loss: 2.4122 - val_accuracy: 0.6982\n",
            "Epoch 90/5000\n",
            "\n",
            "Epoch 00090: val_accuracy did not improve from 0.69911\n",
            "101/101 - 0s - loss: 7.6419e-06 - accuracy: 1.0000 - val_loss: 2.4195 - val_accuracy: 0.6979\n",
            "Epoch 91/5000\n",
            "\n",
            "Epoch 00091: val_accuracy did not improve from 0.69911\n",
            "101/101 - 0s - loss: 7.1986e-06 - accuracy: 1.0000 - val_loss: 2.4279 - val_accuracy: 0.6979\n",
            "Epoch 92/5000\n",
            "\n",
            "Epoch 00092: val_accuracy did not improve from 0.69911\n",
            "101/101 - 0s - loss: 6.8157e-06 - accuracy: 1.0000 - val_loss: 2.4323 - val_accuracy: 0.6988\n",
            "Epoch 93/5000\n",
            "\n",
            "Epoch 00093: val_accuracy did not improve from 0.69911\n",
            "101/101 - 0s - loss: 6.4680e-06 - accuracy: 1.0000 - val_loss: 2.4404 - val_accuracy: 0.6988\n",
            "Epoch 94/5000\n",
            "\n",
            "Epoch 00094: val_accuracy did not improve from 0.69911\n",
            "101/101 - 0s - loss: 6.1384e-06 - accuracy: 1.0000 - val_loss: 2.4447 - val_accuracy: 0.6991\n",
            "Epoch 95/5000\n",
            "\n",
            "Epoch 00095: val_accuracy did not improve from 0.69911\n",
            "101/101 - 0s - loss: 5.8457e-06 - accuracy: 1.0000 - val_loss: 2.4512 - val_accuracy: 0.6985\n",
            "Epoch 96/5000\n",
            "\n",
            "Epoch 00096: val_accuracy did not improve from 0.69911\n",
            "101/101 - 0s - loss: 5.5538e-06 - accuracy: 1.0000 - val_loss: 2.4584 - val_accuracy: 0.6985\n",
            "Epoch 97/5000\n",
            "\n",
            "Epoch 00097: val_accuracy did not improve from 0.69911\n",
            "101/101 - 0s - loss: 5.2845e-06 - accuracy: 1.0000 - val_loss: 2.4620 - val_accuracy: 0.6982\n",
            "Epoch 98/5000\n",
            "\n",
            "Epoch 00098: val_accuracy did not improve from 0.69911\n",
            "101/101 - 0s - loss: 5.0289e-06 - accuracy: 1.0000 - val_loss: 2.4677 - val_accuracy: 0.6988\n",
            "Epoch 99/5000\n",
            "\n",
            "Epoch 00099: val_accuracy did not improve from 0.69911\n",
            "101/101 - 0s - loss: 4.7940e-06 - accuracy: 1.0000 - val_loss: 2.4733 - val_accuracy: 0.6988\n",
            "Epoch 100/5000\n",
            "\n",
            "Epoch 00100: val_accuracy did not improve from 0.69911\n",
            "101/101 - 0s - loss: 4.5696e-06 - accuracy: 1.0000 - val_loss: 2.4795 - val_accuracy: 0.6982\n",
            "Epoch 101/5000\n",
            "\n",
            "Epoch 00101: val_accuracy did not improve from 0.69911\n",
            "101/101 - 0s - loss: 4.3529e-06 - accuracy: 1.0000 - val_loss: 2.4847 - val_accuracy: 0.6991\n",
            "Epoch 102/5000\n",
            "\n",
            "Epoch 00102: val_accuracy improved from 0.69911 to 0.69940, saving model to best_model.h5\n",
            "101/101 - 0s - loss: 4.1513e-06 - accuracy: 1.0000 - val_loss: 2.4908 - val_accuracy: 0.6994\n",
            "Epoch 103/5000\n",
            "\n",
            "Epoch 00103: val_accuracy did not improve from 0.69940\n",
            "101/101 - 0s - loss: 3.9567e-06 - accuracy: 1.0000 - val_loss: 2.4948 - val_accuracy: 0.6994\n",
            "Epoch 104/5000\n",
            "\n",
            "Epoch 00104: val_accuracy did not improve from 0.69940\n",
            "101/101 - 0s - loss: 3.7685e-06 - accuracy: 1.0000 - val_loss: 2.5019 - val_accuracy: 0.6991\n",
            "Epoch 105/5000\n",
            "\n",
            "Epoch 00105: val_accuracy did not improve from 0.69940\n",
            "101/101 - 0s - loss: 3.5919e-06 - accuracy: 1.0000 - val_loss: 2.5059 - val_accuracy: 0.6988\n",
            "Epoch 106/5000\n",
            "\n",
            "Epoch 00106: val_accuracy did not improve from 0.69940\n",
            "101/101 - 0s - loss: 3.4199e-06 - accuracy: 1.0000 - val_loss: 2.5127 - val_accuracy: 0.6991\n",
            "Epoch 107/5000\n",
            "\n",
            "Epoch 00107: val_accuracy did not improve from 0.69940\n",
            "101/101 - 0s - loss: 3.2632e-06 - accuracy: 1.0000 - val_loss: 2.5190 - val_accuracy: 0.6982\n",
            "Epoch 108/5000\n",
            "\n",
            "Epoch 00108: val_accuracy did not improve from 0.69940\n",
            "101/101 - 0s - loss: 3.1087e-06 - accuracy: 1.0000 - val_loss: 2.5235 - val_accuracy: 0.6982\n",
            "Epoch 109/5000\n",
            "\n",
            "Epoch 00109: val_accuracy did not improve from 0.69940\n",
            "101/101 - 0s - loss: 2.9628e-06 - accuracy: 1.0000 - val_loss: 2.5287 - val_accuracy: 0.6985\n",
            "Epoch 110/5000\n",
            "\n",
            "Epoch 00110: val_accuracy did not improve from 0.69940\n",
            "101/101 - 0s - loss: 2.8253e-06 - accuracy: 1.0000 - val_loss: 2.5350 - val_accuracy: 0.6982\n",
            "Epoch 111/5000\n",
            "\n",
            "Epoch 00111: val_accuracy did not improve from 0.69940\n",
            "101/101 - 0s - loss: 2.6909e-06 - accuracy: 1.0000 - val_loss: 2.5393 - val_accuracy: 0.6985\n",
            "Epoch 112/5000\n",
            "\n",
            "Epoch 00112: val_accuracy did not improve from 0.69940\n",
            "101/101 - 0s - loss: 2.5644e-06 - accuracy: 1.0000 - val_loss: 2.5463 - val_accuracy: 0.6982\n",
            "Epoch 113/5000\n",
            "\n",
            "Epoch 00113: val_accuracy did not improve from 0.69940\n",
            "101/101 - 0s - loss: 2.4445e-06 - accuracy: 1.0000 - val_loss: 2.5519 - val_accuracy: 0.6979\n",
            "Epoch 114/5000\n",
            "\n",
            "Epoch 00114: val_accuracy did not improve from 0.69940\n",
            "101/101 - 0s - loss: 2.3300e-06 - accuracy: 1.0000 - val_loss: 2.5577 - val_accuracy: 0.6982\n",
            "Epoch 115/5000\n",
            "\n",
            "Epoch 00115: val_accuracy did not improve from 0.69940\n",
            "101/101 - 0s - loss: 2.2202e-06 - accuracy: 1.0000 - val_loss: 2.5629 - val_accuracy: 0.6988\n",
            "Epoch 116/5000\n",
            "\n",
            "Epoch 00116: val_accuracy did not improve from 0.69940\n",
            "101/101 - 0s - loss: 2.1127e-06 - accuracy: 1.0000 - val_loss: 2.5684 - val_accuracy: 0.6991\n",
            "Epoch 117/5000\n",
            "\n",
            "Epoch 00117: val_accuracy improved from 0.69940 to 0.69970, saving model to best_model.h5\n",
            "101/101 - 0s - loss: 2.0128e-06 - accuracy: 1.0000 - val_loss: 2.5743 - val_accuracy: 0.6997\n",
            "Epoch 118/5000\n",
            "\n",
            "Epoch 00118: val_accuracy did not improve from 0.69970\n",
            "101/101 - 0s - loss: 1.9171e-06 - accuracy: 1.0000 - val_loss: 2.5804 - val_accuracy: 0.6997\n",
            "Epoch 119/5000\n",
            "\n",
            "Epoch 00119: val_accuracy did not improve from 0.69970\n",
            "101/101 - 0s - loss: 1.8258e-06 - accuracy: 1.0000 - val_loss: 2.5863 - val_accuracy: 0.6994\n",
            "Epoch 120/5000\n",
            "\n",
            "Epoch 00120: val_accuracy improved from 0.69970 to 0.70000, saving model to best_model.h5\n",
            "101/101 - 0s - loss: 1.7389e-06 - accuracy: 1.0000 - val_loss: 2.5923 - val_accuracy: 0.7000\n",
            "Epoch 121/5000\n",
            "\n",
            "Epoch 00121: val_accuracy did not improve from 0.70000\n",
            "101/101 - 0s - loss: 1.6556e-06 - accuracy: 1.0000 - val_loss: 2.5965 - val_accuracy: 0.7000\n",
            "Epoch 122/5000\n",
            "\n",
            "Epoch 00122: val_accuracy did not improve from 0.70000\n",
            "101/101 - 0s - loss: 1.5763e-06 - accuracy: 1.0000 - val_loss: 2.6049 - val_accuracy: 0.7000\n",
            "Epoch 123/5000\n",
            "\n",
            "Epoch 00123: val_accuracy did not improve from 0.70000\n",
            "101/101 - 0s - loss: 1.5009e-06 - accuracy: 1.0000 - val_loss: 2.6099 - val_accuracy: 0.7000\n",
            "Epoch 124/5000\n",
            "\n",
            "Epoch 00124: val_accuracy did not improve from 0.70000\n",
            "101/101 - 0s - loss: 1.4276e-06 - accuracy: 1.0000 - val_loss: 2.6161 - val_accuracy: 0.6997\n",
            "Epoch 125/5000\n",
            "\n",
            "Epoch 00125: val_accuracy did not improve from 0.70000\n",
            "101/101 - 0s - loss: 1.3594e-06 - accuracy: 1.0000 - val_loss: 2.6241 - val_accuracy: 0.6991\n",
            "Epoch 126/5000\n",
            "\n",
            "Epoch 00126: val_accuracy did not improve from 0.70000\n",
            "101/101 - 0s - loss: 1.2955e-06 - accuracy: 1.0000 - val_loss: 2.6285 - val_accuracy: 0.6997\n",
            "Epoch 127/5000\n",
            "\n",
            "Epoch 00127: val_accuracy did not improve from 0.70000\n",
            "101/101 - 0s - loss: 1.2324e-06 - accuracy: 1.0000 - val_loss: 2.6347 - val_accuracy: 0.7000\n",
            "Epoch 128/5000\n",
            "\n",
            "Epoch 00128: val_accuracy did not improve from 0.70000\n",
            "101/101 - 0s - loss: 1.1708e-06 - accuracy: 1.0000 - val_loss: 2.6407 - val_accuracy: 0.6994\n",
            "Epoch 129/5000\n",
            "\n",
            "Epoch 00129: val_accuracy did not improve from 0.70000\n",
            "101/101 - 0s - loss: 1.1144e-06 - accuracy: 1.0000 - val_loss: 2.6467 - val_accuracy: 0.6994\n",
            "Epoch 130/5000\n",
            "\n",
            "Epoch 00130: val_accuracy did not improve from 0.70000\n",
            "101/101 - 0s - loss: 1.0591e-06 - accuracy: 1.0000 - val_loss: 2.6525 - val_accuracy: 0.6991\n",
            "Epoch 131/5000\n",
            "\n",
            "Epoch 00131: val_accuracy did not improve from 0.70000\n",
            "101/101 - 0s - loss: 1.0069e-06 - accuracy: 1.0000 - val_loss: 2.6601 - val_accuracy: 0.6991\n",
            "Epoch 132/5000\n",
            "\n",
            "Epoch 00132: val_accuracy did not improve from 0.70000\n",
            "101/101 - 0s - loss: 9.5677e-07 - accuracy: 1.0000 - val_loss: 2.6654 - val_accuracy: 0.6991\n",
            "Epoch 133/5000\n",
            "\n",
            "Epoch 00133: val_accuracy did not improve from 0.70000\n",
            "101/101 - 0s - loss: 9.0994e-07 - accuracy: 1.0000 - val_loss: 2.6721 - val_accuracy: 0.6997\n",
            "Epoch 134/5000\n",
            "\n",
            "Epoch 00134: val_accuracy did not improve from 0.70000\n",
            "101/101 - 0s - loss: 8.6518e-07 - accuracy: 1.0000 - val_loss: 2.6784 - val_accuracy: 0.6994\n",
            "Epoch 135/5000\n",
            "\n",
            "Epoch 00135: val_accuracy did not improve from 0.70000\n",
            "101/101 - 0s - loss: 8.2210e-07 - accuracy: 1.0000 - val_loss: 2.6849 - val_accuracy: 0.6991\n",
            "Epoch 136/5000\n",
            "\n",
            "Epoch 00136: val_accuracy did not improve from 0.70000\n",
            "101/101 - 0s - loss: 7.8070e-07 - accuracy: 1.0000 - val_loss: 2.6909 - val_accuracy: 0.6988\n",
            "Epoch 137/5000\n",
            "\n",
            "Epoch 00137: val_accuracy did not improve from 0.70000\n",
            "101/101 - 0s - loss: 7.4289e-07 - accuracy: 1.0000 - val_loss: 2.6975 - val_accuracy: 0.6991\n",
            "Epoch 138/5000\n",
            "\n",
            "Epoch 00138: val_accuracy did not improve from 0.70000\n",
            "101/101 - 0s - loss: 7.0658e-07 - accuracy: 1.0000 - val_loss: 2.7049 - val_accuracy: 0.6988\n",
            "Epoch 139/5000\n",
            "\n",
            "Epoch 00139: val_accuracy did not improve from 0.70000\n",
            "101/101 - 0s - loss: 6.7203e-07 - accuracy: 1.0000 - val_loss: 2.7108 - val_accuracy: 0.6988\n",
            "Epoch 140/5000\n",
            "\n",
            "Epoch 00140: val_accuracy did not improve from 0.70000\n",
            "101/101 - 0s - loss: 6.3793e-07 - accuracy: 1.0000 - val_loss: 2.7165 - val_accuracy: 0.6988\n",
            "Epoch 141/5000\n",
            "\n",
            "Epoch 00141: val_accuracy did not improve from 0.70000\n",
            "101/101 - 0s - loss: 6.0614e-07 - accuracy: 1.0000 - val_loss: 2.7229 - val_accuracy: 0.6985\n",
            "Epoch 142/5000\n",
            "\n",
            "Epoch 00142: val_accuracy did not improve from 0.70000\n",
            "101/101 - 0s - loss: 5.7678e-07 - accuracy: 1.0000 - val_loss: 2.7300 - val_accuracy: 0.6985\n",
            "Epoch 143/5000\n",
            "\n",
            "Epoch 00143: val_accuracy did not improve from 0.70000\n",
            "101/101 - 0s - loss: 5.4790e-07 - accuracy: 1.0000 - val_loss: 2.7350 - val_accuracy: 0.6991\n",
            "Epoch 144/5000\n",
            "\n",
            "Epoch 00144: val_accuracy did not improve from 0.70000\n",
            "101/101 - 0s - loss: 5.2027e-07 - accuracy: 1.0000 - val_loss: 2.7416 - val_accuracy: 0.6994\n",
            "Epoch 145/5000\n",
            "\n",
            "Epoch 00145: val_accuracy did not improve from 0.70000\n",
            "101/101 - 0s - loss: 4.9515e-07 - accuracy: 1.0000 - val_loss: 2.7479 - val_accuracy: 0.6991\n",
            "Epoch 146/5000\n",
            "\n",
            "Epoch 00146: val_accuracy did not improve from 0.70000\n",
            "101/101 - 0s - loss: 4.7020e-07 - accuracy: 1.0000 - val_loss: 2.7549 - val_accuracy: 0.6991\n",
            "Epoch 147/5000\n",
            "\n",
            "Epoch 00147: val_accuracy did not improve from 0.70000\n",
            "101/101 - 0s - loss: 4.4648e-07 - accuracy: 1.0000 - val_loss: 2.7611 - val_accuracy: 0.6991\n",
            "Epoch 148/5000\n",
            "\n",
            "Epoch 00148: val_accuracy did not improve from 0.70000\n",
            "101/101 - 0s - loss: 4.2398e-07 - accuracy: 1.0000 - val_loss: 2.7672 - val_accuracy: 0.6991\n",
            "Epoch 149/5000\n",
            "\n",
            "Epoch 00149: val_accuracy did not improve from 0.70000\n",
            "101/101 - 0s - loss: 4.0291e-07 - accuracy: 1.0000 - val_loss: 2.7740 - val_accuracy: 0.6991\n",
            "Epoch 150/5000\n",
            "\n",
            "Epoch 00150: val_accuracy did not improve from 0.70000\n",
            "101/101 - 0s - loss: 3.8336e-07 - accuracy: 1.0000 - val_loss: 2.7802 - val_accuracy: 0.6994\n",
            "Epoch 151/5000\n",
            "\n",
            "Epoch 00151: val_accuracy did not improve from 0.70000\n",
            "101/101 - 0s - loss: 3.6385e-07 - accuracy: 1.0000 - val_loss: 2.7873 - val_accuracy: 0.6994\n",
            "Epoch 152/5000\n",
            "\n",
            "Epoch 00152: val_accuracy did not improve from 0.70000\n",
            "101/101 - 0s - loss: 3.4572e-07 - accuracy: 1.0000 - val_loss: 2.7936 - val_accuracy: 0.6994\n",
            "Epoch 153/5000\n",
            "\n",
            "Epoch 00153: val_accuracy did not improve from 0.70000\n",
            "101/101 - 0s - loss: 3.2844e-07 - accuracy: 1.0000 - val_loss: 2.7997 - val_accuracy: 0.6997\n",
            "Epoch 154/5000\n",
            "\n",
            "Epoch 00154: val_accuracy did not improve from 0.70000\n",
            "101/101 - 0s - loss: 3.1153e-07 - accuracy: 1.0000 - val_loss: 2.8067 - val_accuracy: 0.7000\n",
            "Epoch 155/5000\n",
            "\n",
            "Epoch 00155: val_accuracy did not improve from 0.70000\n",
            "101/101 - 0s - loss: 2.9608e-07 - accuracy: 1.0000 - val_loss: 2.8133 - val_accuracy: 0.7000\n",
            "Epoch 156/5000\n",
            "\n",
            "Epoch 00156: val_accuracy did not improve from 0.70000\n",
            "101/101 - 0s - loss: 2.8121e-07 - accuracy: 1.0000 - val_loss: 2.8197 - val_accuracy: 0.6994\n",
            "Epoch 157/5000\n",
            "\n",
            "Epoch 00157: val_accuracy did not improve from 0.70000\n",
            "101/101 - 0s - loss: 2.6726e-07 - accuracy: 1.0000 - val_loss: 2.8260 - val_accuracy: 0.6997\n",
            "Epoch 158/5000\n",
            "\n",
            "Epoch 00158: val_accuracy did not improve from 0.70000\n",
            "101/101 - 0s - loss: 2.5358e-07 - accuracy: 1.0000 - val_loss: 2.8327 - val_accuracy: 0.6994\n",
            "Epoch 159/5000\n",
            "\n",
            "Epoch 00159: val_accuracy did not improve from 0.70000\n",
            "101/101 - 0s - loss: 2.4116e-07 - accuracy: 1.0000 - val_loss: 2.8395 - val_accuracy: 0.6994\n",
            "Epoch 160/5000\n",
            "\n",
            "Epoch 00160: val_accuracy did not improve from 0.70000\n",
            "101/101 - 0s - loss: 2.2841e-07 - accuracy: 1.0000 - val_loss: 2.8457 - val_accuracy: 0.6997\n",
            "Epoch 161/5000\n",
            "\n",
            "Epoch 00161: val_accuracy did not improve from 0.70000\n",
            "101/101 - 0s - loss: 2.1655e-07 - accuracy: 1.0000 - val_loss: 2.8521 - val_accuracy: 0.6997\n",
            "Epoch 162/5000\n",
            "\n",
            "Epoch 00162: val_accuracy did not improve from 0.70000\n",
            "101/101 - 0s - loss: 2.0519e-07 - accuracy: 1.0000 - val_loss: 2.8588 - val_accuracy: 0.6994\n",
            "Epoch 163/5000\n",
            "\n",
            "Epoch 00163: val_accuracy did not improve from 0.70000\n",
            "101/101 - 0s - loss: 1.9518e-07 - accuracy: 1.0000 - val_loss: 2.8655 - val_accuracy: 0.6994\n",
            "Epoch 164/5000\n",
            "\n",
            "Epoch 00164: val_accuracy did not improve from 0.70000\n",
            "101/101 - 0s - loss: 1.8552e-07 - accuracy: 1.0000 - val_loss: 2.8719 - val_accuracy: 0.6994\n",
            "Epoch 165/5000\n",
            "\n",
            "Epoch 00165: val_accuracy did not improve from 0.70000\n",
            "101/101 - 0s - loss: 1.7638e-07 - accuracy: 1.0000 - val_loss: 2.8788 - val_accuracy: 0.6997\n",
            "Epoch 166/5000\n",
            "\n",
            "Epoch 00166: val_accuracy did not improve from 0.70000\n",
            "101/101 - 0s - loss: 1.6737e-07 - accuracy: 1.0000 - val_loss: 2.8855 - val_accuracy: 0.7000\n",
            "Epoch 167/5000\n",
            "\n",
            "Epoch 00167: val_accuracy did not improve from 0.70000\n",
            "101/101 - 0s - loss: 1.5873e-07 - accuracy: 1.0000 - val_loss: 2.8915 - val_accuracy: 0.7000\n",
            "Epoch 168/5000\n",
            "\n",
            "Epoch 00168: val_accuracy did not improve from 0.70000\n",
            "101/101 - 0s - loss: 1.5057e-07 - accuracy: 1.0000 - val_loss: 2.8979 - val_accuracy: 0.7000\n",
            "Epoch 169/5000\n",
            "\n",
            "Epoch 00169: val_accuracy did not improve from 0.70000\n",
            "101/101 - 0s - loss: 1.4330e-07 - accuracy: 1.0000 - val_loss: 2.9050 - val_accuracy: 0.6997\n",
            "Epoch 170/5000\n",
            "\n",
            "Epoch 00170: val_accuracy did not improve from 0.70000\n",
            "101/101 - 0s - loss: 1.3629e-07 - accuracy: 1.0000 - val_loss: 2.9109 - val_accuracy: 0.6997\n",
            "Epoch 171/5000\n",
            "\n",
            "Epoch 00171: val_accuracy did not improve from 0.70000\n",
            "101/101 - 0s - loss: 1.2927e-07 - accuracy: 1.0000 - val_loss: 2.9181 - val_accuracy: 0.6997\n",
            "Epoch 172/5000\n",
            "\n",
            "Epoch 00172: val_accuracy did not improve from 0.70000\n",
            "101/101 - 0s - loss: 1.2241e-07 - accuracy: 1.0000 - val_loss: 2.9245 - val_accuracy: 0.6997\n",
            "Epoch 173/5000\n",
            "\n",
            "Epoch 00173: val_accuracy did not improve from 0.70000\n",
            "101/101 - 0s - loss: 1.1622e-07 - accuracy: 1.0000 - val_loss: 2.9305 - val_accuracy: 0.6994\n",
            "Epoch 174/5000\n",
            "\n",
            "Epoch 00174: val_accuracy did not improve from 0.70000\n",
            "101/101 - 0s - loss: 1.1086e-07 - accuracy: 1.0000 - val_loss: 2.9375 - val_accuracy: 0.6997\n",
            "Epoch 175/5000\n",
            "\n",
            "Epoch 00175: val_accuracy did not improve from 0.70000\n",
            "101/101 - 0s - loss: 1.0509e-07 - accuracy: 1.0000 - val_loss: 2.9436 - val_accuracy: 0.6994\n",
            "Epoch 176/5000\n",
            "\n",
            "Epoch 00176: val_accuracy did not improve from 0.70000\n",
            "101/101 - 0s - loss: 9.9826e-08 - accuracy: 1.0000 - val_loss: 2.9500 - val_accuracy: 0.6994\n",
            "Epoch 177/5000\n",
            "\n",
            "Epoch 00177: val_accuracy did not improve from 0.70000\n",
            "101/101 - 0s - loss: 9.4658e-08 - accuracy: 1.0000 - val_loss: 2.9571 - val_accuracy: 0.6994\n",
            "Epoch 178/5000\n",
            "\n",
            "Epoch 00178: val_accuracy did not improve from 0.70000\n",
            "101/101 - 0s - loss: 9.0093e-08 - accuracy: 1.0000 - val_loss: 2.9635 - val_accuracy: 0.6994\n",
            "Epoch 179/5000\n",
            "\n",
            "Epoch 00179: val_accuracy did not improve from 0.70000\n",
            "101/101 - 0s - loss: 8.5540e-08 - accuracy: 1.0000 - val_loss: 2.9701 - val_accuracy: 0.6991\n",
            "Epoch 180/5000\n",
            "\n",
            "Epoch 00180: val_accuracy did not improve from 0.70000\n",
            "101/101 - 0s - loss: 8.0927e-08 - accuracy: 1.0000 - val_loss: 2.9764 - val_accuracy: 0.6991\n",
            "Epoch 181/5000\n",
            "\n",
            "Epoch 00181: val_accuracy did not improve from 0.70000\n",
            "101/101 - 0s - loss: 7.6528e-08 - accuracy: 1.0000 - val_loss: 2.9827 - val_accuracy: 0.6994\n",
            "Epoch 182/5000\n",
            "\n",
            "Epoch 00182: val_accuracy did not improve from 0.70000\n",
            "101/101 - 0s - loss: 7.2720e-08 - accuracy: 1.0000 - val_loss: 2.9892 - val_accuracy: 0.6994\n",
            "Epoch 183/5000\n",
            "\n",
            "Epoch 00183: val_accuracy did not improve from 0.70000\n",
            "101/101 - 0s - loss: 6.9314e-08 - accuracy: 1.0000 - val_loss: 2.9958 - val_accuracy: 0.6991\n",
            "Epoch 184/5000\n",
            "\n",
            "Epoch 00184: val_accuracy did not improve from 0.70000\n",
            "101/101 - 0s - loss: 6.5825e-08 - accuracy: 1.0000 - val_loss: 3.0016 - val_accuracy: 0.6994\n",
            "Epoch 185/5000\n",
            "\n",
            "Epoch 00185: val_accuracy did not improve from 0.70000\n",
            "101/101 - 0s - loss: 6.2242e-08 - accuracy: 1.0000 - val_loss: 3.0082 - val_accuracy: 0.6991\n",
            "Epoch 186/5000\n",
            "\n",
            "Epoch 00186: val_accuracy did not improve from 0.70000\n",
            "101/101 - 0s - loss: 5.9061e-08 - accuracy: 1.0000 - val_loss: 3.0143 - val_accuracy: 0.7000\n",
            "Epoch 187/5000\n",
            "\n",
            "Epoch 00187: val_accuracy did not improve from 0.70000\n",
            "101/101 - 0s - loss: 5.6222e-08 - accuracy: 1.0000 - val_loss: 3.0207 - val_accuracy: 0.7000\n",
            "Epoch 188/5000\n",
            "\n",
            "Epoch 00188: val_accuracy improved from 0.70000 to 0.70060, saving model to best_model.h5\n",
            "101/101 - 0s - loss: 5.3561e-08 - accuracy: 1.0000 - val_loss: 3.0270 - val_accuracy: 0.7006\n",
            "Epoch 189/5000\n",
            "\n",
            "Epoch 00189: val_accuracy did not improve from 0.70060\n",
            "101/101 - 0s - loss: 5.0983e-08 - accuracy: 1.0000 - val_loss: 3.0333 - val_accuracy: 0.7006\n",
            "Epoch 190/5000\n",
            "\n",
            "Epoch 00190: val_accuracy improved from 0.70060 to 0.70089, saving model to best_model.h5\n",
            "101/101 - 0s - loss: 4.8464e-08 - accuracy: 1.0000 - val_loss: 3.0397 - val_accuracy: 0.7009\n",
            "Epoch 191/5000\n",
            "\n",
            "Epoch 00191: val_accuracy did not improve from 0.70089\n",
            "101/101 - 0s - loss: 4.6004e-08 - accuracy: 1.0000 - val_loss: 3.0460 - val_accuracy: 0.7009\n",
            "Epoch 192/5000\n",
            "\n",
            "Epoch 00192: val_accuracy improved from 0.70089 to 0.70119, saving model to best_model.h5\n",
            "101/101 - 0s - loss: 4.3474e-08 - accuracy: 1.0000 - val_loss: 3.0524 - val_accuracy: 0.7012\n",
            "Epoch 193/5000\n",
            "\n",
            "Epoch 00193: val_accuracy did not improve from 0.70119\n",
            "101/101 - 0s - loss: 4.1238e-08 - accuracy: 1.0000 - val_loss: 3.0582 - val_accuracy: 0.7009\n",
            "Epoch 194/5000\n",
            "\n",
            "Epoch 00194: val_accuracy did not improve from 0.70119\n",
            "101/101 - 0s - loss: 3.9003e-08 - accuracy: 1.0000 - val_loss: 3.0645 - val_accuracy: 0.7009\n",
            "Epoch 195/5000\n",
            "\n",
            "Epoch 00195: val_accuracy did not improve from 0.70119\n",
            "101/101 - 0s - loss: 3.7076e-08 - accuracy: 1.0000 - val_loss: 3.0706 - val_accuracy: 0.7009\n",
            "Epoch 196/5000\n",
            "\n",
            "Epoch 00196: val_accuracy did not improve from 0.70119\n",
            "101/101 - 0s - loss: 3.4935e-08 - accuracy: 1.0000 - val_loss: 3.0766 - val_accuracy: 0.7006\n",
            "Epoch 197/5000\n",
            "\n",
            "Epoch 00197: val_accuracy did not improve from 0.70119\n",
            "101/101 - 0s - loss: 3.3232e-08 - accuracy: 1.0000 - val_loss: 3.0824 - val_accuracy: 0.7006\n",
            "Epoch 198/5000\n",
            "\n",
            "Epoch 00198: val_accuracy did not improve from 0.70119\n",
            "101/101 - 0s - loss: 3.1316e-08 - accuracy: 1.0000 - val_loss: 3.0880 - val_accuracy: 0.7009\n",
            "Epoch 199/5000\n",
            "\n",
            "Epoch 00199: val_accuracy did not improve from 0.70119\n",
            "101/101 - 0s - loss: 2.9861e-08 - accuracy: 1.0000 - val_loss: 3.0941 - val_accuracy: 0.7009\n",
            "Epoch 200/5000\n",
            "\n",
            "Epoch 00200: val_accuracy did not improve from 0.70119\n",
            "101/101 - 0s - loss: 2.8501e-08 - accuracy: 1.0000 - val_loss: 3.0990 - val_accuracy: 0.7006\n",
            "Epoch 201/5000\n",
            "\n",
            "Epoch 00201: val_accuracy did not improve from 0.70119\n",
            "101/101 - 0s - loss: 2.6999e-08 - accuracy: 1.0000 - val_loss: 3.1052 - val_accuracy: 0.7009\n",
            "Epoch 202/5000\n",
            "\n",
            "Epoch 00202: val_accuracy did not improve from 0.70119\n",
            "101/101 - 0s - loss: 2.5533e-08 - accuracy: 1.0000 - val_loss: 3.1102 - val_accuracy: 0.7012\n",
            "Epoch 203/5000\n",
            "\n",
            "Epoch 00203: val_accuracy did not improve from 0.70119\n",
            "101/101 - 0s - loss: 2.4220e-08 - accuracy: 1.0000 - val_loss: 3.1166 - val_accuracy: 0.7009\n",
            "Epoch 00203: early stopping\n"
          ],
          "name": "stdout"
        }
      ]
    },
    {
      "cell_type": "markdown",
      "metadata": {
        "id": "sK1cIm1jn_42"
      },
      "source": [
        "## Saving and loading model"
      ]
    },
    {
      "cell_type": "code",
      "metadata": {
        "id": "_fwg0ztNZipp"
      },
      "source": [
        "saved_model = load_model('best_model.h5')"
      ],
      "execution_count": null,
      "outputs": []
    },
    {
      "cell_type": "code",
      "metadata": {
        "id": "jua2r1tbrA9U"
      },
      "source": [
        "from tensorflow import keras\n",
        "model = keras.models.load_model('best_model.h5')"
      ],
      "execution_count": null,
      "outputs": []
    },
    {
      "cell_type": "code",
      "metadata": {
        "id": "4GslvpSjfRpu"
      },
      "source": [
        "y_test = to_categorical(test_label)"
      ],
      "execution_count": null,
      "outputs": []
    },
    {
      "cell_type": "code",
      "metadata": {
        "id": "Vcvc4T5mZisx",
        "colab": {
          "base_uri": "https://localhost:8080/"
        },
        "outputId": "86dce8aa-bc35-422f-c4eb-50d6460ba0e2"
      },
      "source": [
        "_, test_acc = saved_model.evaluate(test_data, y_test, verbose=2)\n",
        "print('Test: %.3f' % ( test_acc))"
      ],
      "execution_count": null,
      "outputs": [
        {
          "output_type": "stream",
          "text": [
            "105/105 - 0s - loss: 2.2062 - accuracy: 0.7792\n",
            "Test: 0.779\n"
          ],
          "name": "stdout"
        }
      ]
    },
    {
      "cell_type": "code",
      "metadata": {
        "id": "bAgH8PoTfsIA"
      },
      "source": [
        "predictions = model.predict(test_data)\n",
        "predictions = np.argmax(predictions,axis = 1)"
      ],
      "execution_count": null,
      "outputs": []
    },
    {
      "cell_type": "code",
      "metadata": {
        "id": "CGOpKi2pfsLe"
      },
      "source": [
        "from sklearn.metrics import confusion_matrix"
      ],
      "execution_count": null,
      "outputs": []
    },
    {
      "cell_type": "code",
      "metadata": {
        "id": "9vOhznNyf4lq"
      },
      "source": [
        "cm = confusion_matrix(test_label, predictions)"
      ],
      "execution_count": null,
      "outputs": []
    },
    {
      "cell_type": "code",
      "metadata": {
        "colab": {
          "base_uri": "https://localhost:8080/"
        },
        "id": "u5U98j76f4pH",
        "outputId": "991b529f-ea27-4a2d-a259-20b1af34c461"
      },
      "source": [
        "accuracy = sum(cm[i][i] for i in range(28)) / test_label.shape[0]\n",
        "print(\"accuracy = \" + str(accuracy))"
      ],
      "execution_count": null,
      "outputs": [
        {
          "output_type": "stream",
          "text": [
            "accuracy = 0.7773809523809524\n"
          ],
          "name": "stdout"
        }
      ]
    },
    {
      "cell_type": "markdown",
      "metadata": {
        "id": "d3KEoTASqRTv"
      },
      "source": [
        "### Screenshot"
      ]
    },
    {
      "cell_type": "markdown",
      "metadata": {
        "id": "pwrG6O_SqMX2"
      },
      "source": [
        "![image.png](data:image/png;base64,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)"
      ]
    },
    {
      "cell_type": "markdown",
      "metadata": {
        "id": "0KyJ7pG_qnO0"
      },
      "source": [
        "## Plots"
      ]
    },
    {
      "cell_type": "code",
      "metadata": {
        "colab": {
          "base_uri": "https://localhost:8080/",
          "height": 911
        },
        "id": "_r21AXf7qmjT",
        "outputId": "214d8c98-3af0-4048-e912-cca2e99d1745"
      },
      "source": [
        "plt.figure(figsize = (10,7))\n",
        "plt.plot(history.history['accuracy'], color = 'blue')\n",
        "plt.plot(history.history['val_accuracy'], color = 'red')\n",
        "plt.title('Model accuracy')\n",
        "plt.ylabel('Accuracy')\n",
        "plt.xlabel('Epoch')\n",
        "plt.legend(['Train', 'Validation'], loc='upper left')\n",
        "plt.show()\n",
        "\n",
        "plt.figure(figsize = (10,7))\n",
        "plt.plot(history.history['loss'], color = 'blue')\n",
        "plt.plot(history.history['val_loss'], color = 'red')\n",
        "plt.ylim((0,1))\n",
        "plt.title('Model loss')\n",
        "plt.ylabel('Loss')\n",
        "plt.xlabel('Epoch')\n",
        "plt.legend(['Train', 'Validation'], loc='upper left')\n",
        "plt.show()"
      ],
      "execution_count": null,
      "outputs": [
        {
          "output_type": "display_data",
          "data": {
            "image/png": "[encoded data removed]",
            "text/plain": [
              "<Figure size 720x504 with 1 Axes>"
            ]
          },
          "metadata": {
            "tags": [],
            "needs_background": "light"
          }
        },
        {
          "output_type": "display_data",
          "data": {
            "image/png": "[encoded data removed]",
            "text/plain": [
              "<Figure size 720x504 with 1 Axes>"
            ]
          },
          "metadata": {
            "tags": [],
            "needs_background": "light"
          }
        }
      ]
    },
    {
      "cell_type": "code",
      "metadata": {
        "colab": {
          "base_uri": "https://localhost:8080/"
        },
        "id": "Mx4RqdJDryTd",
        "outputId": "c9da5b53-889b-4373-a27c-adbcd4f67015"
      },
      "source": [
        "predictions = model.predict(test_data)\n",
        "predictions = np.argmax(predictions,axis = 1)\n",
        "predictions"
      ],
      "execution_count": null,
      "outputs": [
        {
          "output_type": "execute_result",
          "data": {
            "text/plain": [
              "array([ 0,  0,  1, ..., 26, 27, 27])"
            ]
          },
          "metadata": {
            "tags": []
          },
          "execution_count": 50
        }
      ]
    },
    {
      "cell_type": "markdown",
      "metadata": {
        "id": "tvCpsR-QqzY9"
      },
      "source": [
        "## Precision and Recall"
      ]
    },
    {
      "cell_type": "code",
      "metadata": {
        "id": "1PB_quMWZiwf",
        "colab": {
          "base_uri": "https://localhost:8080/"
        },
        "outputId": "ffa01d9d-1647-4b65-dcf7-84e6b692cbaa"
      },
      "source": [
        "from sklearn.metrics import precision_score, recall_score\n",
        "print('precision score - ',precision_score(test_label, predictions, average=\"macro\"))\n",
        "print('recall score - ', recall_score(test_label, predictions, average=\"macro\"))  "
      ],
      "execution_count": null,
      "outputs": [
        {
          "output_type": "stream",
          "text": [
            "precision score -  0.04243788412597058\n",
            "recall score -  0.043965517241379315\n"
          ],
          "name": "stdout"
        }
      ]
    },
    {
      "cell_type": "markdown",
      "metadata": {
        "id": "ycHhWVBIt-uo"
      },
      "source": [
        "# Flowers"
      ]
    },
    {
      "cell_type": "markdown",
      "metadata": {
        "id": "QFHppjZ7y6Yd"
      },
      "source": [
        "## Loading Data"
      ]
    },
    {
      "cell_type": "code",
      "metadata": {
        "id": "wh1YUun9Zi6B"
      },
      "source": [
        "# Ignore  the warnings\n",
        "import warnings\n",
        "warnings.filterwarnings('always')\n",
        "warnings.filterwarnings('ignore')\n",
        "\n",
        "# data visualisation and manipulation\n",
        "import numpy as np\n",
        "import pandas as pd\n",
        "import matplotlib.pyplot as plt\n",
        "from matplotlib import style\n",
        "import seaborn as sns\n",
        " \n",
        "#configure\n",
        "# sets matplotlib to inline and displays graphs below the corressponding cell.\n",
        "%matplotlib inline  \n",
        "style.use('fivethirtyeight')\n",
        "sns.set(style='whitegrid',color_codes=True)\n",
        "\n",
        "#model selection\n",
        "from sklearn.model_selection import train_test_split\n",
        "from sklearn.model_selection import KFold\n",
        "from sklearn.metrics import accuracy_score,precision_score,recall_score,confusion_matrix,roc_curve,roc_auc_score\n",
        "from sklearn.model_selection import GridSearchCV\n",
        "from sklearn.preprocessing import LabelEncoder\n",
        "\n",
        "#preprocess.\n",
        "from keras.preprocessing.image import ImageDataGenerator\n",
        "\n",
        "#dl libraraies\n",
        "from keras import backend as K\n",
        "from keras.models import Sequential\n",
        "from keras.layers import Dense\n",
        "from keras.optimizers import Adam,SGD,Adagrad,Adadelta,RMSprop\n",
        "from keras.utils import to_categorical\n",
        "\n",
        "# specifically for cnn\n",
        "from keras.layers import Dropout, Flatten,Activation\n",
        "from keras.layers import Conv2D, MaxPooling2D, BatchNormalization\n",
        " \n",
        "import tensorflow as tf\n",
        "import random as rn\n",
        "\n",
        "# specifically for manipulating zipped images and getting numpy arrays of pixel values of images.\n",
        "import cv2                  \n",
        "import numpy as np  \n",
        "from tqdm import tqdm\n",
        "import os                   \n",
        "from random import shuffle  \n",
        "from zipfile import ZipFile\n",
        "from PIL import Image"
      ],
      "execution_count": null,
      "outputs": []
    },
    {
      "cell_type": "code",
      "metadata": {
        "colab": {
          "base_uri": "https://localhost:8080/"
        },
        "id": "_WiH9z_6xG6P",
        "outputId": "342552d1-e1bf-4dc8-b2c4-758d254be28e"
      },
      "source": [
        "!wget http://upscfever.com/datasets/flowers-new.zip -P drive/app\n",
        "import os\n",
        "os.chdir('drive/app')  #change dir\n",
        "!unzip -q flowers-new.zip  #unzip data in test/"
      ],
      "execution_count": null,
      "outputs": [
        {
          "output_type": "stream",
          "text": [
            "--2020-12-03 12:46:25--  http://upscfever.com/datasets/flowers-new.zip\n",
            "Resolving upscfever.com (upscfever.com)... 104.27.176.133, 104.27.177.133, 172.67.193.2, ...\n",
            "Connecting to upscfever.com (upscfever.com)|104.27.176.133|:80... connected.\n",
            "HTTP request sent, awaiting response... 301 Moved Permanently\n",
            "Location: https://upscfever.com/datasets/flowers-new.zip [following]\n",
            "--2020-12-03 12:46:25--  https://upscfever.com/datasets/flowers-new.zip\n",
            "Connecting to upscfever.com (upscfever.com)|104.27.176.133|:443... connected.\n",
            "HTTP request sent, awaiting response... 200 OK\n",
            "Length: unspecified [application/zip]\n",
            "Saving to: ‘drive/app/flowers-new.zip’\n",
            "\n",
            "flowers-new.zip         [     <=>            ]   5.74M   374KB/s    in 18s     \n",
            "\n",
            "2020-12-03 12:46:45 (319 KB/s) - ‘drive/app/flowers-new.zip’ saved [6021364]\n",
            "\n"
          ],
          "name": "stdout"
        }
      ]
    },
    {
      "cell_type": "code",
      "metadata": {
        "id": "tirnmo2xxG9b"
      },
      "source": [
        "X=[]\n",
        "Z=[]\n",
        "IMG_SIZE=150\n",
        "FLOWER_DAISY_DIR='flowers/daisy'\n",
        "FLOWER_SUNFLOWER_DIR='flowers/sunflower'\n",
        "FLOWER_TULIP_DIR='flowers/tulip'\n",
        "FLOWER_DANDI_DIR='flowers/dandelion'\n",
        "FLOWER_ROSE_DIR='flowers/rose'"
      ],
      "execution_count": null,
      "outputs": []
    },
    {
      "cell_type": "code",
      "metadata": {
        "id": "JMk9kr6hxHAH"
      },
      "source": [
        "def assign_label(img,flower_type):\n",
        "    return flower_type"
      ],
      "execution_count": null,
      "outputs": []
    },
    {
      "cell_type": "code",
      "metadata": {
        "id": "QmKanqLVxHDL"
      },
      "source": [
        "def make_train_data(flower_type,DIR):\n",
        "    for img in tqdm(os.listdir(DIR)):\n",
        "        label=assign_label(img,flower_type)\n",
        "        path = os.path.join(DIR,img)\n",
        "        img = cv2.imread(path,cv2.IMREAD_COLOR)\n",
        "        img = cv2.resize(img, (IMG_SIZE,IMG_SIZE))\n",
        "        \n",
        "        X.append(np.array(img))\n",
        "        Z.append(str(label))"
      ],
      "execution_count": null,
      "outputs": []
    },
    {
      "cell_type": "code",
      "metadata": {
        "colab": {
          "base_uri": "https://localhost:8080/"
        },
        "id": "U--6qzzXxHGH",
        "outputId": "7ac2ebb0-4f20-4624-8574-8d86d34ff5a1"
      },
      "source": [
        "make_train_data('Daisy',FLOWER_DAISY_DIR)\n",
        "print(len(X))"
      ],
      "execution_count": null,
      "outputs": [
        {
          "output_type": "stream",
          "text": [
            "100%|██████████| 13/13 [00:00<00:00, 213.22it/s]"
          ],
          "name": "stderr"
        },
        {
          "output_type": "stream",
          "text": [
            "13\n"
          ],
          "name": "stdout"
        },
        {
          "output_type": "stream",
          "text": [
            "\n"
          ],
          "name": "stderr"
        }
      ]
    },
    {
      "cell_type": "code",
      "metadata": {
        "colab": {
          "base_uri": "https://localhost:8080/"
        },
        "id": "ywidH3b7xHJD",
        "outputId": "8390ae6d-7624-4c20-e389-7f6fe41348d7"
      },
      "source": [
        "make_train_data('Dandelion',FLOWER_DANDI_DIR)\n",
        "print(len(X))"
      ],
      "execution_count": null,
      "outputs": [
        {
          "output_type": "stream",
          "text": [
            "100%|██████████| 26/26 [00:00<00:00, 426.33it/s]"
          ],
          "name": "stderr"
        },
        {
          "output_type": "stream",
          "text": [
            "39\n"
          ],
          "name": "stdout"
        },
        {
          "output_type": "stream",
          "text": [
            "\n"
          ],
          "name": "stderr"
        }
      ]
    },
    {
      "cell_type": "code",
      "metadata": {
        "colab": {
          "base_uri": "https://localhost:8080/"
        },
        "id": "kQlU0uJMxHOo",
        "outputId": "7432cc3f-ac0d-44c7-fefe-2f83f9159101"
      },
      "source": [
        "make_train_data('Sunflower',FLOWER_SUNFLOWER_DIR)\n",
        "print(len(X))"
      ],
      "execution_count": null,
      "outputs": [
        {
          "output_type": "stream",
          "text": [
            "100%|██████████| 26/26 [00:00<00:00, 394.73it/s]"
          ],
          "name": "stderr"
        },
        {
          "output_type": "stream",
          "text": [
            "65\n"
          ],
          "name": "stdout"
        },
        {
          "output_type": "stream",
          "text": [
            "\n"
          ],
          "name": "stderr"
        }
      ]
    },
    {
      "cell_type": "code",
      "metadata": {
        "colab": {
          "base_uri": "https://localhost:8080/"
        },
        "id": "fbElQN8RxHRj",
        "outputId": "96aae898-ae7a-461e-d79d-b6b31ac78551"
      },
      "source": [
        "make_train_data('Tulip',FLOWER_TULIP_DIR)\n",
        "print(len(X))"
      ],
      "execution_count": null,
      "outputs": [
        {
          "output_type": "stream",
          "text": [
            "100%|██████████| 26/26 [00:00<00:00, 389.41it/s]"
          ],
          "name": "stderr"
        },
        {
          "output_type": "stream",
          "text": [
            "91\n"
          ],
          "name": "stdout"
        },
        {
          "output_type": "stream",
          "text": [
            "\n"
          ],
          "name": "stderr"
        }
      ]
    },
    {
      "cell_type": "code",
      "metadata": {
        "colab": {
          "base_uri": "https://localhost:8080/"
        },
        "id": "2m_aeOywxHVi",
        "outputId": "c3063838-e5ac-4b73-c54b-9afc811f9d4f"
      },
      "source": [
        "make_train_data('Rose',FLOWER_ROSE_DIR)\n",
        "print(len(X))"
      ],
      "execution_count": null,
      "outputs": [
        {
          "output_type": "stream",
          "text": [
            "100%|██████████| 26/26 [00:00<00:00, 384.52it/s]"
          ],
          "name": "stderr"
        },
        {
          "output_type": "stream",
          "text": [
            "117\n"
          ],
          "name": "stdout"
        },
        {
          "output_type": "stream",
          "text": [
            "\n"
          ],
          "name": "stderr"
        }
      ]
    },
    {
      "cell_type": "code",
      "metadata": {
        "id": "OCSPtTtKxHNP"
      },
      "source": [
        "le=LabelEncoder()\n",
        "Y=le.fit_transform(Z)\n",
        "Y=to_categorical(Y,5)\n",
        "X=np.array(X)\n",
        "X=X/255"
      ],
      "execution_count": null,
      "outputs": []
    },
    {
      "cell_type": "code",
      "metadata": {
        "id": "iBWDPgqbysaK"
      },
      "source": [
        "x_train,x_test,y_train,y_test=train_test_split(X,Y,test_size=0.25,random_state=42)"
      ],
      "execution_count": null,
      "outputs": []
    },
    {
      "cell_type": "markdown",
      "metadata": {
        "id": "VCUYZNg4yxAe"
      },
      "source": [
        "## Building ANN\n"
      ]
    },
    {
      "cell_type": "code",
      "metadata": {
        "id": "0sySZPpuysdO"
      },
      "source": [
        "from keras import models\n",
        "from keras import layers\n",
        "from keras import optimizers\n",
        "from keras.utils import to_categorical\n",
        "from keras.callbacks import EarlyStopping\n",
        "from keras.callbacks import ModelCheckpoint\n",
        "from keras.models import load_model\n",
        "from sklearn.preprocessing import LabelEncoder, StandardScaler"
      ],
      "execution_count": null,
      "outputs": []
    },
    {
      "cell_type": "code",
      "metadata": {
        "colab": {
          "base_uri": "https://localhost:8080/"
        },
        "id": "pOeVnOU_ysgm",
        "outputId": "0271aa91-466a-494e-9076-4f7dc9a222cf"
      },
      "source": [
        "nn = models.Sequential()\n",
        "nn.add(layers.Flatten(input_shape=(150,150,3)))\n",
        "nn.add(layers.Dense(1024, activation=\"relu\"))\n",
        "nn.add(layers.Dense(512, activation=\"relu\"))\n",
        "nn.add(layers.Dense(128, activation=\"relu\"))\n",
        "nn.add(layers.Dense(64, activation=\"relu\"))\n",
        "nn.add(layers.Dense(5, activation=\"softmax\"))\n",
        "\n",
        "nn.summary()"
      ],
      "execution_count": null,
      "outputs": [
        {
          "output_type": "stream",
          "text": [
            "Model: \"sequential_1\"\n",
            "_________________________________________________________________\n",
            "Layer (type)                 Output Shape              Param #   \n",
            "=================================================================\n",
            "flatten_1 (Flatten)          (None, 67500)             0         \n",
            "_________________________________________________________________\n",
            "dense_5 (Dense)              (None, 1024)              69121024  \n",
            "_________________________________________________________________\n",
            "dense_6 (Dense)              (None, 512)               524800    \n",
            "_________________________________________________________________\n",
            "dense_7 (Dense)              (None, 128)               65664     \n",
            "_________________________________________________________________\n",
            "dense_8 (Dense)              (None, 64)                8256      \n",
            "_________________________________________________________________\n",
            "dense_9 (Dense)              (None, 5)                 325       \n",
            "=================================================================\n",
            "Total params: 69,720,069\n",
            "Trainable params: 69,720,069\n",
            "Non-trainable params: 0\n",
            "_________________________________________________________________\n"
          ],
          "name": "stdout"
        }
      ]
    },
    {
      "cell_type": "markdown",
      "metadata": {
        "id": "nTOkmfmPpPtK"
      },
      "source": [
        "## Using callbacks"
      ]
    },
    {
      "cell_type": "code",
      "metadata": {
        "id": "K7g1TNtLzLjg"
      },
      "source": [
        "nn.compile(optimizer=\"adam\",\n",
        "           loss='categorical_crossentropy',\n",
        "           metrics = ['accuracy'])\n",
        "es = EarlyStopping(monitor='val_loss', mode='min', verbose=1, patience=200)\n",
        "mc = ModelCheckpoint('best_model.h5', monitor='val_accuracy', mode='max', verbose=1, save_best_only=True)"
      ],
      "execution_count": null,
      "outputs": []
    },
    {
      "cell_type": "code",
      "metadata": {
        "colab": {
          "base_uri": "https://localhost:8080/"
        },
        "id": "wv7vTa0yze3V",
        "outputId": "c164200f-affe-4950-9a84-b1cd8b8271d8"
      },
      "source": [
        "history = nn.fit(x_train,y_train, epochs=5000, batch_size = 10, validation_split=0.20, verbose=2, callbacks=[es, mc])"
      ],
      "execution_count": null,
      "outputs": [
        {
          "output_type": "stream",
          "text": [
            "Epoch 1/5000\n",
            "WARNING:tensorflow:Callbacks method `on_train_batch_end` is slow compared to the batch time (batch time: 0.0051s vs `on_train_batch_end` time: 0.0126s). Check your callbacks.\n",
            "\n",
            "Epoch 00001: val_accuracy improved from -inf to 0.22222, saving model to best_model.h5\n",
            "7/7 - 3s - loss: 30.6449 - accuracy: 0.2754 - val_loss: 22.7384 - val_accuracy: 0.2222\n",
            "Epoch 2/5000\n",
            "\n",
            "Epoch 00002: val_accuracy improved from 0.22222 to 0.33333, saving model to best_model.h5\n",
            "7/7 - 6s - loss: 12.3931 - accuracy: 0.2464 - val_loss: 5.1989 - val_accuracy: 0.3333\n",
            "Epoch 3/5000\n",
            "\n",
            "Epoch 00003: val_accuracy did not improve from 0.33333\n",
            "7/7 - 0s - loss: 10.0526 - accuracy: 0.3043 - val_loss: 7.5506 - val_accuracy: 0.2778\n",
            "Epoch 4/5000\n",
            "\n",
            "Epoch 00004: val_accuracy did not improve from 0.33333\n",
            "7/7 - 0s - loss: 4.2358 - accuracy: 0.3478 - val_loss: 6.7552 - val_accuracy: 0.3333\n",
            "Epoch 5/5000\n",
            "\n",
            "Epoch 00005: val_accuracy did not improve from 0.33333\n",
            "7/7 - 0s - loss: 1.9038 - accuracy: 0.5362 - val_loss: 4.1003 - val_accuracy: 0.2778\n",
            "Epoch 6/5000\n",
            "\n",
            "Epoch 00006: val_accuracy did not improve from 0.33333\n",
            "7/7 - 0s - loss: 1.1562 - accuracy: 0.6957 - val_loss: 3.8421 - val_accuracy: 0.1667\n",
            "Epoch 7/5000\n",
            "\n",
            "Epoch 00007: val_accuracy improved from 0.33333 to 0.38889, saving model to best_model.h5\n",
            "7/7 - 24s - loss: 0.8745 - accuracy: 0.7101 - val_loss: 3.2027 - val_accuracy: 0.3889\n",
            "Epoch 8/5000\n",
            "\n",
            "Epoch 00008: val_accuracy did not improve from 0.38889\n",
            "7/7 - 0s - loss: 0.6549 - accuracy: 0.7681 - val_loss: 5.7385 - val_accuracy: 0.3333\n",
            "Epoch 9/5000\n",
            "\n",
            "Epoch 00009: val_accuracy did not improve from 0.38889\n",
            "7/7 - 0s - loss: 1.6291 - accuracy: 0.6957 - val_loss: 5.4500 - val_accuracy: 0.2222\n",
            "Epoch 10/5000\n",
            "\n",
            "Epoch 00010: val_accuracy did not improve from 0.38889\n",
            "7/7 - 0s - loss: 1.4515 - accuracy: 0.6667 - val_loss: 9.6596 - val_accuracy: 0.1111\n",
            "Epoch 11/5000\n",
            "\n",
            "Epoch 00011: val_accuracy did not improve from 0.38889\n",
            "7/7 - 0s - loss: 1.6769 - accuracy: 0.7101 - val_loss: 8.2394 - val_accuracy: 0.3333\n",
            "Epoch 12/5000\n",
            "\n",
            "Epoch 00012: val_accuracy did not improve from 0.38889\n",
            "7/7 - 0s - loss: 0.7087 - accuracy: 0.8406 - val_loss: 5.3933 - val_accuracy: 0.3889\n",
            "Epoch 13/5000\n",
            "\n",
            "Epoch 00013: val_accuracy did not improve from 0.38889\n",
            "7/7 - 0s - loss: 0.4592 - accuracy: 0.8696 - val_loss: 6.9822 - val_accuracy: 0.3333\n",
            "Epoch 14/5000\n",
            "\n",
            "Epoch 00014: val_accuracy did not improve from 0.38889\n",
            "7/7 - 0s - loss: 0.1973 - accuracy: 0.9275 - val_loss: 4.6539 - val_accuracy: 0.3333\n",
            "Epoch 15/5000\n",
            "\n",
            "Epoch 00015: val_accuracy did not improve from 0.38889\n",
            "7/7 - 0s - loss: 0.0514 - accuracy: 0.9855 - val_loss: 5.7674 - val_accuracy: 0.2778\n",
            "Epoch 16/5000\n",
            "\n",
            "Epoch 00016: val_accuracy did not improve from 0.38889\n",
            "7/7 - 0s - loss: 0.1489 - accuracy: 0.9565 - val_loss: 4.6366 - val_accuracy: 0.3333\n",
            "Epoch 17/5000\n",
            "\n",
            "Epoch 00017: val_accuracy did not improve from 0.38889\n",
            "7/7 - 0s - loss: 0.0290 - accuracy: 1.0000 - val_loss: 5.5135 - val_accuracy: 0.1667\n",
            "Epoch 18/5000\n",
            "\n",
            "Epoch 00018: val_accuracy did not improve from 0.38889\n",
            "7/7 - 0s - loss: 0.0129 - accuracy: 1.0000 - val_loss: 5.3136 - val_accuracy: 0.2222\n",
            "Epoch 19/5000\n",
            "\n",
            "Epoch 00019: val_accuracy did not improve from 0.38889\n",
            "7/7 - 0s - loss: 0.0268 - accuracy: 1.0000 - val_loss: 5.6091 - val_accuracy: 0.2778\n",
            "Epoch 20/5000\n",
            "\n",
            "Epoch 00020: val_accuracy did not improve from 0.38889\n",
            "7/7 - 0s - loss: 0.0219 - accuracy: 1.0000 - val_loss: 6.0645 - val_accuracy: 0.1667\n",
            "Epoch 21/5000\n",
            "\n",
            "Epoch 00021: val_accuracy did not improve from 0.38889\n",
            "7/7 - 0s - loss: 0.0859 - accuracy: 0.9855 - val_loss: 7.5539 - val_accuracy: 0.2778\n",
            "Epoch 22/5000\n",
            "\n",
            "Epoch 00022: val_accuracy did not improve from 0.38889\n",
            "7/7 - 0s - loss: 0.4096 - accuracy: 0.9130 - val_loss: 5.5415 - val_accuracy: 0.3333\n",
            "Epoch 23/5000\n",
            "\n",
            "Epoch 00023: val_accuracy did not improve from 0.38889\n",
            "7/7 - 0s - loss: 0.7198 - accuracy: 0.8841 - val_loss: 14.4511 - val_accuracy: 0.1111\n",
            "Epoch 24/5000\n",
            "\n",
            "Epoch 00024: val_accuracy did not improve from 0.38889\n",
            "7/7 - 0s - loss: 1.6931 - accuracy: 0.7391 - val_loss: 7.3178 - val_accuracy: 0.3333\n",
            "Epoch 25/5000\n",
            "\n",
            "Epoch 00025: val_accuracy did not improve from 0.38889\n",
            "7/7 - 0s - loss: 1.3021 - accuracy: 0.7246 - val_loss: 4.8752 - val_accuracy: 0.1667\n",
            "Epoch 26/5000\n",
            "\n",
            "Epoch 00026: val_accuracy did not improve from 0.38889\n",
            "7/7 - 0s - loss: 0.6373 - accuracy: 0.8696 - val_loss: 5.7868 - val_accuracy: 0.2778\n",
            "Epoch 27/5000\n",
            "\n",
            "Epoch 00027: val_accuracy did not improve from 0.38889\n",
            "7/7 - 0s - loss: 0.5354 - accuracy: 0.8116 - val_loss: 7.0015 - val_accuracy: 0.2778\n",
            "Epoch 28/5000\n",
            "\n",
            "Epoch 00028: val_accuracy did not improve from 0.38889\n",
            "7/7 - 0s - loss: 1.0462 - accuracy: 0.7681 - val_loss: 6.6624 - val_accuracy: 0.3333\n",
            "Epoch 29/5000\n",
            "\n",
            "Epoch 00029: val_accuracy improved from 0.38889 to 0.44444, saving model to best_model.h5\n",
            "7/7 - 16s - loss: 0.1558 - accuracy: 0.9275 - val_loss: 5.3165 - val_accuracy: 0.4444\n",
            "Epoch 30/5000\n",
            "\n",
            "Epoch 00030: val_accuracy did not improve from 0.44444\n",
            "7/7 - 0s - loss: 0.3651 - accuracy: 0.9130 - val_loss: 7.8179 - val_accuracy: 0.3333\n",
            "Epoch 31/5000\n",
            "\n",
            "Epoch 00031: val_accuracy did not improve from 0.44444\n",
            "7/7 - 0s - loss: 0.0817 - accuracy: 0.9710 - val_loss: 5.2632 - val_accuracy: 0.3333\n",
            "Epoch 32/5000\n",
            "\n",
            "Epoch 00032: val_accuracy did not improve from 0.44444\n",
            "7/7 - 0s - loss: 0.1443 - accuracy: 0.9565 - val_loss: 8.4256 - val_accuracy: 0.2222\n",
            "Epoch 33/5000\n",
            "\n",
            "Epoch 00033: val_accuracy did not improve from 0.44444\n",
            "7/7 - 0s - loss: 0.2703 - accuracy: 0.9275 - val_loss: 6.7807 - val_accuracy: 0.2222\n",
            "Epoch 34/5000\n",
            "\n",
            "Epoch 00034: val_accuracy did not improve from 0.44444\n",
            "7/7 - 0s - loss: 0.0536 - accuracy: 0.9710 - val_loss: 5.7611 - val_accuracy: 0.4444\n",
            "Epoch 35/5000\n",
            "\n",
            "Epoch 00035: val_accuracy did not improve from 0.44444\n",
            "7/7 - 0s - loss: 0.3070 - accuracy: 0.9130 - val_loss: 8.5793 - val_accuracy: 0.2778\n",
            "Epoch 36/5000\n",
            "\n",
            "Epoch 00036: val_accuracy did not improve from 0.44444\n",
            "7/7 - 0s - loss: 0.2382 - accuracy: 0.9275 - val_loss: 8.2130 - val_accuracy: 0.1667\n",
            "Epoch 37/5000\n",
            "\n",
            "Epoch 00037: val_accuracy did not improve from 0.44444\n",
            "7/7 - 0s - loss: 0.0463 - accuracy: 0.9855 - val_loss: 7.2865 - val_accuracy: 0.3333\n",
            "Epoch 38/5000\n",
            "\n",
            "Epoch 00038: val_accuracy did not improve from 0.44444\n",
            "7/7 - 0s - loss: 0.0272 - accuracy: 1.0000 - val_loss: 8.3219 - val_accuracy: 0.2778\n",
            "Epoch 39/5000\n",
            "\n",
            "Epoch 00039: val_accuracy did not improve from 0.44444\n",
            "7/7 - 0s - loss: 0.0110 - accuracy: 1.0000 - val_loss: 8.0471 - val_accuracy: 0.2778\n",
            "Epoch 40/5000\n",
            "\n",
            "Epoch 00040: val_accuracy did not improve from 0.44444\n",
            "7/7 - 0s - loss: 0.0048 - accuracy: 1.0000 - val_loss: 9.6631 - val_accuracy: 0.2222\n",
            "Epoch 41/5000\n",
            "\n",
            "Epoch 00041: val_accuracy did not improve from 0.44444\n",
            "7/7 - 0s - loss: 0.0049 - accuracy: 1.0000 - val_loss: 9.0114 - val_accuracy: 0.2222\n",
            "Epoch 42/5000\n",
            "\n",
            "Epoch 00042: val_accuracy did not improve from 0.44444\n",
            "7/7 - 0s - loss: 8.6853e-04 - accuracy: 1.0000 - val_loss: 9.3046 - val_accuracy: 0.2222\n",
            "Epoch 43/5000\n",
            "\n",
            "Epoch 00043: val_accuracy did not improve from 0.44444\n",
            "7/7 - 0s - loss: 7.8358e-04 - accuracy: 1.0000 - val_loss: 9.4447 - val_accuracy: 0.2778\n",
            "Epoch 44/5000\n",
            "\n",
            "Epoch 00044: val_accuracy did not improve from 0.44444\n",
            "7/7 - 0s - loss: 6.6596e-04 - accuracy: 1.0000 - val_loss: 9.3557 - val_accuracy: 0.2778\n",
            "Epoch 45/5000\n",
            "\n",
            "Epoch 00045: val_accuracy did not improve from 0.44444\n",
            "7/7 - 0s - loss: 5.0332e-04 - accuracy: 1.0000 - val_loss: 9.1397 - val_accuracy: 0.2778\n",
            "Epoch 46/5000\n",
            "\n",
            "Epoch 00046: val_accuracy did not improve from 0.44444\n",
            "7/7 - 0s - loss: 2.9828e-04 - accuracy: 1.0000 - val_loss: 8.9969 - val_accuracy: 0.2778\n",
            "Epoch 47/5000\n",
            "\n",
            "Epoch 00047: val_accuracy did not improve from 0.44444\n",
            "7/7 - 0s - loss: 2.2412e-04 - accuracy: 1.0000 - val_loss: 8.8694 - val_accuracy: 0.2778\n",
            "Epoch 48/5000\n",
            "\n",
            "Epoch 00048: val_accuracy did not improve from 0.44444\n",
            "7/7 - 0s - loss: 1.9460e-04 - accuracy: 1.0000 - val_loss: 8.7816 - val_accuracy: 0.2778\n",
            "Epoch 49/5000\n",
            "\n",
            "Epoch 00049: val_accuracy did not improve from 0.44444\n",
            "7/7 - 0s - loss: 1.7447e-04 - accuracy: 1.0000 - val_loss: 8.7476 - val_accuracy: 0.2778\n",
            "Epoch 50/5000\n",
            "\n",
            "Epoch 00050: val_accuracy did not improve from 0.44444\n",
            "7/7 - 0s - loss: 1.5883e-04 - accuracy: 1.0000 - val_loss: 8.7468 - val_accuracy: 0.2778\n",
            "Epoch 51/5000\n",
            "\n",
            "Epoch 00051: val_accuracy did not improve from 0.44444\n",
            "7/7 - 0s - loss: 1.4857e-04 - accuracy: 1.0000 - val_loss: 8.7451 - val_accuracy: 0.2778\n",
            "Epoch 52/5000\n",
            "\n",
            "Epoch 00052: val_accuracy did not improve from 0.44444\n",
            "7/7 - 0s - loss: 1.4274e-04 - accuracy: 1.0000 - val_loss: 8.7593 - val_accuracy: 0.3333\n",
            "Epoch 53/5000\n",
            "\n",
            "Epoch 00053: val_accuracy did not improve from 0.44444\n",
            "7/7 - 0s - loss: 1.3678e-04 - accuracy: 1.0000 - val_loss: 8.7647 - val_accuracy: 0.3333\n",
            "Epoch 54/5000\n",
            "\n",
            "Epoch 00054: val_accuracy did not improve from 0.44444\n",
            "7/7 - 0s - loss: 1.3074e-04 - accuracy: 1.0000 - val_loss: 8.7590 - val_accuracy: 0.3333\n",
            "Epoch 55/5000\n",
            "\n",
            "Epoch 00055: val_accuracy did not improve from 0.44444\n",
            "7/7 - 0s - loss: 1.2582e-04 - accuracy: 1.0000 - val_loss: 8.7583 - val_accuracy: 0.3333\n",
            "Epoch 56/5000\n",
            "\n",
            "Epoch 00056: val_accuracy did not improve from 0.44444\n",
            "7/7 - 0s - loss: 1.2117e-04 - accuracy: 1.0000 - val_loss: 8.7563 - val_accuracy: 0.3333\n",
            "Epoch 57/5000\n",
            "\n",
            "Epoch 00057: val_accuracy did not improve from 0.44444\n",
            "7/7 - 0s - loss: 1.1689e-04 - accuracy: 1.0000 - val_loss: 8.7670 - val_accuracy: 0.3333\n",
            "Epoch 58/5000\n",
            "\n",
            "Epoch 00058: val_accuracy did not improve from 0.44444\n",
            "7/7 - 0s - loss: 1.1396e-04 - accuracy: 1.0000 - val_loss: 8.8014 - val_accuracy: 0.3333\n",
            "Epoch 59/5000\n",
            "\n",
            "Epoch 00059: val_accuracy did not improve from 0.44444\n",
            "7/7 - 0s - loss: 1.1009e-04 - accuracy: 1.0000 - val_loss: 8.7957 - val_accuracy: 0.3333\n",
            "Epoch 60/5000\n",
            "\n",
            "Epoch 00060: val_accuracy did not improve from 0.44444\n",
            "7/7 - 0s - loss: 1.0577e-04 - accuracy: 1.0000 - val_loss: 8.8024 - val_accuracy: 0.3333\n",
            "Epoch 61/5000\n",
            "\n",
            "Epoch 00061: val_accuracy did not improve from 0.44444\n",
            "7/7 - 0s - loss: 1.0216e-04 - accuracy: 1.0000 - val_loss: 8.8054 - val_accuracy: 0.3333\n",
            "Epoch 62/5000\n",
            "\n",
            "Epoch 00062: val_accuracy did not improve from 0.44444\n",
            "7/7 - 0s - loss: 9.8935e-05 - accuracy: 1.0000 - val_loss: 8.8359 - val_accuracy: 0.3333\n",
            "Epoch 63/5000\n",
            "\n",
            "Epoch 00063: val_accuracy did not improve from 0.44444\n",
            "7/7 - 0s - loss: 9.5433e-05 - accuracy: 1.0000 - val_loss: 8.8150 - val_accuracy: 0.3333\n",
            "Epoch 64/5000\n",
            "\n",
            "Epoch 00064: val_accuracy did not improve from 0.44444\n",
            "7/7 - 0s - loss: 9.1799e-05 - accuracy: 1.0000 - val_loss: 8.8184 - val_accuracy: 0.3333\n",
            "Epoch 65/5000\n",
            "\n",
            "Epoch 00065: val_accuracy did not improve from 0.44444\n",
            "7/7 - 0s - loss: 8.9686e-05 - accuracy: 1.0000 - val_loss: 8.9001 - val_accuracy: 0.3333\n",
            "Epoch 66/5000\n",
            "\n",
            "Epoch 00066: val_accuracy did not improve from 0.44444\n",
            "7/7 - 0s - loss: 8.5445e-05 - accuracy: 1.0000 - val_loss: 8.9311 - val_accuracy: 0.3333\n",
            "Epoch 67/5000\n",
            "\n",
            "Epoch 00067: val_accuracy did not improve from 0.44444\n",
            "7/7 - 0s - loss: 8.2433e-05 - accuracy: 1.0000 - val_loss: 8.9319 - val_accuracy: 0.3333\n",
            "Epoch 68/5000\n",
            "\n",
            "Epoch 00068: val_accuracy did not improve from 0.44444\n",
            "7/7 - 0s - loss: 8.0124e-05 - accuracy: 1.0000 - val_loss: 8.9592 - val_accuracy: 0.3333\n",
            "Epoch 69/5000\n",
            "\n",
            "Epoch 00069: val_accuracy did not improve from 0.44444\n",
            "7/7 - 0s - loss: 7.6003e-05 - accuracy: 1.0000 - val_loss: 8.9888 - val_accuracy: 0.3333\n",
            "Epoch 70/5000\n",
            "\n",
            "Epoch 00070: val_accuracy did not improve from 0.44444\n",
            "7/7 - 0s - loss: 7.3263e-05 - accuracy: 1.0000 - val_loss: 8.9763 - val_accuracy: 0.3333\n",
            "Epoch 71/5000\n",
            "\n",
            "Epoch 00071: val_accuracy did not improve from 0.44444\n",
            "7/7 - 0s - loss: 7.0631e-05 - accuracy: 1.0000 - val_loss: 9.0154 - val_accuracy: 0.3333\n",
            "Epoch 72/5000\n",
            "\n",
            "Epoch 00072: val_accuracy did not improve from 0.44444\n",
            "7/7 - 0s - loss: 6.8164e-05 - accuracy: 1.0000 - val_loss: 9.0179 - val_accuracy: 0.3333\n",
            "Epoch 73/5000\n",
            "\n",
            "Epoch 00073: val_accuracy did not improve from 0.44444\n",
            "7/7 - 0s - loss: 6.5684e-05 - accuracy: 1.0000 - val_loss: 9.0184 - val_accuracy: 0.3333\n",
            "Epoch 74/5000\n",
            "\n",
            "Epoch 00074: val_accuracy did not improve from 0.44444\n",
            "7/7 - 0s - loss: 6.4115e-05 - accuracy: 1.0000 - val_loss: 9.0664 - val_accuracy: 0.3333\n",
            "Epoch 75/5000\n",
            "\n",
            "Epoch 00075: val_accuracy did not improve from 0.44444\n",
            "7/7 - 0s - loss: 6.1196e-05 - accuracy: 1.0000 - val_loss: 9.0512 - val_accuracy: 0.3333\n",
            "Epoch 76/5000\n",
            "\n",
            "Epoch 00076: val_accuracy did not improve from 0.44444\n",
            "7/7 - 0s - loss: 5.8963e-05 - accuracy: 1.0000 - val_loss: 9.0306 - val_accuracy: 0.2778\n",
            "Epoch 77/5000\n",
            "\n",
            "Epoch 00077: val_accuracy did not improve from 0.44444\n",
            "7/7 - 0s - loss: 5.7203e-05 - accuracy: 1.0000 - val_loss: 9.0409 - val_accuracy: 0.2778\n",
            "Epoch 78/5000\n",
            "\n",
            "Epoch 00078: val_accuracy did not improve from 0.44444\n",
            "7/7 - 0s - loss: 5.5292e-05 - accuracy: 1.0000 - val_loss: 9.0761 - val_accuracy: 0.2778\n",
            "Epoch 79/5000\n",
            "\n",
            "Epoch 00079: val_accuracy did not improve from 0.44444\n",
            "7/7 - 0s - loss: 5.3187e-05 - accuracy: 1.0000 - val_loss: 9.0679 - val_accuracy: 0.2778\n",
            "Epoch 80/5000\n",
            "\n",
            "Epoch 00080: val_accuracy did not improve from 0.44444\n",
            "7/7 - 0s - loss: 5.1687e-05 - accuracy: 1.0000 - val_loss: 9.0848 - val_accuracy: 0.2778\n",
            "Epoch 81/5000\n",
            "\n",
            "Epoch 00081: val_accuracy did not improve from 0.44444\n",
            "7/7 - 0s - loss: 5.1273e-05 - accuracy: 1.0000 - val_loss: 9.1684 - val_accuracy: 0.2778\n",
            "Epoch 82/5000\n",
            "\n",
            "Epoch 00082: val_accuracy did not improve from 0.44444\n",
            "7/7 - 0s - loss: 4.9046e-05 - accuracy: 1.0000 - val_loss: 9.1189 - val_accuracy: 0.2778\n",
            "Epoch 83/5000\n",
            "\n",
            "Epoch 00083: val_accuracy did not improve from 0.44444\n",
            "7/7 - 0s - loss: 4.7416e-05 - accuracy: 1.0000 - val_loss: 9.1126 - val_accuracy: 0.2778\n",
            "Epoch 84/5000\n",
            "\n",
            "Epoch 00084: val_accuracy did not improve from 0.44444\n",
            "7/7 - 0s - loss: 4.6034e-05 - accuracy: 1.0000 - val_loss: 9.1373 - val_accuracy: 0.2778\n",
            "Epoch 85/5000\n",
            "\n",
            "Epoch 00085: val_accuracy did not improve from 0.44444\n",
            "7/7 - 0s - loss: 4.4771e-05 - accuracy: 1.0000 - val_loss: 9.1422 - val_accuracy: 0.2778\n",
            "Epoch 86/5000\n",
            "\n",
            "Epoch 00086: val_accuracy did not improve from 0.44444\n",
            "7/7 - 0s - loss: 4.3930e-05 - accuracy: 1.0000 - val_loss: 9.1818 - val_accuracy: 0.2778\n",
            "Epoch 87/5000\n",
            "\n",
            "Epoch 00087: val_accuracy did not improve from 0.44444\n",
            "7/7 - 0s - loss: 4.2752e-05 - accuracy: 1.0000 - val_loss: 9.1999 - val_accuracy: 0.2778\n",
            "Epoch 88/5000\n",
            "\n",
            "Epoch 00088: val_accuracy did not improve from 0.44444\n",
            "7/7 - 0s - loss: 4.1749e-05 - accuracy: 1.0000 - val_loss: 9.2125 - val_accuracy: 0.2778\n",
            "Epoch 89/5000\n",
            "\n",
            "Epoch 00089: val_accuracy did not improve from 0.44444\n",
            "7/7 - 0s - loss: 4.0765e-05 - accuracy: 1.0000 - val_loss: 9.1657 - val_accuracy: 0.2778\n",
            "Epoch 90/5000\n",
            "\n",
            "Epoch 00090: val_accuracy did not improve from 0.44444\n",
            "7/7 - 0s - loss: 3.9748e-05 - accuracy: 1.0000 - val_loss: 9.2063 - val_accuracy: 0.2778\n",
            "Epoch 91/5000\n",
            "\n",
            "Epoch 00091: val_accuracy did not improve from 0.44444\n",
            "7/7 - 0s - loss: 3.9491e-05 - accuracy: 1.0000 - val_loss: 9.3114 - val_accuracy: 0.2778\n",
            "Epoch 92/5000\n",
            "\n",
            "Epoch 00092: val_accuracy did not improve from 0.44444\n",
            "7/7 - 0s - loss: 3.8047e-05 - accuracy: 1.0000 - val_loss: 9.3001 - val_accuracy: 0.2778\n",
            "Epoch 93/5000\n",
            "\n",
            "Epoch 00093: val_accuracy did not improve from 0.44444\n",
            "7/7 - 0s - loss: 3.7337e-05 - accuracy: 1.0000 - val_loss: 9.2761 - val_accuracy: 0.2778\n",
            "Epoch 94/5000\n",
            "\n",
            "Epoch 00094: val_accuracy did not improve from 0.44444\n",
            "7/7 - 0s - loss: 3.6593e-05 - accuracy: 1.0000 - val_loss: 9.1941 - val_accuracy: 0.2778\n",
            "Epoch 95/5000\n",
            "\n",
            "Epoch 00095: val_accuracy did not improve from 0.44444\n",
            "7/7 - 0s - loss: 3.5843e-05 - accuracy: 1.0000 - val_loss: 9.2202 - val_accuracy: 0.2778\n",
            "Epoch 96/5000\n",
            "\n",
            "Epoch 00096: val_accuracy did not improve from 0.44444\n",
            "7/7 - 0s - loss: 3.5042e-05 - accuracy: 1.0000 - val_loss: 9.2788 - val_accuracy: 0.2778\n",
            "Epoch 97/5000\n",
            "\n",
            "Epoch 00097: val_accuracy did not improve from 0.44444\n",
            "7/7 - 0s - loss: 3.4645e-05 - accuracy: 1.0000 - val_loss: 9.3486 - val_accuracy: 0.2778\n",
            "Epoch 98/5000\n",
            "\n",
            "Epoch 00098: val_accuracy did not improve from 0.44444\n",
            "7/7 - 0s - loss: 3.3929e-05 - accuracy: 1.0000 - val_loss: 9.3026 - val_accuracy: 0.2778\n",
            "Epoch 99/5000\n",
            "\n",
            "Epoch 00099: val_accuracy did not improve from 0.44444\n",
            "7/7 - 0s - loss: 3.3418e-05 - accuracy: 1.0000 - val_loss: 9.3237 - val_accuracy: 0.2778\n",
            "Epoch 100/5000\n",
            "\n",
            "Epoch 00100: val_accuracy did not improve from 0.44444\n",
            "7/7 - 0s - loss: 3.2541e-05 - accuracy: 1.0000 - val_loss: 9.2822 - val_accuracy: 0.2778\n",
            "Epoch 101/5000\n",
            "\n",
            "Epoch 00101: val_accuracy did not improve from 0.44444\n",
            "7/7 - 0s - loss: 3.1986e-05 - accuracy: 1.0000 - val_loss: 9.2725 - val_accuracy: 0.3333\n",
            "Epoch 102/5000\n",
            "\n",
            "Epoch 00102: val_accuracy did not improve from 0.44444\n",
            "7/7 - 0s - loss: 3.1432e-05 - accuracy: 1.0000 - val_loss: 9.3156 - val_accuracy: 0.3333\n",
            "Epoch 103/5000\n",
            "\n",
            "Epoch 00103: val_accuracy did not improve from 0.44444\n",
            "7/7 - 0s - loss: 3.0892e-05 - accuracy: 1.0000 - val_loss: 9.3242 - val_accuracy: 0.3333\n",
            "Epoch 104/5000\n",
            "\n",
            "Epoch 00104: val_accuracy did not improve from 0.44444\n",
            "7/7 - 0s - loss: 3.0451e-05 - accuracy: 1.0000 - val_loss: 9.2786 - val_accuracy: 0.3333\n",
            "Epoch 105/5000\n",
            "\n",
            "Epoch 00105: val_accuracy did not improve from 0.44444\n",
            "7/7 - 0s - loss: 2.9876e-05 - accuracy: 1.0000 - val_loss: 9.3301 - val_accuracy: 0.3333\n",
            "Epoch 106/5000\n",
            "\n",
            "Epoch 00106: val_accuracy did not improve from 0.44444\n",
            "7/7 - 0s - loss: 2.9370e-05 - accuracy: 1.0000 - val_loss: 9.2687 - val_accuracy: 0.3333\n",
            "Epoch 107/5000\n",
            "\n",
            "Epoch 00107: val_accuracy did not improve from 0.44444\n",
            "7/7 - 0s - loss: 2.8982e-05 - accuracy: 1.0000 - val_loss: 9.3358 - val_accuracy: 0.3333\n",
            "Epoch 108/5000\n",
            "\n",
            "Epoch 00108: val_accuracy did not improve from 0.44444\n",
            "7/7 - 0s - loss: 2.8250e-05 - accuracy: 1.0000 - val_loss: 9.3416 - val_accuracy: 0.3333\n",
            "Epoch 109/5000\n",
            "\n",
            "Epoch 00109: val_accuracy did not improve from 0.44444\n",
            "7/7 - 0s - loss: 2.7877e-05 - accuracy: 1.0000 - val_loss: 9.3758 - val_accuracy: 0.3333\n",
            "Epoch 110/5000\n",
            "\n",
            "Epoch 00110: val_accuracy did not improve from 0.44444\n",
            "7/7 - 0s - loss: 2.7492e-05 - accuracy: 1.0000 - val_loss: 9.3099 - val_accuracy: 0.3333\n",
            "Epoch 111/5000\n",
            "\n",
            "Epoch 00111: val_accuracy did not improve from 0.44444\n",
            "7/7 - 0s - loss: 2.6982e-05 - accuracy: 1.0000 - val_loss: 9.3414 - val_accuracy: 0.3333\n",
            "Epoch 112/5000\n",
            "\n",
            "Epoch 00112: val_accuracy did not improve from 0.44444\n",
            "7/7 - 0s - loss: 2.6431e-05 - accuracy: 1.0000 - val_loss: 9.3545 - val_accuracy: 0.3333\n",
            "Epoch 113/5000\n",
            "\n",
            "Epoch 00113: val_accuracy did not improve from 0.44444\n",
            "7/7 - 0s - loss: 2.6012e-05 - accuracy: 1.0000 - val_loss: 9.3720 - val_accuracy: 0.3333\n",
            "Epoch 114/5000\n",
            "\n",
            "Epoch 00114: val_accuracy did not improve from 0.44444\n",
            "7/7 - 0s - loss: 2.5701e-05 - accuracy: 1.0000 - val_loss: 9.3265 - val_accuracy: 0.3333\n",
            "Epoch 115/5000\n",
            "\n",
            "Epoch 00115: val_accuracy did not improve from 0.44444\n",
            "7/7 - 0s - loss: 2.5431e-05 - accuracy: 1.0000 - val_loss: 9.3791 - val_accuracy: 0.3333\n",
            "Epoch 116/5000\n",
            "\n",
            "Epoch 00116: val_accuracy did not improve from 0.44444\n",
            "7/7 - 0s - loss: 2.4813e-05 - accuracy: 1.0000 - val_loss: 9.3461 - val_accuracy: 0.3333\n",
            "Epoch 117/5000\n",
            "\n",
            "Epoch 00117: val_accuracy did not improve from 0.44444\n",
            "7/7 - 0s - loss: 2.4471e-05 - accuracy: 1.0000 - val_loss: 9.3359 - val_accuracy: 0.3333\n",
            "Epoch 118/5000\n",
            "\n",
            "Epoch 00118: val_accuracy did not improve from 0.44444\n",
            "7/7 - 0s - loss: 2.4207e-05 - accuracy: 1.0000 - val_loss: 9.3789 - val_accuracy: 0.3333\n",
            "Epoch 119/5000\n",
            "\n",
            "Epoch 00119: val_accuracy did not improve from 0.44444\n",
            "7/7 - 0s - loss: 2.3715e-05 - accuracy: 1.0000 - val_loss: 9.3059 - val_accuracy: 0.3333\n",
            "Epoch 120/5000\n",
            "\n",
            "Epoch 00120: val_accuracy did not improve from 0.44444\n",
            "7/7 - 0s - loss: 2.3431e-05 - accuracy: 1.0000 - val_loss: 9.2837 - val_accuracy: 0.3333\n",
            "Epoch 121/5000\n",
            "\n",
            "Epoch 00121: val_accuracy did not improve from 0.44444\n",
            "7/7 - 0s - loss: 2.3183e-05 - accuracy: 1.0000 - val_loss: 9.3559 - val_accuracy: 0.3333\n",
            "Epoch 122/5000\n",
            "\n",
            "Epoch 00122: val_accuracy did not improve from 0.44444\n",
            "7/7 - 0s - loss: 2.2819e-05 - accuracy: 1.0000 - val_loss: 9.4215 - val_accuracy: 0.3333\n",
            "Epoch 123/5000\n",
            "\n",
            "Epoch 00123: val_accuracy did not improve from 0.44444\n",
            "7/7 - 0s - loss: 2.2333e-05 - accuracy: 1.0000 - val_loss: 9.3761 - val_accuracy: 0.3333\n",
            "Epoch 124/5000\n",
            "\n",
            "Epoch 00124: val_accuracy did not improve from 0.44444\n",
            "7/7 - 0s - loss: 2.1991e-05 - accuracy: 1.0000 - val_loss: 9.3550 - val_accuracy: 0.3333\n",
            "Epoch 125/5000\n",
            "\n",
            "Epoch 00125: val_accuracy did not improve from 0.44444\n",
            "7/7 - 0s - loss: 2.1749e-05 - accuracy: 1.0000 - val_loss: 9.3534 - val_accuracy: 0.3333\n",
            "Epoch 126/5000\n",
            "\n",
            "Epoch 00126: val_accuracy did not improve from 0.44444\n",
            "7/7 - 0s - loss: 2.1383e-05 - accuracy: 1.0000 - val_loss: 9.4108 - val_accuracy: 0.3333\n",
            "Epoch 127/5000\n",
            "\n",
            "Epoch 00127: val_accuracy did not improve from 0.44444\n",
            "7/7 - 0s - loss: 2.1124e-05 - accuracy: 1.0000 - val_loss: 9.4058 - val_accuracy: 0.3333\n",
            "Epoch 128/5000\n",
            "\n",
            "Epoch 00128: val_accuracy did not improve from 0.44444\n",
            "7/7 - 0s - loss: 2.0774e-05 - accuracy: 1.0000 - val_loss: 9.3976 - val_accuracy: 0.3333\n",
            "Epoch 129/5000\n",
            "\n",
            "Epoch 00129: val_accuracy did not improve from 0.44444\n",
            "7/7 - 0s - loss: 2.0748e-05 - accuracy: 1.0000 - val_loss: 9.4191 - val_accuracy: 0.3333\n",
            "Epoch 130/5000\n",
            "\n",
            "Epoch 00130: val_accuracy did not improve from 0.44444\n",
            "7/7 - 0s - loss: 2.0218e-05 - accuracy: 1.0000 - val_loss: 9.3371 - val_accuracy: 0.3333\n",
            "Epoch 131/5000\n",
            "\n",
            "Epoch 00131: val_accuracy did not improve from 0.44444\n",
            "7/7 - 0s - loss: 2.0159e-05 - accuracy: 1.0000 - val_loss: 9.3159 - val_accuracy: 0.3333\n",
            "Epoch 132/5000\n",
            "\n",
            "Epoch 00132: val_accuracy did not improve from 0.44444\n",
            "7/7 - 0s - loss: 1.9856e-05 - accuracy: 1.0000 - val_loss: 9.3658 - val_accuracy: 0.3333\n",
            "Epoch 133/5000\n",
            "\n",
            "Epoch 00133: val_accuracy did not improve from 0.44444\n",
            "7/7 - 0s - loss: 1.9378e-05 - accuracy: 1.0000 - val_loss: 9.4040 - val_accuracy: 0.3333\n",
            "Epoch 134/5000\n",
            "\n",
            "Epoch 00134: val_accuracy did not improve from 0.44444\n",
            "7/7 - 0s - loss: 1.9205e-05 - accuracy: 1.0000 - val_loss: 9.4159 - val_accuracy: 0.3333\n",
            "Epoch 135/5000\n",
            "\n",
            "Epoch 00135: val_accuracy did not improve from 0.44444\n",
            "7/7 - 0s - loss: 1.8984e-05 - accuracy: 1.0000 - val_loss: 9.4183 - val_accuracy: 0.3333\n",
            "Epoch 136/5000\n",
            "\n",
            "Epoch 00136: val_accuracy did not improve from 0.44444\n",
            "7/7 - 0s - loss: 1.8687e-05 - accuracy: 1.0000 - val_loss: 9.3733 - val_accuracy: 0.3333\n",
            "Epoch 137/5000\n",
            "\n",
            "Epoch 00137: val_accuracy did not improve from 0.44444\n",
            "7/7 - 0s - loss: 1.8506e-05 - accuracy: 1.0000 - val_loss: 9.3894 - val_accuracy: 0.3333\n",
            "Epoch 138/5000\n",
            "\n",
            "Epoch 00138: val_accuracy did not improve from 0.44444\n",
            "7/7 - 0s - loss: 1.8237e-05 - accuracy: 1.0000 - val_loss: 9.3913 - val_accuracy: 0.3333\n",
            "Epoch 139/5000\n",
            "\n",
            "Epoch 00139: val_accuracy did not improve from 0.44444\n",
            "7/7 - 0s - loss: 1.8024e-05 - accuracy: 1.0000 - val_loss: 9.4559 - val_accuracy: 0.3333\n",
            "Epoch 140/5000\n",
            "\n",
            "Epoch 00140: val_accuracy did not improve from 0.44444\n",
            "7/7 - 0s - loss: 1.7753e-05 - accuracy: 1.0000 - val_loss: 9.4668 - val_accuracy: 0.3333\n",
            "Epoch 141/5000\n",
            "\n",
            "Epoch 00141: val_accuracy did not improve from 0.44444\n",
            "7/7 - 0s - loss: 1.7606e-05 - accuracy: 1.0000 - val_loss: 9.4175 - val_accuracy: 0.3333\n",
            "Epoch 142/5000\n",
            "\n",
            "Epoch 00142: val_accuracy did not improve from 0.44444\n",
            "7/7 - 0s - loss: 1.7314e-05 - accuracy: 1.0000 - val_loss: 9.4238 - val_accuracy: 0.3333\n",
            "Epoch 143/5000\n",
            "\n",
            "Epoch 00143: val_accuracy did not improve from 0.44444\n",
            "7/7 - 0s - loss: 1.7136e-05 - accuracy: 1.0000 - val_loss: 9.4132 - val_accuracy: 0.3333\n",
            "Epoch 144/5000\n",
            "\n",
            "Epoch 00144: val_accuracy did not improve from 0.44444\n",
            "7/7 - 0s - loss: 1.6882e-05 - accuracy: 1.0000 - val_loss: 9.4510 - val_accuracy: 0.3333\n",
            "Epoch 145/5000\n",
            "\n",
            "Epoch 00145: val_accuracy did not improve from 0.44444\n",
            "7/7 - 0s - loss: 1.6668e-05 - accuracy: 1.0000 - val_loss: 9.4446 - val_accuracy: 0.3333\n",
            "Epoch 146/5000\n",
            "\n",
            "Epoch 00146: val_accuracy did not improve from 0.44444\n",
            "7/7 - 0s - loss: 1.6471e-05 - accuracy: 1.0000 - val_loss: 9.4470 - val_accuracy: 0.3333\n",
            "Epoch 147/5000\n",
            "\n",
            "Epoch 00147: val_accuracy did not improve from 0.44444\n",
            "7/7 - 0s - loss: 1.6214e-05 - accuracy: 1.0000 - val_loss: 9.4630 - val_accuracy: 0.3333\n",
            "Epoch 148/5000\n",
            "\n",
            "Epoch 00148: val_accuracy did not improve from 0.44444\n",
            "7/7 - 0s - loss: 1.6059e-05 - accuracy: 1.0000 - val_loss: 9.4531 - val_accuracy: 0.3333\n",
            "Epoch 149/5000\n",
            "\n",
            "Epoch 00149: val_accuracy did not improve from 0.44444\n",
            "7/7 - 0s - loss: 1.5886e-05 - accuracy: 1.0000 - val_loss: 9.4649 - val_accuracy: 0.3333\n",
            "Epoch 150/5000\n",
            "\n",
            "Epoch 00150: val_accuracy did not improve from 0.44444\n",
            "7/7 - 0s - loss: 1.5677e-05 - accuracy: 1.0000 - val_loss: 9.4811 - val_accuracy: 0.3333\n",
            "Epoch 151/5000\n",
            "\n",
            "Epoch 00151: val_accuracy did not improve from 0.44444\n",
            "7/7 - 0s - loss: 1.5523e-05 - accuracy: 1.0000 - val_loss: 9.4796 - val_accuracy: 0.3333\n",
            "Epoch 152/5000\n",
            "\n",
            "Epoch 00152: val_accuracy did not improve from 0.44444\n",
            "7/7 - 0s - loss: 1.5295e-05 - accuracy: 1.0000 - val_loss: 9.4692 - val_accuracy: 0.3333\n",
            "Epoch 153/5000\n",
            "\n",
            "Epoch 00153: val_accuracy did not improve from 0.44444\n",
            "7/7 - 0s - loss: 1.5160e-05 - accuracy: 1.0000 - val_loss: 9.4507 - val_accuracy: 0.3333\n",
            "Epoch 154/5000\n",
            "\n",
            "Epoch 00154: val_accuracy did not improve from 0.44444\n",
            "7/7 - 0s - loss: 1.4986e-05 - accuracy: 1.0000 - val_loss: 9.4890 - val_accuracy: 0.3333\n",
            "Epoch 155/5000\n",
            "\n",
            "Epoch 00155: val_accuracy did not improve from 0.44444\n",
            "7/7 - 0s - loss: 1.4819e-05 - accuracy: 1.0000 - val_loss: 9.5038 - val_accuracy: 0.3333\n",
            "Epoch 156/5000\n",
            "\n",
            "Epoch 00156: val_accuracy did not improve from 0.44444\n",
            "7/7 - 0s - loss: 1.4625e-05 - accuracy: 1.0000 - val_loss: 9.4936 - val_accuracy: 0.3333\n",
            "Epoch 157/5000\n",
            "\n",
            "Epoch 00157: val_accuracy did not improve from 0.44444\n",
            "7/7 - 0s - loss: 1.4468e-05 - accuracy: 1.0000 - val_loss: 9.4614 - val_accuracy: 0.3333\n",
            "Epoch 158/5000\n",
            "\n",
            "Epoch 00158: val_accuracy did not improve from 0.44444\n",
            "7/7 - 0s - loss: 1.4409e-05 - accuracy: 1.0000 - val_loss: 9.5042 - val_accuracy: 0.3333\n",
            "Epoch 159/5000\n",
            "\n",
            "Epoch 00159: val_accuracy did not improve from 0.44444\n",
            "7/7 - 0s - loss: 1.4091e-05 - accuracy: 1.0000 - val_loss: 9.4886 - val_accuracy: 0.3333\n",
            "Epoch 160/5000\n",
            "\n",
            "Epoch 00160: val_accuracy did not improve from 0.44444\n",
            "7/7 - 0s - loss: 1.3938e-05 - accuracy: 1.0000 - val_loss: 9.5091 - val_accuracy: 0.3333\n",
            "Epoch 161/5000\n",
            "\n",
            "Epoch 00161: val_accuracy did not improve from 0.44444\n",
            "7/7 - 0s - loss: 1.3798e-05 - accuracy: 1.0000 - val_loss: 9.5204 - val_accuracy: 0.3333\n",
            "Epoch 162/5000\n",
            "\n",
            "Epoch 00162: val_accuracy did not improve from 0.44444\n",
            "7/7 - 0s - loss: 1.3656e-05 - accuracy: 1.0000 - val_loss: 9.4974 - val_accuracy: 0.3333\n",
            "Epoch 163/5000\n",
            "\n",
            "Epoch 00163: val_accuracy did not improve from 0.44444\n",
            "7/7 - 0s - loss: 1.3635e-05 - accuracy: 1.0000 - val_loss: 9.5171 - val_accuracy: 0.3333\n",
            "Epoch 164/5000\n",
            "\n",
            "Epoch 00164: val_accuracy did not improve from 0.44444\n",
            "7/7 - 0s - loss: 1.3366e-05 - accuracy: 1.0000 - val_loss: 9.4742 - val_accuracy: 0.3333\n",
            "Epoch 165/5000\n",
            "\n",
            "Epoch 00165: val_accuracy did not improve from 0.44444\n",
            "7/7 - 0s - loss: 1.3312e-05 - accuracy: 1.0000 - val_loss: 9.4963 - val_accuracy: 0.3333\n",
            "Epoch 166/5000\n",
            "\n",
            "Epoch 00166: val_accuracy did not improve from 0.44444\n",
            "7/7 - 0s - loss: 1.3065e-05 - accuracy: 1.0000 - val_loss: 9.5039 - val_accuracy: 0.3333\n",
            "Epoch 167/5000\n",
            "\n",
            "Epoch 00167: val_accuracy did not improve from 0.44444\n",
            "7/7 - 0s - loss: 1.2941e-05 - accuracy: 1.0000 - val_loss: 9.5101 - val_accuracy: 0.3333\n",
            "Epoch 168/5000\n",
            "\n",
            "Epoch 00168: val_accuracy did not improve from 0.44444\n",
            "7/7 - 0s - loss: 1.2861e-05 - accuracy: 1.0000 - val_loss: 9.5631 - val_accuracy: 0.3333\n",
            "Epoch 169/5000\n",
            "\n",
            "Epoch 00169: val_accuracy did not improve from 0.44444\n",
            "7/7 - 0s - loss: 1.2770e-05 - accuracy: 1.0000 - val_loss: 9.5222 - val_accuracy: 0.3333\n",
            "Epoch 170/5000\n",
            "\n",
            "Epoch 00170: val_accuracy did not improve from 0.44444\n",
            "7/7 - 0s - loss: 1.2559e-05 - accuracy: 1.0000 - val_loss: 9.5014 - val_accuracy: 0.3333\n",
            "Epoch 171/5000\n",
            "\n",
            "Epoch 00171: val_accuracy did not improve from 0.44444\n",
            "7/7 - 0s - loss: 1.2419e-05 - accuracy: 1.0000 - val_loss: 9.5333 - val_accuracy: 0.3333\n",
            "Epoch 172/5000\n",
            "\n",
            "Epoch 00172: val_accuracy did not improve from 0.44444\n",
            "7/7 - 0s - loss: 1.2250e-05 - accuracy: 1.0000 - val_loss: 9.5297 - val_accuracy: 0.3333\n",
            "Epoch 173/5000\n",
            "\n",
            "Epoch 00173: val_accuracy did not improve from 0.44444\n",
            "7/7 - 0s - loss: 1.2084e-05 - accuracy: 1.0000 - val_loss: 9.5412 - val_accuracy: 0.3333\n",
            "Epoch 174/5000\n",
            "\n",
            "Epoch 00174: val_accuracy did not improve from 0.44444\n",
            "7/7 - 0s - loss: 1.2029e-05 - accuracy: 1.0000 - val_loss: 9.5419 - val_accuracy: 0.3333\n",
            "Epoch 175/5000\n",
            "\n",
            "Epoch 00175: val_accuracy did not improve from 0.44444\n",
            "7/7 - 0s - loss: 1.1958e-05 - accuracy: 1.0000 - val_loss: 9.5705 - val_accuracy: 0.3333\n",
            "Epoch 176/5000\n",
            "\n",
            "Epoch 00176: val_accuracy did not improve from 0.44444\n",
            "7/7 - 0s - loss: 1.1754e-05 - accuracy: 1.0000 - val_loss: 9.5570 - val_accuracy: 0.3333\n",
            "Epoch 177/5000\n",
            "\n",
            "Epoch 00177: val_accuracy did not improve from 0.44444\n",
            "7/7 - 0s - loss: 1.1651e-05 - accuracy: 1.0000 - val_loss: 9.5459 - val_accuracy: 0.3333\n",
            "Epoch 178/5000\n",
            "\n",
            "Epoch 00178: val_accuracy did not improve from 0.44444\n",
            "7/7 - 0s - loss: 1.1599e-05 - accuracy: 1.0000 - val_loss: 9.5794 - val_accuracy: 0.3333\n",
            "Epoch 179/5000\n",
            "\n",
            "Epoch 00179: val_accuracy did not improve from 0.44444\n",
            "7/7 - 0s - loss: 1.1409e-05 - accuracy: 1.0000 - val_loss: 9.5552 - val_accuracy: 0.3333\n",
            "Epoch 180/5000\n",
            "\n",
            "Epoch 00180: val_accuracy did not improve from 0.44444\n",
            "7/7 - 0s - loss: 1.1331e-05 - accuracy: 1.0000 - val_loss: 9.5719 - val_accuracy: 0.3333\n",
            "Epoch 181/5000\n",
            "\n",
            "Epoch 00181: val_accuracy did not improve from 0.44444\n",
            "7/7 - 0s - loss: 1.1165e-05 - accuracy: 1.0000 - val_loss: 9.5651 - val_accuracy: 0.3333\n",
            "Epoch 182/5000\n",
            "\n",
            "Epoch 00182: val_accuracy did not improve from 0.44444\n",
            "7/7 - 0s - loss: 1.1079e-05 - accuracy: 1.0000 - val_loss: 9.5692 - val_accuracy: 0.3333\n",
            "Epoch 183/5000\n",
            "\n",
            "Epoch 00183: val_accuracy did not improve from 0.44444\n",
            "7/7 - 0s - loss: 1.1010e-05 - accuracy: 1.0000 - val_loss: 9.5786 - val_accuracy: 0.3333\n",
            "Epoch 184/5000\n",
            "\n",
            "Epoch 00184: val_accuracy did not improve from 0.44444\n",
            "7/7 - 0s - loss: 1.0863e-05 - accuracy: 1.0000 - val_loss: 9.5687 - val_accuracy: 0.3333\n",
            "Epoch 185/5000\n",
            "\n",
            "Epoch 00185: val_accuracy did not improve from 0.44444\n",
            "7/7 - 0s - loss: 1.0754e-05 - accuracy: 1.0000 - val_loss: 9.5550 - val_accuracy: 0.3333\n",
            "Epoch 186/5000\n",
            "\n",
            "Epoch 00186: val_accuracy did not improve from 0.44444\n",
            "7/7 - 0s - loss: 1.0647e-05 - accuracy: 1.0000 - val_loss: 9.5414 - val_accuracy: 0.3333\n",
            "Epoch 187/5000\n",
            "\n",
            "Epoch 00187: val_accuracy did not improve from 0.44444\n",
            "7/7 - 0s - loss: 1.0580e-05 - accuracy: 1.0000 - val_loss: 9.5598 - val_accuracy: 0.3333\n",
            "Epoch 188/5000\n",
            "\n",
            "Epoch 00188: val_accuracy did not improve from 0.44444\n",
            "7/7 - 0s - loss: 1.0502e-05 - accuracy: 1.0000 - val_loss: 9.5806 - val_accuracy: 0.3333\n",
            "Epoch 189/5000\n",
            "\n",
            "Epoch 00189: val_accuracy did not improve from 0.44444\n",
            "7/7 - 0s - loss: 1.0360e-05 - accuracy: 1.0000 - val_loss: 9.5365 - val_accuracy: 0.3333\n",
            "Epoch 190/5000\n",
            "\n",
            "Epoch 00190: val_accuracy did not improve from 0.44444\n",
            "7/7 - 0s - loss: 1.0277e-05 - accuracy: 1.0000 - val_loss: 9.5334 - val_accuracy: 0.3333\n",
            "Epoch 191/5000\n",
            "\n",
            "Epoch 00191: val_accuracy did not improve from 0.44444\n",
            "7/7 - 0s - loss: 1.0175e-05 - accuracy: 1.0000 - val_loss: 9.5263 - val_accuracy: 0.3333\n",
            "Epoch 192/5000\n",
            "\n",
            "Epoch 00192: val_accuracy did not improve from 0.44444\n",
            "7/7 - 0s - loss: 1.0091e-05 - accuracy: 1.0000 - val_loss: 9.5456 - val_accuracy: 0.3333\n",
            "Epoch 193/5000\n",
            "\n",
            "Epoch 00193: val_accuracy did not improve from 0.44444\n",
            "7/7 - 0s - loss: 1.0046e-05 - accuracy: 1.0000 - val_loss: 9.5825 - val_accuracy: 0.3333\n",
            "Epoch 194/5000\n",
            "\n",
            "Epoch 00194: val_accuracy did not improve from 0.44444\n",
            "7/7 - 0s - loss: 9.8559e-06 - accuracy: 1.0000 - val_loss: 9.5855 - val_accuracy: 0.3333\n",
            "Epoch 195/5000\n",
            "\n",
            "Epoch 00195: val_accuracy did not improve from 0.44444\n",
            "7/7 - 0s - loss: 9.8680e-06 - accuracy: 1.0000 - val_loss: 9.5394 - val_accuracy: 0.3333\n",
            "Epoch 196/5000\n",
            "\n",
            "Epoch 00196: val_accuracy did not improve from 0.44444\n",
            "7/7 - 0s - loss: 9.7159e-06 - accuracy: 1.0000 - val_loss: 9.5349 - val_accuracy: 0.3333\n",
            "Epoch 197/5000\n",
            "\n",
            "Epoch 00197: val_accuracy did not improve from 0.44444\n",
            "7/7 - 0s - loss: 9.6019e-06 - accuracy: 1.0000 - val_loss: 9.5636 - val_accuracy: 0.3333\n",
            "Epoch 198/5000\n",
            "\n",
            "Epoch 00198: val_accuracy did not improve from 0.44444\n",
            "7/7 - 0s - loss: 9.5553e-06 - accuracy: 1.0000 - val_loss: 9.5828 - val_accuracy: 0.3333\n",
            "Epoch 199/5000\n",
            "\n",
            "Epoch 00199: val_accuracy did not improve from 0.44444\n",
            "7/7 - 0s - loss: 9.4102e-06 - accuracy: 1.0000 - val_loss: 9.5828 - val_accuracy: 0.3333\n",
            "Epoch 200/5000\n",
            "\n",
            "Epoch 00200: val_accuracy did not improve from 0.44444\n",
            "7/7 - 0s - loss: 9.3515e-06 - accuracy: 1.0000 - val_loss: 9.5987 - val_accuracy: 0.3333\n",
            "Epoch 201/5000\n",
            "\n",
            "Epoch 00201: val_accuracy did not improve from 0.44444\n",
            "7/7 - 0s - loss: 9.2858e-06 - accuracy: 1.0000 - val_loss: 9.5952 - val_accuracy: 0.3333\n",
            "Epoch 202/5000\n",
            "\n",
            "Epoch 00202: val_accuracy did not improve from 0.44444\n",
            "7/7 - 0s - loss: 9.1701e-06 - accuracy: 1.0000 - val_loss: 9.5663 - val_accuracy: 0.3333\n",
            "Epoch 203/5000\n",
            "\n",
            "Epoch 00203: val_accuracy did not improve from 0.44444\n",
            "7/7 - 0s - loss: 9.0820e-06 - accuracy: 1.0000 - val_loss: 9.5817 - val_accuracy: 0.3333\n",
            "Epoch 204/5000\n",
            "\n",
            "Epoch 00204: val_accuracy did not improve from 0.44444\n",
            "7/7 - 0s - loss: 9.0336e-06 - accuracy: 1.0000 - val_loss: 9.5811 - val_accuracy: 0.3333\n",
            "Epoch 205/5000\n",
            "\n",
            "Epoch 00205: val_accuracy did not improve from 0.44444\n",
            "7/7 - 0s - loss: 9.0578e-06 - accuracy: 1.0000 - val_loss: 9.6330 - val_accuracy: 0.3333\n",
            "Epoch 206/5000\n",
            "\n",
            "Epoch 00206: val_accuracy did not improve from 0.44444\n",
            "7/7 - 0s - loss: 8.9006e-06 - accuracy: 1.0000 - val_loss: 9.6069 - val_accuracy: 0.3333\n",
            "Epoch 207/5000\n",
            "\n",
            "Epoch 00207: val_accuracy did not improve from 0.44444\n",
            "7/7 - 0s - loss: 8.8298e-06 - accuracy: 1.0000 - val_loss: 9.5879 - val_accuracy: 0.3333\n",
            "Epoch 00207: early stopping\n"
          ],
          "name": "stdout"
        }
      ]
    },
    {
      "cell_type": "code",
      "metadata": {
        "colab": {
          "base_uri": "https://localhost:8080/"
        },
        "id": "_Xio3JYyzLnN",
        "outputId": "d311a920-bb5e-4edd-9d4d-49ad4da640b9"
      },
      "source": [
        "x_train.shape"
      ],
      "execution_count": null,
      "outputs": [
        {
          "output_type": "execute_result",
          "data": {
            "text/plain": [
              "(87, 150, 150, 3)"
            ]
          },
          "metadata": {
            "tags": []
          },
          "execution_count": 26
        }
      ]
    },
    {
      "cell_type": "code",
      "metadata": {
        "colab": {
          "base_uri": "https://localhost:8080/"
        },
        "id": "4Xi8IpKYzLqj",
        "outputId": "ebd0d635-16e3-486f-9f9a-48cc4de78e18"
      },
      "source": [
        "x_test.shape"
      ],
      "execution_count": null,
      "outputs": [
        {
          "output_type": "execute_result",
          "data": {
            "text/plain": [
              "(30, 150, 150, 3)"
            ]
          },
          "metadata": {
            "tags": []
          },
          "execution_count": 25
        }
      ]
    },
    {
      "cell_type": "code",
      "metadata": {
        "id": "3lKduYGNz6TI"
      },
      "source": [
        "saved_model = load_model('best_model.h5')"
      ],
      "execution_count": null,
      "outputs": []
    },
    {
      "cell_type": "code",
      "metadata": {
        "colab": {
          "base_uri": "https://localhost:8080/"
        },
        "id": "lz2KNzPz1Wj3",
        "outputId": "ec05e97c-ccfe-4a5a-e430-853378d95d01"
      },
      "source": [
        "_, test_acc = saved_model.evaluate(x_test, y_test, verbose=2)\n",
        "print('Test: %.3f' % ( test_acc))"
      ],
      "execution_count": null,
      "outputs": [
        {
          "output_type": "stream",
          "text": [
            "1/1 - 0s - loss: 2.6815 - accuracy: 0.6000\n",
            "Test: 0.600\n"
          ],
          "name": "stdout"
        }
      ]
    },
    {
      "cell_type": "markdown",
      "metadata": {
        "id": "0E4XjhEEpsAi"
      },
      "source": [
        "## Screenshot"
      ]
    },
    {
      "cell_type": "markdown",
      "metadata": {
        "id": "TFrnhEvMpsET"
      },
      "source": [
        "![image.png](data:image/png;base64,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)"
      ]
    },
    {
      "cell_type": "markdown",
      "metadata": {
        "id": "1bk_Bvh-0zOZ"
      },
      "source": [
        "## Plots"
      ]
    },
    {
      "cell_type": "code",
      "metadata": {
        "colab": {
          "base_uri": "https://localhost:8080/",
          "height": 967
        },
        "id": "6h-YTnXt1Wm7",
        "outputId": "5bdacb3d-c998-4368-92ae-83e94b788c44"
      },
      "source": [
        "plt.figure(figsize = (10,7))\n",
        "plt.plot(history.history['accuracy'], color = 'blue')\n",
        "plt.plot(history.history['val_accuracy'], color = 'red')\n",
        "plt.title('Model accuracy')\n",
        "plt.ylabel('Accuracy')\n",
        "plt.xlabel('Epoch')\n",
        "plt.legend(['Train', 'Validation'], loc='upper left')\n",
        "plt.show()\n",
        "\n",
        "plt.figure(figsize = (10,7))\n",
        "plt.plot(history.history['loss'], color = 'blue')\n",
        "plt.plot(history.history['val_loss'], color = 'red')\n",
        "plt.ylim((0,1))\n",
        "plt.title('Model loss')\n",
        "plt.ylabel('Loss')\n",
        "plt.xlabel('Epoch')\n",
        "plt.legend(['Train', 'Validation'], loc='upper left')\n",
        "plt.show()"
      ],
      "execution_count": null,
      "outputs": [
        {
          "output_type": "display_data",
          "data": {
            "image/png": "[encoded data removed]",
            "text/plain": [
              "<Figure size 720x504 with 1 Axes>"
            ]
          },
          "metadata": {
            "tags": []
          }
        },
        {
          "output_type": "display_data",
          "data": {
            "image/png": "[encoded data removed]",
            "text/plain": [
              "<Figure size 720x504 with 1 Axes>"
            ]
          },
          "metadata": {
            "tags": []
          }
        }
      ]
    },
    {
      "cell_type": "markdown",
      "metadata": {
        "id": "AfqfHlE7qJVo"
      },
      "source": [
        "## Precision and Recall"
      ]
    },
    {
      "cell_type": "code",
      "metadata": {
        "id": "4_Fk0IQ3qyHA"
      },
      "source": [
        "from tensorflow import keras\n",
        "model = keras.models.load_model('best_model.h5')"
      ],
      "execution_count": null,
      "outputs": []
    },
    {
      "cell_type": "code",
      "metadata": {
        "id": "t68vAmdkqiOK"
      },
      "source": [
        "predictions = model.predict(x_test)"
      ],
      "execution_count": null,
      "outputs": []
    },
    {
      "cell_type": "code",
      "metadata": {
        "id": "hdgPIlwCsC5B"
      },
      "source": [
        "a = np.argmax( predictions ,axis=1)"
      ],
      "execution_count": null,
      "outputs": []
    },
    {
      "cell_type": "code",
      "metadata": {
        "colab": {
          "base_uri": "https://localhost:8080/"
        },
        "id": "I4_FCpIar4dK",
        "outputId": "54e7753c-3797-4de9-a883-455a5f291900"
      },
      "source": [
        "a"
      ],
      "execution_count": null,
      "outputs": [
        {
          "output_type": "execute_result",
          "data": {
            "text/plain": [
              "array([4, 1, 4, 3, 4, 4, 2, 2, 1, 4, 3, 1, 4, 2, 4, 4, 3, 4, 4, 4, 1, 4,\n",
              "       1, 1, 4, 4, 1, 3, 3, 3])"
            ]
          },
          "metadata": {
            "tags": []
          },
          "execution_count": 49
        }
      ]
    },
    {
      "cell_type": "code",
      "metadata": {
        "colab": {
          "base_uri": "https://localhost:8080/"
        },
        "id": "EaV1lbUPq7Lw",
        "outputId": "ec67b742-9129-4dd8-9b28-de36fd93b0f3"
      },
      "source": [
        "b = np.argmax( y_test ,axis=1)\n",
        "b"
      ],
      "execution_count": null,
      "outputs": [
        {
          "output_type": "execute_result",
          "data": {
            "text/plain": [
              "array([3, 0, 3, 3, 0, 4, 4, 2, 1, 0, 3, 1, 2, 2, 1, 0, 3, 2, 4, 2, 4, 4,\n",
              "       2, 0, 1, 4, 1, 1, 3, 1])"
            ]
          },
          "metadata": {
            "tags": []
          },
          "execution_count": 44
        }
      ]
    },
    {
      "cell_type": "code",
      "metadata": {
        "colab": {
          "base_uri": "https://localhost:8080/"
        },
        "id": "ovS6xlQNsM2G",
        "outputId": "d0b76dc6-f4d0-4fc4-ddd1-c549c66c7265"
      },
      "source": [
        "cm = confusion_matrix(a,b)\n",
        "cm"
      ],
      "execution_count": null,
      "outputs": [
        {
          "output_type": "execute_result",
          "data": {
            "text/plain": [
              "array([[0, 0, 0, 0, 0],\n",
              "       [2, 3, 1, 0, 1],\n",
              "       [0, 0, 2, 0, 1],\n",
              "       [0, 2, 0, 4, 0],\n",
              "       [3, 2, 3, 2, 4]])"
            ]
          },
          "metadata": {
            "tags": []
          },
          "execution_count": 50
        }
      ]
    },
    {
      "cell_type": "code",
      "metadata": {
        "colab": {
          "base_uri": "https://localhost:8080/"
        },
        "id": "BT8HIccrsRRi",
        "outputId": "010fb4e2-a2e7-47e4-e91a-bb4abc36a6e5"
      },
      "source": [
        "accuracy = sum(cm[i][i] for i in range(5)) / y_test.shape[0]\n",
        "print(\"accuracy = \" + str(accuracy))"
      ],
      "execution_count": null,
      "outputs": [
        {
          "output_type": "stream",
          "text": [
            "accuracy = 0.43333333333333335\n"
          ],
          "name": "stdout"
        }
      ]
    },
    {
      "cell_type": "code",
      "metadata": {
        "colab": {
          "base_uri": "https://localhost:8080/"
        },
        "id": "Tf81W45G1WqW",
        "outputId": "174e0d8f-6721-4f2e-cace-257b88936e98"
      },
      "source": [
        "from sklearn.metrics import precision_score, recall_score\n",
        "print('precision score - ',precision_score(a, b, average=\"macro\"))\n",
        "print('recall score - ', recall_score(a, b, average=\"macro\"))"
      ],
      "execution_count": null,
      "outputs": [
        {
          "output_type": "stream",
          "text": [
            "precision score -  0.419047619047619\n",
            "recall score -  0.4095238095238095\n"
          ],
          "name": "stdout"
        }
      ]
    },
    {
      "cell_type": "markdown",
      "metadata": {
        "id": "OyOCALrQtH5p"
      },
      "source": [
        "## Saving and Loading model"
      ]
    },
    {
      "cell_type": "code",
      "metadata": {
        "colab": {
          "base_uri": "https://localhost:8080/"
        },
        "id": "-0O9aBMBtUTV",
        "outputId": "f043662c-aaf1-411a-c382-d57e7858ad59"
      },
      "source": [
        "model.save('final_model2')"
      ],
      "execution_count": null,
      "outputs": [
        {
          "output_type": "stream",
          "text": [
            "WARNING:tensorflow:From /usr/local/lib/python3.6/dist-packages/tensorflow/python/training/tracking/tracking.py:111: Model.state_updates (from tensorflow.python.keras.engine.training) is deprecated and will be removed in a future version.\n",
            "Instructions for updating:\n",
            "This property should not be used in TensorFlow 2.0, as updates are applied automatically.\n",
            "WARNING:tensorflow:From /usr/local/lib/python3.6/dist-packages/tensorflow/python/training/tracking/tracking.py:111: Layer.updates (from tensorflow.python.keras.engine.base_layer) is deprecated and will be removed in a future version.\n",
            "Instructions for updating:\n",
            "This property should not be used in TensorFlow 2.0, as updates are applied automatically.\n",
            "INFO:tensorflow:Assets written to: final_model2/assets\n"
          ],
          "name": "stdout"
        }
      ]
    },
    {
      "cell_type": "code",
      "metadata": {
        "id": "D56lyZvDtZ2B"
      },
      "source": [
        "from tensorflow import keras\n",
        "model = keras.models.load_model('final_model2')"
      ],
      "execution_count": null,
      "outputs": []
    }
  ]
}