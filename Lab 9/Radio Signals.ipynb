{
  "nbformat": 4,
  "nbformat_minor": 0,
  "metadata": {
    "accelerator": "GPU",
    "colab": {
      "name": "Radio Signals.ipynb",
      "provenance": [],
      "collapsed_sections": [],
      "include_colab_link": true
    },
    "kernelspec": {
      "display_name": "Python 3",
      "language": "python",
      "name": "python3"
    },
    "language_info": {
      "codemirror_mode": {
        "name": "ipython",
        "version": 3
      },
      "file_extension": ".py",
      "mimetype": "text/x-python",
      "name": "python",
      "nbconvert_exporter": "python",
      "pygments_lexer": "ipython3",
      "version": "3.8.5"
    },
    "toc": {
      "base_numbering": 1,
      "nav_menu": {},
      "number_sections": true,
      "sideBar": true,
      "skip_h1_title": true,
      "title_cell": "Table of Contents",
      "title_sidebar": "Contents",
      "toc_cell": false,
      "toc_position": {},
      "toc_section_display": true,
      "toc_window_display": false
    }
  },
  "cells": [
    {
      "cell_type": "markdown",
      "metadata": {
        "id": "view-in-github",
        "colab_type": "text"
      },
      "source": [
        "<a href=\"https://colab.research.google.com/github/FlintyTub49/DL-Sem-VI/blob/main/Experiment%209/Radio%20Signals.ipynb\" target=\"_parent\"><img src=\"https://colab.research.google.com/assets/colab-badge.svg\" alt=\"Open In Colab\"/></a>"
      ]
    },
    {
      "cell_type": "markdown",
      "metadata": {
        "id": "fB2voc0SFB0W"
      },
      "source": [
        "## Import Packages"
      ]
    },
    {
      "cell_type": "code",
      "metadata": {
        "id": "7imLjGkqtuHx",
        "colab": {
          "base_uri": "https://localhost:8080/"
        },
        "outputId": "2f230f1a-0316-49b7-a358-73384733cfba"
      },
      "source": [
        "import pandas as pd\n",
        "import numpy as np\n",
        "import matplotlib.pyplot as plt\n",
        "import seaborn as sns\n",
        "\n",
        "import tensorflow as tf\n",
        "from tensorflow.keras.preprocessing.image import ImageDataGenerator\n",
        "from tensorflow.keras.layers import Dense, Input, Dropout,Flatten, Conv2D\n",
        "from tensorflow.keras.layers import BatchNormalization, Activation, MaxPooling2D\n",
        "\n",
        "from tensorflow.keras.models import Model, Sequential\n",
        "from tensorflow.keras.optimizers import Adam, SGD\n",
        "from tensorflow.keras.callbacks import ModelCheckpoint, ReduceLROnPlateau\n",
        "from tensorflow.keras.utils import plot_model\n",
        "\n",
        "from sklearn.metrics import confusion_matrix\n",
        "from sklearn import metrics\n",
        "\n",
        "import numpy as np\n",
        "np.random.seed(42)\n",
        "import warnings;warnings.simplefilter('ignore')\n",
        "%matplotlib inline\n",
        "print('Tensorflow version:', tf.__version__)"
      ],
      "execution_count": 10,
      "outputs": [
        {
          "output_type": "stream",
          "text": [
            "Tensorflow version: 2.4.1\n"
          ],
          "name": "stdout"
        }
      ]
    },
    {
      "cell_type": "markdown",
      "metadata": {
        "id": "8q9a-6AOtuKg"
      },
      "source": [
        "## Getting The Data"
      ]
    },
    {
      "cell_type": "code",
      "metadata": {
        "id": "_NCQF1PvZbFp"
      },
      "source": [
        "!wget --load-cookies /tmp/cookies.txt \"https://docs.google.com/uc?export=download&confirm=$(wget --quiet --save-cookies /tmp/cookies.txt --keep-session-cookies --no-check-certificate 'https://docs.google.com/uc?export=download&id=19nuL1JWqCDerQxfh1jrFtYyQsYP3Oq55' -O- | sed -rn 's/.*confirm=([0-9A-Za-z_]+).*/\\1\\n/p')&id=19nuL1JWqCDerQxfh1jrFtYyQsYP3Oq55\" -O dataset.zip && rm -rf /tmp/cookies.txt\n",
        "!unzip dataset.zip"
      ],
      "execution_count": null,
      "outputs": []
    },
    {
      "cell_type": "code",
      "metadata": {
        "id": "3J-nEHNHtuK6"
      },
      "source": [
        "train_images = pd.read_csv('dataset/train/images.csv', header=None)\n",
        "train_labels = pd.read_csv('dataset/train/labels.csv', header=None)\n",
        "\n",
        "val_images = pd.read_csv('dataset/validation/images.csv', header=None)\n",
        "val_labels = pd.read_csv('dataset/validation/labels.csv', header=None)"
      ],
      "execution_count": 3,
      "outputs": []
    },
    {
      "cell_type": "code",
      "metadata": {
        "id": "8IQRiZN4tuNJ",
        "colab": {
          "base_uri": "https://localhost:8080/",
          "height": 253
        },
        "outputId": "01456c38-b901-43b4-90f1-0f4812ab3d72"
      },
      "source": [
        "train_images.head()"
      ],
      "execution_count": 4,
      "outputs": [
        {
          "output_type": "execute_result",
          "data": {
            "text/html": [
              "<div>\n",
              "<style scoped>\n",
              "    .dataframe tbody tr th:only-of-type {\n",
              "        vertical-align: middle;\n",
              "    }\n",
              "\n",
              "    .dataframe tbody tr th {\n",
              "        vertical-align: top;\n",
              "    }\n",
              "\n",
              "    .dataframe thead th {\n",
              "        text-align: right;\n",
              "    }\n",
              "</style>\n",
              "<table border=\"1\" class=\"dataframe\">\n",
              "  <thead>\n",
              "    <tr style=\"text-align: right;\">\n",
              "      <th></th>\n",
              "      <th>0</th>\n",
              "      <th>1</th>\n",
              "      <th>2</th>\n",
              "      <th>3</th>\n",
              "      <th>4</th>\n",
              "      <th>5</th>\n",
              "      <th>6</th>\n",
              "      <th>7</th>\n",
              "      <th>8</th>\n",
              "      <th>9</th>\n",
              "      <th>10</th>\n",
              "      <th>11</th>\n",
              "      <th>12</th>\n",
              "      <th>13</th>\n",
              "      <th>14</th>\n",
              "      <th>15</th>\n",
              "      <th>16</th>\n",
              "      <th>17</th>\n",
              "      <th>18</th>\n",
              "      <th>19</th>\n",
              "      <th>20</th>\n",
              "      <th>21</th>\n",
              "      <th>22</th>\n",
              "      <th>23</th>\n",
              "      <th>24</th>\n",
              "      <th>25</th>\n",
              "      <th>26</th>\n",
              "      <th>27</th>\n",
              "      <th>28</th>\n",
              "      <th>29</th>\n",
              "      <th>30</th>\n",
              "      <th>31</th>\n",
              "      <th>32</th>\n",
              "      <th>33</th>\n",
              "      <th>34</th>\n",
              "      <th>35</th>\n",
              "      <th>36</th>\n",
              "      <th>37</th>\n",
              "      <th>38</th>\n",
              "      <th>39</th>\n",
              "      <th>...</th>\n",
              "      <th>8152</th>\n",
              "      <th>8153</th>\n",
              "      <th>8154</th>\n",
              "      <th>8155</th>\n",
              "      <th>8156</th>\n",
              "      <th>8157</th>\n",
              "      <th>8158</th>\n",
              "      <th>8159</th>\n",
              "      <th>8160</th>\n",
              "      <th>8161</th>\n",
              "      <th>8162</th>\n",
              "      <th>8163</th>\n",
              "      <th>8164</th>\n",
              "      <th>8165</th>\n",
              "      <th>8166</th>\n",
              "      <th>8167</th>\n",
              "      <th>8168</th>\n",
              "      <th>8169</th>\n",
              "      <th>8170</th>\n",
              "      <th>8171</th>\n",
              "      <th>8172</th>\n",
              "      <th>8173</th>\n",
              "      <th>8174</th>\n",
              "      <th>8175</th>\n",
              "      <th>8176</th>\n",
              "      <th>8177</th>\n",
              "      <th>8178</th>\n",
              "      <th>8179</th>\n",
              "      <th>8180</th>\n",
              "      <th>8181</th>\n",
              "      <th>8182</th>\n",
              "      <th>8183</th>\n",
              "      <th>8184</th>\n",
              "      <th>8185</th>\n",
              "      <th>8186</th>\n",
              "      <th>8187</th>\n",
              "      <th>8188</th>\n",
              "      <th>8189</th>\n",
              "      <th>8190</th>\n",
              "      <th>8191</th>\n",
              "    </tr>\n",
              "  </thead>\n",
              "  <tbody>\n",
              "    <tr>\n",
              "      <th>0</th>\n",
              "      <td>0.631373</td>\n",
              "      <td>0.623529</td>\n",
              "      <td>0.713726</td>\n",
              "      <td>0.705882</td>\n",
              "      <td>0.658824</td>\n",
              "      <td>0.666667</td>\n",
              "      <td>0.654902</td>\n",
              "      <td>0.635294</td>\n",
              "      <td>0.647059</td>\n",
              "      <td>0.705882</td>\n",
              "      <td>0.729412</td>\n",
              "      <td>0.725490</td>\n",
              "      <td>0.619608</td>\n",
              "      <td>0.674510</td>\n",
              "      <td>0.643137</td>\n",
              "      <td>0.705882</td>\n",
              "      <td>0.713726</td>\n",
              "      <td>0.658824</td>\n",
              "      <td>0.615686</td>\n",
              "      <td>0.690196</td>\n",
              "      <td>0.654902</td>\n",
              "      <td>0.525490</td>\n",
              "      <td>0.556863</td>\n",
              "      <td>0.541176</td>\n",
              "      <td>0.482353</td>\n",
              "      <td>0.588235</td>\n",
              "      <td>0.615686</td>\n",
              "      <td>0.600000</td>\n",
              "      <td>0.603922</td>\n",
              "      <td>0.627451</td>\n",
              "      <td>0.678431</td>\n",
              "      <td>0.658824</td>\n",
              "      <td>0.698039</td>\n",
              "      <td>0.576471</td>\n",
              "      <td>0.678431</td>\n",
              "      <td>0.686275</td>\n",
              "      <td>0.690196</td>\n",
              "      <td>0.705882</td>\n",
              "      <td>0.705882</td>\n",
              "      <td>0.643137</td>\n",
              "      <td>...</td>\n",
              "      <td>0.650980</td>\n",
              "      <td>0.666667</td>\n",
              "      <td>0.666667</td>\n",
              "      <td>0.709804</td>\n",
              "      <td>0.682353</td>\n",
              "      <td>0.682353</td>\n",
              "      <td>0.682353</td>\n",
              "      <td>0.658824</td>\n",
              "      <td>0.682353</td>\n",
              "      <td>0.643137</td>\n",
              "      <td>0.627451</td>\n",
              "      <td>0.623529</td>\n",
              "      <td>0.650980</td>\n",
              "      <td>0.721569</td>\n",
              "      <td>0.627451</td>\n",
              "      <td>0.635294</td>\n",
              "      <td>0.709804</td>\n",
              "      <td>0.690196</td>\n",
              "      <td>0.678431</td>\n",
              "      <td>0.647059</td>\n",
              "      <td>0.658824</td>\n",
              "      <td>0.682353</td>\n",
              "      <td>0.654902</td>\n",
              "      <td>0.694118</td>\n",
              "      <td>0.741176</td>\n",
              "      <td>0.678431</td>\n",
              "      <td>0.662745</td>\n",
              "      <td>0.729412</td>\n",
              "      <td>0.694118</td>\n",
              "      <td>0.647059</td>\n",
              "      <td>0.682353</td>\n",
              "      <td>0.611765</td>\n",
              "      <td>0.650980</td>\n",
              "      <td>0.658824</td>\n",
              "      <td>0.600000</td>\n",
              "      <td>0.603922</td>\n",
              "      <td>0.654902</td>\n",
              "      <td>0.694118</td>\n",
              "      <td>0.658824</td>\n",
              "      <td>0.666667</td>\n",
              "    </tr>\n",
              "    <tr>\n",
              "      <th>1</th>\n",
              "      <td>0.725490</td>\n",
              "      <td>0.752941</td>\n",
              "      <td>0.749020</td>\n",
              "      <td>0.701961</td>\n",
              "      <td>0.690196</td>\n",
              "      <td>0.721569</td>\n",
              "      <td>0.709804</td>\n",
              "      <td>0.745098</td>\n",
              "      <td>0.654902</td>\n",
              "      <td>0.721569</td>\n",
              "      <td>0.678431</td>\n",
              "      <td>0.709804</td>\n",
              "      <td>0.713726</td>\n",
              "      <td>0.686275</td>\n",
              "      <td>0.717647</td>\n",
              "      <td>0.713726</td>\n",
              "      <td>0.694118</td>\n",
              "      <td>0.690196</td>\n",
              "      <td>0.721569</td>\n",
              "      <td>0.701961</td>\n",
              "      <td>0.698039</td>\n",
              "      <td>0.713726</td>\n",
              "      <td>0.705882</td>\n",
              "      <td>0.756863</td>\n",
              "      <td>0.756863</td>\n",
              "      <td>0.694118</td>\n",
              "      <td>0.650980</td>\n",
              "      <td>0.674510</td>\n",
              "      <td>0.752941</td>\n",
              "      <td>0.725490</td>\n",
              "      <td>0.725490</td>\n",
              "      <td>0.760784</td>\n",
              "      <td>0.678431</td>\n",
              "      <td>0.717647</td>\n",
              "      <td>0.725490</td>\n",
              "      <td>0.682353</td>\n",
              "      <td>0.709804</td>\n",
              "      <td>0.729412</td>\n",
              "      <td>0.721569</td>\n",
              "      <td>0.717647</td>\n",
              "      <td>...</td>\n",
              "      <td>0.686275</td>\n",
              "      <td>0.670588</td>\n",
              "      <td>0.713726</td>\n",
              "      <td>0.733333</td>\n",
              "      <td>0.725490</td>\n",
              "      <td>0.694118</td>\n",
              "      <td>0.694118</td>\n",
              "      <td>0.686275</td>\n",
              "      <td>0.674510</td>\n",
              "      <td>0.729412</td>\n",
              "      <td>0.721569</td>\n",
              "      <td>0.701961</td>\n",
              "      <td>0.682353</td>\n",
              "      <td>0.709804</td>\n",
              "      <td>0.756863</td>\n",
              "      <td>0.698039</td>\n",
              "      <td>0.729412</td>\n",
              "      <td>0.721569</td>\n",
              "      <td>0.674510</td>\n",
              "      <td>0.698039</td>\n",
              "      <td>0.725490</td>\n",
              "      <td>0.733333</td>\n",
              "      <td>0.666667</td>\n",
              "      <td>0.682353</td>\n",
              "      <td>0.701961</td>\n",
              "      <td>0.737255</td>\n",
              "      <td>0.745098</td>\n",
              "      <td>0.725490</td>\n",
              "      <td>0.698039</td>\n",
              "      <td>0.650980</td>\n",
              "      <td>0.721569</td>\n",
              "      <td>0.698039</td>\n",
              "      <td>0.721569</td>\n",
              "      <td>0.686275</td>\n",
              "      <td>0.713726</td>\n",
              "      <td>0.682353</td>\n",
              "      <td>0.690196</td>\n",
              "      <td>0.698039</td>\n",
              "      <td>0.701961</td>\n",
              "      <td>0.725490</td>\n",
              "    </tr>\n",
              "    <tr>\n",
              "      <th>2</th>\n",
              "      <td>0.717647</td>\n",
              "      <td>0.701961</td>\n",
              "      <td>0.713726</td>\n",
              "      <td>0.733333</td>\n",
              "      <td>0.705882</td>\n",
              "      <td>0.717647</td>\n",
              "      <td>0.725490</td>\n",
              "      <td>0.682353</td>\n",
              "      <td>0.717647</td>\n",
              "      <td>0.674510</td>\n",
              "      <td>0.690196</td>\n",
              "      <td>0.670588</td>\n",
              "      <td>0.662745</td>\n",
              "      <td>0.666667</td>\n",
              "      <td>0.713726</td>\n",
              "      <td>0.701961</td>\n",
              "      <td>0.721569</td>\n",
              "      <td>0.713726</td>\n",
              "      <td>0.662745</td>\n",
              "      <td>0.698039</td>\n",
              "      <td>0.682353</td>\n",
              "      <td>0.639216</td>\n",
              "      <td>0.717647</td>\n",
              "      <td>0.658824</td>\n",
              "      <td>0.674510</td>\n",
              "      <td>0.639216</td>\n",
              "      <td>0.643137</td>\n",
              "      <td>0.635294</td>\n",
              "      <td>0.654902</td>\n",
              "      <td>0.682353</td>\n",
              "      <td>0.639216</td>\n",
              "      <td>0.733333</td>\n",
              "      <td>0.690196</td>\n",
              "      <td>0.658824</td>\n",
              "      <td>0.686275</td>\n",
              "      <td>0.658824</td>\n",
              "      <td>0.690196</td>\n",
              "      <td>0.698039</td>\n",
              "      <td>0.709804</td>\n",
              "      <td>0.650980</td>\n",
              "      <td>...</td>\n",
              "      <td>0.533333</td>\n",
              "      <td>0.572549</td>\n",
              "      <td>0.537255</td>\n",
              "      <td>0.549020</td>\n",
              "      <td>0.670588</td>\n",
              "      <td>0.690196</td>\n",
              "      <td>0.670588</td>\n",
              "      <td>0.643137</td>\n",
              "      <td>0.662745</td>\n",
              "      <td>0.713726</td>\n",
              "      <td>0.717647</td>\n",
              "      <td>0.721569</td>\n",
              "      <td>0.709804</td>\n",
              "      <td>0.674510</td>\n",
              "      <td>0.709804</td>\n",
              "      <td>0.686275</td>\n",
              "      <td>0.658824</td>\n",
              "      <td>0.694118</td>\n",
              "      <td>0.698039</td>\n",
              "      <td>0.694118</td>\n",
              "      <td>0.678431</td>\n",
              "      <td>0.678431</td>\n",
              "      <td>0.690196</td>\n",
              "      <td>0.662745</td>\n",
              "      <td>0.650980</td>\n",
              "      <td>0.650980</td>\n",
              "      <td>0.686275</td>\n",
              "      <td>0.631373</td>\n",
              "      <td>0.666667</td>\n",
              "      <td>0.701961</td>\n",
              "      <td>0.709804</td>\n",
              "      <td>0.694118</td>\n",
              "      <td>0.705882</td>\n",
              "      <td>0.682353</td>\n",
              "      <td>0.639216</td>\n",
              "      <td>0.713726</td>\n",
              "      <td>0.670588</td>\n",
              "      <td>0.678431</td>\n",
              "      <td>0.737255</td>\n",
              "      <td>0.674510</td>\n",
              "    </tr>\n",
              "    <tr>\n",
              "      <th>3</th>\n",
              "      <td>0.705882</td>\n",
              "      <td>0.674510</td>\n",
              "      <td>0.654902</td>\n",
              "      <td>0.678431</td>\n",
              "      <td>0.666667</td>\n",
              "      <td>0.662745</td>\n",
              "      <td>0.678431</td>\n",
              "      <td>0.662745</td>\n",
              "      <td>0.686275</td>\n",
              "      <td>0.686275</td>\n",
              "      <td>0.631373</td>\n",
              "      <td>0.650980</td>\n",
              "      <td>0.670588</td>\n",
              "      <td>0.737255</td>\n",
              "      <td>0.674510</td>\n",
              "      <td>0.615686</td>\n",
              "      <td>0.670588</td>\n",
              "      <td>0.705882</td>\n",
              "      <td>0.686275</td>\n",
              "      <td>0.678431</td>\n",
              "      <td>0.694118</td>\n",
              "      <td>0.647059</td>\n",
              "      <td>0.662745</td>\n",
              "      <td>0.682353</td>\n",
              "      <td>0.654902</td>\n",
              "      <td>0.721569</td>\n",
              "      <td>0.709804</td>\n",
              "      <td>0.631373</td>\n",
              "      <td>0.670588</td>\n",
              "      <td>0.674510</td>\n",
              "      <td>0.701961</td>\n",
              "      <td>0.725490</td>\n",
              "      <td>0.666667</td>\n",
              "      <td>0.647059</td>\n",
              "      <td>0.733333</td>\n",
              "      <td>0.682353</td>\n",
              "      <td>0.678431</td>\n",
              "      <td>0.603922</td>\n",
              "      <td>0.666667</td>\n",
              "      <td>0.713726</td>\n",
              "      <td>...</td>\n",
              "      <td>0.670588</td>\n",
              "      <td>0.705882</td>\n",
              "      <td>0.749020</td>\n",
              "      <td>0.662745</td>\n",
              "      <td>0.564706</td>\n",
              "      <td>0.623529</td>\n",
              "      <td>0.674510</td>\n",
              "      <td>0.709804</td>\n",
              "      <td>0.658824</td>\n",
              "      <td>0.631373</td>\n",
              "      <td>0.705882</td>\n",
              "      <td>0.670588</td>\n",
              "      <td>0.658824</td>\n",
              "      <td>0.690196</td>\n",
              "      <td>0.674510</td>\n",
              "      <td>0.658824</td>\n",
              "      <td>0.635294</td>\n",
              "      <td>0.682353</td>\n",
              "      <td>0.682353</td>\n",
              "      <td>0.639216</td>\n",
              "      <td>0.666667</td>\n",
              "      <td>0.654902</td>\n",
              "      <td>0.647059</td>\n",
              "      <td>0.670588</td>\n",
              "      <td>0.682353</td>\n",
              "      <td>0.639216</td>\n",
              "      <td>0.705882</td>\n",
              "      <td>0.729412</td>\n",
              "      <td>0.674510</td>\n",
              "      <td>0.666667</td>\n",
              "      <td>0.639216</td>\n",
              "      <td>0.662745</td>\n",
              "      <td>0.631373</td>\n",
              "      <td>0.643137</td>\n",
              "      <td>0.705882</td>\n",
              "      <td>0.662745</td>\n",
              "      <td>0.705882</td>\n",
              "      <td>0.666667</td>\n",
              "      <td>0.654902</td>\n",
              "      <td>0.631373</td>\n",
              "    </tr>\n",
              "    <tr>\n",
              "      <th>4</th>\n",
              "      <td>0.647059</td>\n",
              "      <td>0.729412</td>\n",
              "      <td>0.701961</td>\n",
              "      <td>0.674510</td>\n",
              "      <td>0.611765</td>\n",
              "      <td>0.698039</td>\n",
              "      <td>0.713726</td>\n",
              "      <td>0.662745</td>\n",
              "      <td>0.701961</td>\n",
              "      <td>0.674510</td>\n",
              "      <td>0.631373</td>\n",
              "      <td>0.709804</td>\n",
              "      <td>0.694118</td>\n",
              "      <td>0.698039</td>\n",
              "      <td>0.666667</td>\n",
              "      <td>0.690196</td>\n",
              "      <td>0.690196</td>\n",
              "      <td>0.682353</td>\n",
              "      <td>0.682353</td>\n",
              "      <td>0.647059</td>\n",
              "      <td>0.678431</td>\n",
              "      <td>0.658824</td>\n",
              "      <td>0.760784</td>\n",
              "      <td>0.729412</td>\n",
              "      <td>0.674510</td>\n",
              "      <td>0.694118</td>\n",
              "      <td>0.698039</td>\n",
              "      <td>0.713726</td>\n",
              "      <td>0.690196</td>\n",
              "      <td>0.698039</td>\n",
              "      <td>0.686275</td>\n",
              "      <td>0.705882</td>\n",
              "      <td>0.662745</td>\n",
              "      <td>0.670588</td>\n",
              "      <td>0.705882</td>\n",
              "      <td>0.682353</td>\n",
              "      <td>0.690196</td>\n",
              "      <td>0.733333</td>\n",
              "      <td>0.709804</td>\n",
              "      <td>0.701961</td>\n",
              "      <td>...</td>\n",
              "      <td>0.639216</td>\n",
              "      <td>0.690196</td>\n",
              "      <td>0.662745</td>\n",
              "      <td>0.658824</td>\n",
              "      <td>0.662745</td>\n",
              "      <td>0.698039</td>\n",
              "      <td>0.603922</td>\n",
              "      <td>0.690196</td>\n",
              "      <td>0.627451</td>\n",
              "      <td>0.627451</td>\n",
              "      <td>0.654902</td>\n",
              "      <td>0.725490</td>\n",
              "      <td>0.650980</td>\n",
              "      <td>0.717647</td>\n",
              "      <td>0.666667</td>\n",
              "      <td>0.709804</td>\n",
              "      <td>0.682353</td>\n",
              "      <td>0.674510</td>\n",
              "      <td>0.721569</td>\n",
              "      <td>0.741176</td>\n",
              "      <td>0.635294</td>\n",
              "      <td>0.615686</td>\n",
              "      <td>0.674510</td>\n",
              "      <td>0.690196</td>\n",
              "      <td>0.658824</td>\n",
              "      <td>0.694118</td>\n",
              "      <td>0.701961</td>\n",
              "      <td>0.670588</td>\n",
              "      <td>0.721569</td>\n",
              "      <td>0.780392</td>\n",
              "      <td>0.639216</td>\n",
              "      <td>0.670588</td>\n",
              "      <td>0.705882</td>\n",
              "      <td>0.674510</td>\n",
              "      <td>0.721569</td>\n",
              "      <td>0.694118</td>\n",
              "      <td>0.674510</td>\n",
              "      <td>0.705882</td>\n",
              "      <td>0.749020</td>\n",
              "      <td>0.729412</td>\n",
              "    </tr>\n",
              "  </tbody>\n",
              "</table>\n",
              "<p>5 rows × 8192 columns</p>\n",
              "</div>"
            ],
            "text/plain": [
              "       0         1         2     ...      8189      8190      8191\n",
              "0  0.631373  0.623529  0.713726  ...  0.694118  0.658824  0.666667\n",
              "1  0.725490  0.752941  0.749020  ...  0.698039  0.701961  0.725490\n",
              "2  0.717647  0.701961  0.713726  ...  0.678431  0.737255  0.674510\n",
              "3  0.705882  0.674510  0.654902  ...  0.666667  0.654902  0.631373\n",
              "4  0.647059  0.729412  0.701961  ...  0.705882  0.749020  0.729412\n",
              "\n",
              "[5 rows x 8192 columns]"
            ]
          },
          "metadata": {
            "tags": []
          },
          "execution_count": 4
        }
      ]
    },
    {
      "cell_type": "code",
      "metadata": {
        "id": "VJjApp9btuO3",
        "colab": {
          "base_uri": "https://localhost:8080/",
          "height": 204
        },
        "outputId": "7c5e17fb-a242-4cab-f45c-5644ebbf9dd5"
      },
      "source": [
        "train_labels.head()"
      ],
      "execution_count": 5,
      "outputs": [
        {
          "output_type": "execute_result",
          "data": {
            "text/html": [
              "<div>\n",
              "<style scoped>\n",
              "    .dataframe tbody tr th:only-of-type {\n",
              "        vertical-align: middle;\n",
              "    }\n",
              "\n",
              "    .dataframe tbody tr th {\n",
              "        vertical-align: top;\n",
              "    }\n",
              "\n",
              "    .dataframe thead th {\n",
              "        text-align: right;\n",
              "    }\n",
              "</style>\n",
              "<table border=\"1\" class=\"dataframe\">\n",
              "  <thead>\n",
              "    <tr style=\"text-align: right;\">\n",
              "      <th></th>\n",
              "      <th>0</th>\n",
              "      <th>1</th>\n",
              "      <th>2</th>\n",
              "      <th>3</th>\n",
              "    </tr>\n",
              "  </thead>\n",
              "  <tbody>\n",
              "    <tr>\n",
              "      <th>0</th>\n",
              "      <td>1.0</td>\n",
              "      <td>0.0</td>\n",
              "      <td>0.0</td>\n",
              "      <td>0.0</td>\n",
              "    </tr>\n",
              "    <tr>\n",
              "      <th>1</th>\n",
              "      <td>1.0</td>\n",
              "      <td>0.0</td>\n",
              "      <td>0.0</td>\n",
              "      <td>0.0</td>\n",
              "    </tr>\n",
              "    <tr>\n",
              "      <th>2</th>\n",
              "      <td>1.0</td>\n",
              "      <td>0.0</td>\n",
              "      <td>0.0</td>\n",
              "      <td>0.0</td>\n",
              "    </tr>\n",
              "    <tr>\n",
              "      <th>3</th>\n",
              "      <td>1.0</td>\n",
              "      <td>0.0</td>\n",
              "      <td>0.0</td>\n",
              "      <td>0.0</td>\n",
              "    </tr>\n",
              "    <tr>\n",
              "      <th>4</th>\n",
              "      <td>1.0</td>\n",
              "      <td>0.0</td>\n",
              "      <td>0.0</td>\n",
              "      <td>0.0</td>\n",
              "    </tr>\n",
              "  </tbody>\n",
              "</table>\n",
              "</div>"
            ],
            "text/plain": [
              "     0    1    2    3\n",
              "0  1.0  0.0  0.0  0.0\n",
              "1  1.0  0.0  0.0  0.0\n",
              "2  1.0  0.0  0.0  0.0\n",
              "3  1.0  0.0  0.0  0.0\n",
              "4  1.0  0.0  0.0  0.0"
            ]
          },
          "metadata": {
            "tags": []
          },
          "execution_count": 5
        }
      ]
    },
    {
      "cell_type": "code",
      "metadata": {
        "id": "INLX8oL6tuQW",
        "colab": {
          "base_uri": "https://localhost:8080/"
        },
        "outputId": "68b32d5e-9dc8-4650-f0a4-c2a5bab9eba3"
      },
      "source": [
        "print(\"Training set shape:\", train_images.shape, train_labels.shape)\n",
        "print(\"Validation set shape:\", val_images.shape, val_labels.shape)"
      ],
      "execution_count": 6,
      "outputs": [
        {
          "output_type": "stream",
          "text": [
            "Training set shape: (3200, 8192) (3200, 4)\n",
            "Validation set shape: (800, 8192) (800, 4)\n"
          ],
          "name": "stdout"
        }
      ]
    },
    {
      "cell_type": "markdown",
      "metadata": {
        "id": "VKtQl2uuA96L"
      },
      "source": [
        "### Reshaping The Images"
      ]
    },
    {
      "cell_type": "code",
      "metadata": {
        "id": "KqP50asituR-"
      },
      "source": [
        "x_train = train_images.values.reshape(3200, 64, 128, 1)\n",
        "x_val = val_images.values.reshape(800, 64, 128, 1)\n",
        "\n",
        "y_train = train_labels.values\n",
        "y_val = val_labels.values"
      ],
      "execution_count": 7,
      "outputs": []
    },
    {
      "cell_type": "markdown",
      "metadata": {
        "id": "nYkM8WivtuUn"
      },
      "source": [
        "## Plotting The Spectrograms"
      ]
    },
    {
      "cell_type": "code",
      "metadata": {
        "id": "PXCfc_nStuU1",
        "colab": {
          "base_uri": "https://localhost:8080/",
          "height": 133
        },
        "outputId": "eef6fa88-13cd-4159-d289-23b1d8fe7e56"
      },
      "source": [
        "plt.figure(0, figsize = (12, 12))\n",
        "for i in range(1, 4):\n",
        "    plt.subplot(1, 3, i)\n",
        "    img = np.squeeze(x_train[np.random.randint(0, x_train.shape[0])])\n",
        "    plt.xticks([])\n",
        "    plt.yticks([])\n",
        "    plt.imshow(img)\n",
        "    \n",
        "plt.imshow(np.squeeze(x_train[3]), cmap=\"gray\");"
      ],
      "execution_count": 8,
      "outputs": [
        {
          "output_type": "display_data",
          "data": {
            "image/png": "[encoded data removed]",
            "text/plain": [
              "<Figure size 864x864 with 3 Axes>"
            ]
          },
          "metadata": {
            "tags": []
          }
        }
      ]
    },
    {
      "cell_type": "markdown",
      "metadata": {
        "id": "Us1zFH16tuYD"
      },
      "source": [
        "## Performing Image Augmentation"
      ]
    },
    {
      "cell_type": "code",
      "metadata": {
        "id": "lZpV7zJ_tuYT"
      },
      "source": [
        "datagen_train = ImageDataGenerator(horizontal_flip = True)\n",
        "datagen_train.fit(x_train)\n",
        "\n",
        "datagen_val = ImageDataGenerator(horizontal_flip = True)\n",
        "datagen_val.fit(x_val)"
      ],
      "execution_count": 11,
      "outputs": []
    },
    {
      "cell_type": "markdown",
      "metadata": {
        "id": "g63zJ2I2tuax"
      },
      "source": [
        "## Creating the CNN Model"
      ]
    },
    {
      "cell_type": "code",
      "metadata": {
        "id": "SfsSBMQztub2"
      },
      "source": [
        "# Initialising the CNN\n",
        "model = Sequential()\n",
        "\n",
        "# 1st Convolution\n",
        "model.add(Conv2D(32,(5,5), padding='same', input_shape=(64, 128,1)))\n",
        "model.add(BatchNormalization())\n",
        "model.add(Activation('relu'))\n",
        "model.add(MaxPooling2D(pool_size=(2, 2)))\n",
        "model.add(Dropout(0.25))\n",
        "\n",
        "# 2nd Convolution layer\n",
        "model.add(Conv2D(64,(5,5), padding='same'))\n",
        "model.add(BatchNormalization())\n",
        "model.add(Activation('relu'))\n",
        "model.add(MaxPooling2D(pool_size=(2, 2)))\n",
        "model.add(Dropout(0.25))\n",
        "\n",
        "# Flattening\n",
        "model.add(Flatten())\n",
        "\n",
        "# Fully connected layer\n",
        "model.add(Dense(1024))\n",
        "model.add(BatchNormalization())\n",
        "model.add(Activation('relu'))\n",
        "model.add(Dropout(0.4))\n",
        "\n",
        "model.add(Dense(4, activation = 'softmax'))"
      ],
      "execution_count": 12,
      "outputs": []
    },
    {
      "cell_type": "code",
      "metadata": {
        "id": "zFn3ITJstuds"
      },
      "source": [
        "initial_learning_rate = 0.005\n",
        "lr_schedule = tf.keras.optimizers.schedules.ExponentialDecay(\n",
        "    initial_learning_rate,\n",
        "    decay_steps=5,\n",
        "    decay_rate=0.96,\n",
        "    staircase=True)\n",
        "\n",
        "optimizer = Adam(learning_rate = lr_schedule)\n",
        "\n",
        "model.compile(optimizer=optimizer, loss='categorical_crossentropy', metrics=['accuracy'])"
      ],
      "execution_count": 13,
      "outputs": []
    },
    {
      "cell_type": "markdown",
      "metadata": {
        "id": "aAlOFjnQtufh"
      },
      "source": [
        "## Training the Model"
      ]
    },
    {
      "cell_type": "code",
      "metadata": {
        "id": "ePHf0qbEtufp",
        "colab": {
          "base_uri": "https://localhost:8080/"
        },
        "outputId": "b025ad66-b5ff-4ce6-adca-bd90c239beaf"
      },
      "source": [
        "checkpoint = ModelCheckpoint(\"model_weights.h5\", monitor='val_loss',\n",
        "                             save_weights_only=True, mode='min', verbose=0)\n",
        "callbacks = [checkpoint]#, reduce_lr]\n",
        "batch_size = 32\n",
        "history = model.fit(datagen_train.flow(x_train, y_train, batch_size=batch_size, shuffle=True),\n",
        "                    steps_per_epoch = len(x_train)//batch_size,\n",
        "                    validation_data = datagen_val.flow(x_val, y_val, batch_size=batch_size, shuffle=True),\n",
        "                    validation_steps = len(x_val)//batch_size, epochs = 12, callbacks = callbacks)"
      ],
      "execution_count": 14,
      "outputs": [
        {
          "output_type": "stream",
          "text": [
            "Epoch 1/12\n",
            "100/100 [==============================] - 36s 28ms/step - loss: 0.6549 - accuracy: 0.6816 - val_loss: 4.7431 - val_accuracy: 0.2500\n",
            "Epoch 2/12\n",
            "100/100 [==============================] - 2s 24ms/step - loss: 0.4581 - accuracy: 0.7252 - val_loss: 5.4485 - val_accuracy: 0.2500\n",
            "Epoch 3/12\n",
            "100/100 [==============================] - 2s 24ms/step - loss: 0.3736 - accuracy: 0.7526 - val_loss: 6.0982 - val_accuracy: 0.2500\n",
            "Epoch 4/12\n",
            "100/100 [==============================] - 2s 24ms/step - loss: 0.3863 - accuracy: 0.7423 - val_loss: 5.3670 - val_accuracy: 0.2500\n",
            "Epoch 5/12\n",
            "100/100 [==============================] - 2s 24ms/step - loss: 0.3706 - accuracy: 0.7528 - val_loss: 3.4070 - val_accuracy: 0.3975\n",
            "Epoch 6/12\n",
            "100/100 [==============================] - 2s 24ms/step - loss: 0.3597 - accuracy: 0.7592 - val_loss: 2.4396 - val_accuracy: 0.4837\n",
            "Epoch 7/12\n",
            "100/100 [==============================] - 2s 24ms/step - loss: 0.3696 - accuracy: 0.7614 - val_loss: 0.9320 - val_accuracy: 0.6025\n",
            "Epoch 8/12\n",
            "100/100 [==============================] - 2s 24ms/step - loss: 0.3796 - accuracy: 0.7480 - val_loss: 0.4529 - val_accuracy: 0.7225\n",
            "Epoch 9/12\n",
            "100/100 [==============================] - 2s 24ms/step - loss: 0.3581 - accuracy: 0.7594 - val_loss: 0.3981 - val_accuracy: 0.7325\n",
            "Epoch 10/12\n",
            "100/100 [==============================] - 2s 24ms/step - loss: 0.3639 - accuracy: 0.7552 - val_loss: 0.3744 - val_accuracy: 0.7538\n",
            "Epoch 11/12\n",
            "100/100 [==============================] - 2s 24ms/step - loss: 0.3648 - accuracy: 0.7644 - val_loss: 0.3700 - val_accuracy: 0.7500\n",
            "Epoch 12/12\n",
            "100/100 [==============================] - 2s 24ms/step - loss: 0.3705 - accuracy: 0.7494 - val_loss: 0.3698 - val_accuracy: 0.7538\n"
          ],
          "name": "stdout"
        }
      ]
    },
    {
      "cell_type": "markdown",
      "metadata": {
        "id": "5KKoBG_Etug9"
      },
      "source": [
        "## Evaluating The Model"
      ]
    },
    {
      "cell_type": "code",
      "metadata": {
        "id": "F2EqymPotuhF",
        "colab": {
          "base_uri": "https://localhost:8080/"
        },
        "outputId": "0324bc48-c99d-417b-ba44-ee10998445ff"
      },
      "source": [
        "model.evaluate(x_val, y_val)"
      ],
      "execution_count": 15,
      "outputs": [
        {
          "output_type": "stream",
          "text": [
            "25/25 [==============================] - 0s 7ms/step - loss: 0.3710 - accuracy: 0.7600\n"
          ],
          "name": "stdout"
        },
        {
          "output_type": "execute_result",
          "data": {
            "text/plain": [
              "[0.3709583282470703, 0.7599999904632568]"
            ]
          },
          "metadata": {
            "tags": []
          },
          "execution_count": 15
        }
      ]
    },
    {
      "cell_type": "markdown",
      "metadata": {
        "id": "PMmKbP5KA96S"
      },
      "source": [
        "### Classification Report"
      ]
    },
    {
      "cell_type": "code",
      "metadata": {
        "id": "cTUfQc8dtuh2",
        "colab": {
          "base_uri": "https://localhost:8080/"
        },
        "outputId": "2931791e-2e9f-4c9d-f0de-36f584c19709"
      },
      "source": [
        "y_true = np.argmax(y_val, 1)\n",
        "y_pred = np.argmax(model.predict(x_val), 1)\n",
        "\n",
        "print(metrics.classification_report(y_true, y_pred))\n",
        "print(\"Classification accuracy: %0.4f\" % metrics.accuracy_score(y_true, y_pred))"
      ],
      "execution_count": 16,
      "outputs": [
        {
          "output_type": "stream",
          "text": [
            "              precision    recall  f1-score   support\n",
            "\n",
            "           0       1.00      0.97      0.99       200\n",
            "           1       0.52      0.70      0.60       200\n",
            "           2       0.54      0.36      0.43       200\n",
            "           3       1.00      1.00      1.00       200\n",
            "\n",
            "    accuracy                           0.76       800\n",
            "   macro avg       0.76      0.76      0.75       800\n",
            "weighted avg       0.76      0.76      0.75       800\n",
            "\n",
            "Classification accuracy: 0.7600\n"
          ],
          "name": "stdout"
        }
      ]
    },
    {
      "cell_type": "markdown",
      "metadata": {
        "id": "07FxgXhVA96T"
      },
      "source": [
        "### Plotting Confusion Matrix"
      ]
    },
    {
      "cell_type": "code",
      "metadata": {
        "id": "uU-K6vA9tuie",
        "colab": {
          "base_uri": "https://localhost:8080/",
          "height": 310
        },
        "outputId": "74863e32-ef07-4b64-f2b1-67d6a70bc737"
      },
      "source": [
        "labels = [\"squiggle\", \"narrowband\", \"noise\", \"narrowbanddrd\"]\n",
        "\n",
        "ax = plt.subplot()\n",
        "sns.heatmap(metrics.confusion_matrix(y_true, y_pred, normalize='true'), annot=True, ax = ax, cmap=plt.cm.Blues)\n",
        "\n",
        "# labels, title and ticks\n",
        "ax.set_title('Confusion Matrix')\n",
        "ax.xaxis.set_ticklabels(labels); ax.yaxis.set_ticklabels(labels)"
      ],
      "execution_count": 17,
      "outputs": [
        {
          "output_type": "display_data",
          "data": {
            "image/png": "[encoded data removed]",
            "text/plain": [
              "<Figure size 432x288 with 2 Axes>"
            ]
          },
          "metadata": {
            "tags": [],
            "needs_background": "light"
          }
        }
      ]
    }
  ]
}