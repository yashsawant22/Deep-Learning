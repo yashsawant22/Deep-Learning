{
  "nbformat": 4,
  "nbformat_minor": 0,
  "metadata": {
    "colab": {
      "name": "Lecture Assignment 2.ipynb",
      "provenance": [],
      "authorship_tag": "ABX9TyM/PB/v9SKLofOxyQAYADpb",
      "include_colab_link": true
    },
    "kernelspec": {
      "name": "python3",
      "display_name": "Python 3"
    },
    "language_info": {
      "name": "python"
    }
  },
  "cells": [
    {
      "cell_type": "markdown",
      "metadata": {
        "id": "view-in-github",
        "colab_type": "text"
      },
      "source": [
        "<a href=\"https://colab.research.google.com/github/pranit06/Deep_Learning/blob/main/Lecture_Assignment_2.ipynb\" target=\"_parent\"><img src=\"https://colab.research.google.com/assets/colab-badge.svg\" alt=\"Open In Colab\"/></a>"
      ]
    },
    {
      "cell_type": "markdown",
      "metadata": {
        "id": "XLrf0BPAywoI"
      },
      "source": [
        "**LECTURE ASSIGNMENT 2: STOCK MARKET PREDICTION**"
      ]
    },
    {
      "cell_type": "code",
      "metadata": {
        "id": "JrJqtwBRytNl"
      },
      "source": [
        "import math \n",
        "import pandas_datareader as web\n",
        "import numpy as np\n",
        "import pandas as pd\n",
        "from sklearn.preprocessing import MinMaxScaler\n",
        "from keras.models import Sequential\n",
        "from keras.layers import Dense, LSTM\n",
        "import matplotlib.pyplot as plt\n",
        "plt.style.use('fivethirtyeight')"
      ],
      "execution_count": 1,
      "outputs": []
    },
    {
      "cell_type": "code",
      "metadata": {
        "id": "r-SWFxuHy6tg"
      },
      "source": [
        "data = web.DataReader('BRITANNIA.NS', data_source='yahoo', start='2016-01-01', end='2021-2-25')"
      ],
      "execution_count": 2,
      "outputs": []
    },
    {
      "cell_type": "code",
      "metadata": {
        "colab": {
          "base_uri": "https://localhost:8080/",
          "height": 441
        },
        "id": "f9OdNJUKy-On",
        "outputId": "342f3fd8-93fd-4872-9e28-96dfae704f3b"
      },
      "source": [
        "data"
      ],
      "execution_count": 3,
      "outputs": [
        {
          "output_type": "execute_result",
          "data": {
            "text/html": [
              "<div>\n",
              "<style scoped>\n",
              "    .dataframe tbody tr th:only-of-type {\n",
              "        vertical-align: middle;\n",
              "    }\n",
              "\n",
              "    .dataframe tbody tr th {\n",
              "        vertical-align: top;\n",
              "    }\n",
              "\n",
              "    .dataframe thead th {\n",
              "        text-align: right;\n",
              "    }\n",
              "</style>\n",
              "<table border=\"1\" class=\"dataframe\">\n",
              "  <thead>\n",
              "    <tr style=\"text-align: right;\">\n",
              "      <th></th>\n",
              "      <th>High</th>\n",
              "      <th>Low</th>\n",
              "      <th>Open</th>\n",
              "      <th>Close</th>\n",
              "      <th>Volume</th>\n",
              "      <th>Adj Close</th>\n",
              "    </tr>\n",
              "    <tr>\n",
              "      <th>Date</th>\n",
              "      <th></th>\n",
              "      <th></th>\n",
              "      <th></th>\n",
              "      <th></th>\n",
              "      <th></th>\n",
              "      <th></th>\n",
              "    </tr>\n",
              "  </thead>\n",
              "  <tbody>\n",
              "    <tr>\n",
              "      <th>2016-01-01</th>\n",
              "      <td>1501.675049</td>\n",
              "      <td>1481.199951</td>\n",
              "      <td>1481.199951</td>\n",
              "      <td>1493.199951</td>\n",
              "      <td>129486.0</td>\n",
              "      <td>1402.360718</td>\n",
              "    </tr>\n",
              "    <tr>\n",
              "      <th>2016-01-04</th>\n",
              "      <td>1502.224976</td>\n",
              "      <td>1476.000000</td>\n",
              "      <td>1490.000000</td>\n",
              "      <td>1486.300049</td>\n",
              "      <td>253614.0</td>\n",
              "      <td>1395.880615</td>\n",
              "    </tr>\n",
              "    <tr>\n",
              "      <th>2016-01-05</th>\n",
              "      <td>1496.275024</td>\n",
              "      <td>1475.150024</td>\n",
              "      <td>1488.550049</td>\n",
              "      <td>1483.349976</td>\n",
              "      <td>228500.0</td>\n",
              "      <td>1393.110107</td>\n",
              "    </tr>\n",
              "    <tr>\n",
              "      <th>2016-01-06</th>\n",
              "      <td>1503.000000</td>\n",
              "      <td>1476.500000</td>\n",
              "      <td>1476.500000</td>\n",
              "      <td>1500.849976</td>\n",
              "      <td>267276.0</td>\n",
              "      <td>1409.545410</td>\n",
              "    </tr>\n",
              "    <tr>\n",
              "      <th>2016-01-07</th>\n",
              "      <td>1497.425049</td>\n",
              "      <td>1455.525024</td>\n",
              "      <td>1495.000000</td>\n",
              "      <td>1473.275024</td>\n",
              "      <td>298800.0</td>\n",
              "      <td>1383.647949</td>\n",
              "    </tr>\n",
              "    <tr>\n",
              "      <th>...</th>\n",
              "      <td>...</td>\n",
              "      <td>...</td>\n",
              "      <td>...</td>\n",
              "      <td>...</td>\n",
              "      <td>...</td>\n",
              "      <td>...</td>\n",
              "    </tr>\n",
              "    <tr>\n",
              "      <th>2021-02-22</th>\n",
              "      <td>3373.750000</td>\n",
              "      <td>3317.300049</td>\n",
              "      <td>3350.000000</td>\n",
              "      <td>3341.199951</td>\n",
              "      <td>666371.0</td>\n",
              "      <td>3341.199951</td>\n",
              "    </tr>\n",
              "    <tr>\n",
              "      <th>2021-02-23</th>\n",
              "      <td>3368.000000</td>\n",
              "      <td>3325.300049</td>\n",
              "      <td>3349.800049</td>\n",
              "      <td>3335.949951</td>\n",
              "      <td>484686.0</td>\n",
              "      <td>3335.949951</td>\n",
              "    </tr>\n",
              "    <tr>\n",
              "      <th>2021-02-24</th>\n",
              "      <td>3415.000000</td>\n",
              "      <td>3341.000000</td>\n",
              "      <td>3360.000000</td>\n",
              "      <td>3405.550049</td>\n",
              "      <td>512568.0</td>\n",
              "      <td>3405.550049</td>\n",
              "    </tr>\n",
              "    <tr>\n",
              "      <th>2021-02-25</th>\n",
              "      <td>3425.699951</td>\n",
              "      <td>3374.600098</td>\n",
              "      <td>3420.000000</td>\n",
              "      <td>3405.000000</td>\n",
              "      <td>586357.0</td>\n",
              "      <td>3405.000000</td>\n",
              "    </tr>\n",
              "    <tr>\n",
              "      <th>2021-02-26</th>\n",
              "      <td>3408.949951</td>\n",
              "      <td>3343.000000</td>\n",
              "      <td>3389.000000</td>\n",
              "      <td>3363.750000</td>\n",
              "      <td>748717.0</td>\n",
              "      <td>3363.750000</td>\n",
              "    </tr>\n",
              "  </tbody>\n",
              "</table>\n",
              "<p>1272 rows × 6 columns</p>\n",
              "</div>"
            ],
            "text/plain": [
              "                   High          Low  ...    Volume    Adj Close\n",
              "Date                                  ...                       \n",
              "2016-01-01  1501.675049  1481.199951  ...  129486.0  1402.360718\n",
              "2016-01-04  1502.224976  1476.000000  ...  253614.0  1395.880615\n",
              "2016-01-05  1496.275024  1475.150024  ...  228500.0  1393.110107\n",
              "2016-01-06  1503.000000  1476.500000  ...  267276.0  1409.545410\n",
              "2016-01-07  1497.425049  1455.525024  ...  298800.0  1383.647949\n",
              "...                 ...          ...  ...       ...          ...\n",
              "2021-02-22  3373.750000  3317.300049  ...  666371.0  3341.199951\n",
              "2021-02-23  3368.000000  3325.300049  ...  484686.0  3335.949951\n",
              "2021-02-24  3415.000000  3341.000000  ...  512568.0  3405.550049\n",
              "2021-02-25  3425.699951  3374.600098  ...  586357.0  3405.000000\n",
              "2021-02-26  3408.949951  3343.000000  ...  748717.0  3363.750000\n",
              "\n",
              "[1272 rows x 6 columns]"
            ]
          },
          "metadata": {
            "tags": []
          },
          "execution_count": 3
        }
      ]
    },
    {
      "cell_type": "code",
      "metadata": {
        "colab": {
          "base_uri": "https://localhost:8080/"
        },
        "id": "bHZtCzbjzCVh",
        "outputId": "deb4bdc4-d9a4-4a0e-9910-ad16ccb1c48f"
      },
      "source": [
        "data.iloc[data.shape[0]-39:,3]"
      ],
      "execution_count": 4,
      "outputs": [
        {
          "output_type": "execute_result",
          "data": {
            "text/plain": [
              "Date\n",
              "2021-01-04    3552.899902\n",
              "2021-01-05    3551.100098\n",
              "2021-01-06    3539.699951\n",
              "2021-01-07    3552.800049\n",
              "2021-01-08    3575.250000\n",
              "2021-01-11    3612.850098\n",
              "2021-01-12    3631.649902\n",
              "2021-01-13    3621.149902\n",
              "2021-01-14    3665.449951\n",
              "2021-01-15    3609.050049\n",
              "2021-01-18    3607.850098\n",
              "2021-01-19    3601.250000\n",
              "2021-01-20    3592.300049\n",
              "2021-01-21    3630.800049\n",
              "2021-01-22    3608.000000\n",
              "2021-01-25    3613.550049\n",
              "2021-01-27    3610.750000\n",
              "2021-01-28    3603.750000\n",
              "2021-01-29    3501.100098\n",
              "2021-02-01    3520.750000\n",
              "2021-02-02    3501.250000\n",
              "2021-02-03    3516.500000\n",
              "2021-02-04    3580.000000\n",
              "2021-02-05    3541.649902\n",
              "2021-02-08    3473.699951\n",
              "2021-02-09    3462.399902\n",
              "2021-02-10    3424.850098\n",
              "2021-02-11    3462.750000\n",
              "2021-02-12    3421.250000\n",
              "2021-02-15    3417.000000\n",
              "2021-02-16    3389.449951\n",
              "2021-02-17    3364.000000\n",
              "2021-02-18    3359.449951\n",
              "2021-02-19    3331.199951\n",
              "2021-02-22    3341.199951\n",
              "2021-02-23    3335.949951\n",
              "2021-02-24    3405.550049\n",
              "2021-02-25    3405.000000\n",
              "2021-02-26    3363.750000\n",
              "Name: Close, dtype: float64"
            ]
          },
          "metadata": {
            "tags": []
          },
          "execution_count": 4
        }
      ]
    },
    {
      "cell_type": "code",
      "metadata": {
        "colab": {
          "base_uri": "https://localhost:8080/"
        },
        "id": "4W0rKO5VzGEM",
        "outputId": "9fffd791-3c8c-4c79-8d3f-a8d6ba7b7d79"
      },
      "source": [
        "data.shape"
      ],
      "execution_count": 5,
      "outputs": [
        {
          "output_type": "execute_result",
          "data": {
            "text/plain": [
              "(1272, 6)"
            ]
          },
          "metadata": {
            "tags": []
          },
          "execution_count": 5
        }
      ]
    },
    {
      "cell_type": "code",
      "metadata": {
        "colab": {
          "base_uri": "https://localhost:8080/",
          "height": 518
        },
        "id": "0izHTwP5zJlQ",
        "outputId": "b35e15b1-33de-47f2-d8c3-b340fa546b21"
      },
      "source": [
        "plt.figure(figsize=(16,8))\n",
        "plt.title(\"Close Price History\")\n",
        "plt.plot(data['Close'])\n",
        "plt.xlabel('Date', fontsize=18)\n",
        "plt.ylabel('Close Price', fontsize=18)\n",
        "plt.show()"
      ],
      "execution_count": 6,
      "outputs": [
        {
          "output_type": "display_data",
          "data": {
            "image/png": "[encoded data removed]",
            "text/plain": [
              "<Figure size 1152x576 with 1 Axes>"
            ]
          },
          "metadata": {
            "tags": [],
            "needs_background": "light"
          }
        }
      ]
    },
    {
      "cell_type": "code",
      "metadata": {
        "colab": {
          "base_uri": "https://localhost:8080/"
        },
        "id": "5WPoqUu0zNq-",
        "outputId": "ba04d444-0674-4d36-de72-a79329b9a16d"
      },
      "source": [
        "data = data.filter(['Close'])\n",
        "dataset = data.values\n",
        "training_data_len = data.shape[0]-39\n",
        "\n",
        "training_data_len"
      ],
      "execution_count": 7,
      "outputs": [
        {
          "output_type": "execute_result",
          "data": {
            "text/plain": [
              "1233"
            ]
          },
          "metadata": {
            "tags": []
          },
          "execution_count": 7
        }
      ]
    },
    {
      "cell_type": "code",
      "metadata": {
        "id": "le94nFBIzQl2"
      },
      "source": [
        "scaler = MinMaxScaler(feature_range=(0,1))\n",
        "scaled_data = scaler.fit_transform(dataset)\n"
      ],
      "execution_count": 8,
      "outputs": []
    },
    {
      "cell_type": "code",
      "metadata": {
        "colab": {
          "base_uri": "https://localhost:8080/"
        },
        "id": "05NVWCTDzUiS",
        "outputId": "ab60f4f3-6d1d-4412-d4cd-65475d4d55c6"
      },
      "source": [
        "scaled_data"
      ],
      "execution_count": 9,
      "outputs": [
        {
          "output_type": "execute_result",
          "data": {
            "text/plain": [
              "array([[0.07816925],\n",
              "       [0.07561426],\n",
              "       [0.07452186],\n",
              "       ...,\n",
              "       [0.78630284],\n",
              "       [0.78609916],\n",
              "       [0.77082449]])"
            ]
          },
          "metadata": {
            "tags": []
          },
          "execution_count": 9
        }
      ]
    },
    {
      "cell_type": "code",
      "metadata": {
        "colab": {
          "base_uri": "https://localhost:8080/"
        },
        "id": "OFKRg8frzXiz",
        "outputId": "751eda55-49c0-4528-d3c9-5b694f438198"
      },
      "source": [
        "train_data = scaled_data[0:training_data_len, :]\n",
        "x_train, y_train = [], []\n",
        "\n",
        "for i in range(60, len(train_data)):\n",
        "  x_train.append(train_data[i-60:i,0])\n",
        "  y_train.append(train_data[i,0])\n",
        "  if i<=61:\n",
        "    print(x_train)\n",
        "    print(y_train)\n",
        "    print()"
      ],
      "execution_count": 10,
      "outputs": [
        {
          "output_type": "stream",
          "text": [
            "[array([0.07816925, 0.07561426, 0.07452186, 0.08100202, 0.07079116,\n",
            "       0.06259838, 0.06574589, 0.06961545, 0.06313529, 0.0617282 ,\n",
            "       0.05460924, 0.03723318, 0.0312529 , 0.02138453, 0.01027568,\n",
            "       0.00957212, 0.00710969, 0.01582084, 0.0196349 , 0.02318972,\n",
            "       0.04375036, 0.042334  , 0.04885118, 0.0540816 , 0.0552295 ,\n",
            "       0.05379461, 0.04052881, 0.02921628, 0.0129233 , 0.        ,\n",
            "       0.01882949, 0.01142359, 0.01629298, 0.03504843, 0.02967915,\n",
            "       0.04353746, 0.04407437, 0.03502989, 0.02254171, 0.02744811,\n",
            "       0.03555758, 0.05137842, 0.05529432, 0.05140622, 0.05387792,\n",
            "       0.04718485, 0.05065637, 0.05007313, 0.04663868, 0.04792544,\n",
            "       0.03602045, 0.02890154, 0.0246987 , 0.02251395, 0.03161393,\n",
            "       0.03467813, 0.02982728, 0.01136808, 0.00350854, 0.01375647])]\n",
            "[0.022643545230610518]\n",
            "\n",
            "[array([0.07816925, 0.07561426, 0.07452186, 0.08100202, 0.07079116,\n",
            "       0.06259838, 0.06574589, 0.06961545, 0.06313529, 0.0617282 ,\n",
            "       0.05460924, 0.03723318, 0.0312529 , 0.02138453, 0.01027568,\n",
            "       0.00957212, 0.00710969, 0.01582084, 0.0196349 , 0.02318972,\n",
            "       0.04375036, 0.042334  , 0.04885118, 0.0540816 , 0.0552295 ,\n",
            "       0.05379461, 0.04052881, 0.02921628, 0.0129233 , 0.        ,\n",
            "       0.01882949, 0.01142359, 0.01629298, 0.03504843, 0.02967915,\n",
            "       0.04353746, 0.04407437, 0.03502989, 0.02254171, 0.02744811,\n",
            "       0.03555758, 0.05137842, 0.05529432, 0.05140622, 0.05387792,\n",
            "       0.04718485, 0.05065637, 0.05007313, 0.04663868, 0.04792544,\n",
            "       0.03602045, 0.02890154, 0.0246987 , 0.02251395, 0.03161393,\n",
            "       0.03467813, 0.02982728, 0.01136808, 0.00350854, 0.01375647]), array([0.07561426, 0.07452186, 0.08100202, 0.07079116, 0.06259838,\n",
            "       0.06574589, 0.06961545, 0.06313529, 0.0617282 , 0.05460924,\n",
            "       0.03723318, 0.0312529 , 0.02138453, 0.01027568, 0.00957212,\n",
            "       0.00710969, 0.01582084, 0.0196349 , 0.02318972, 0.04375036,\n",
            "       0.042334  , 0.04885118, 0.0540816 , 0.0552295 , 0.05379461,\n",
            "       0.04052881, 0.02921628, 0.0129233 , 0.        , 0.01882949,\n",
            "       0.01142359, 0.01629298, 0.03504843, 0.02967915, 0.04353746,\n",
            "       0.04407437, 0.03502989, 0.02254171, 0.02744811, 0.03555758,\n",
            "       0.05137842, 0.05529432, 0.05140622, 0.05387792, 0.04718485,\n",
            "       0.05065637, 0.05007313, 0.04663868, 0.04792544, 0.03602045,\n",
            "       0.02890154, 0.0246987 , 0.02251395, 0.03161393, 0.03467813,\n",
            "       0.02982728, 0.01136808, 0.00350854, 0.01375647, 0.02264355])]\n",
            "[0.022643545230610518, 0.021264205582404327]\n",
            "\n"
          ],
          "name": "stdout"
        }
      ]
    },
    {
      "cell_type": "code",
      "metadata": {
        "id": "f3t3HkeXzbs5"
      },
      "source": [
        "x_train, y_train = np.array(x_train), np.array(y_train)"
      ],
      "execution_count": 11,
      "outputs": []
    },
    {
      "cell_type": "code",
      "metadata": {
        "colab": {
          "base_uri": "https://localhost:8080/"
        },
        "id": "NKU7_BTczhDT",
        "outputId": "9fa1a4b0-6447-401e-ea94-863a6c544180"
      },
      "source": [
        "x_train = np.reshape(x_train, (x_train.shape[0], x_train.shape[1], 1))\n",
        "x_train.shape"
      ],
      "execution_count": 12,
      "outputs": [
        {
          "output_type": "execute_result",
          "data": {
            "text/plain": [
              "(1173, 60, 1)"
            ]
          },
          "metadata": {
            "tags": []
          },
          "execution_count": 12
        }
      ]
    },
    {
      "cell_type": "code",
      "metadata": {
        "id": "I1auYX4GziKD"
      },
      "source": [
        "model = Sequential()\n",
        "\n",
        "model.add(LSTM(50, return_sequences=True, input_shape = (x_train.shape[1],1)))\n",
        "model.add(LSTM(50, return_sequences=False))\n",
        "model.add(Dense(25))\n",
        "model.add(Dense(1))"
      ],
      "execution_count": 13,
      "outputs": []
    },
    {
      "cell_type": "code",
      "metadata": {
        "colab": {
          "base_uri": "https://localhost:8080/"
        },
        "id": "01eSfJTnzltZ",
        "outputId": "6c850add-ca54-44fb-d421-58015ba858eb"
      },
      "source": [
        "model.summary()"
      ],
      "execution_count": 14,
      "outputs": [
        {
          "output_type": "stream",
          "text": [
            "Model: \"sequential\"\n",
            "_________________________________________________________________\n",
            "Layer (type)                 Output Shape              Param #   \n",
            "=================================================================\n",
            "lstm (LSTM)                  (None, 60, 50)            10400     \n",
            "_________________________________________________________________\n",
            "lstm_1 (LSTM)                (None, 50)                20200     \n",
            "_________________________________________________________________\n",
            "dense (Dense)                (None, 25)                1275      \n",
            "_________________________________________________________________\n",
            "dense_1 (Dense)              (None, 1)                 26        \n",
            "=================================================================\n",
            "Total params: 31,901\n",
            "Trainable params: 31,901\n",
            "Non-trainable params: 0\n",
            "_________________________________________________________________\n"
          ],
          "name": "stdout"
        }
      ]
    },
    {
      "cell_type": "code",
      "metadata": {
        "id": "PkUnrBGUzokU"
      },
      "source": [
        "model.compile(optimizer='adam', loss='mean_squared_error')"
      ],
      "execution_count": 15,
      "outputs": []
    },
    {
      "cell_type": "code",
      "metadata": {
        "colab": {
          "base_uri": "https://localhost:8080/"
        },
        "id": "p3TkntHyzrKU",
        "outputId": "22aa20f1-1c2b-422a-fc2d-5e41b7ddc00d"
      },
      "source": [
        "model.fit(x_train, y_train, batch_size=1, epochs=1)"
      ],
      "execution_count": 16,
      "outputs": [
        {
          "output_type": "stream",
          "text": [
            "1173/1173 [==============================] - 34s 26ms/step - loss: 0.0035\n"
          ],
          "name": "stdout"
        },
        {
          "output_type": "execute_result",
          "data": {
            "text/plain": [
              "<tensorflow.python.keras.callbacks.History at 0x7f2b289d48d0>"
            ]
          },
          "metadata": {
            "tags": []
          },
          "execution_count": 16
        }
      ]
    },
    {
      "cell_type": "code",
      "metadata": {
        "id": "HX6ImQqrzuHu"
      },
      "source": [
        "test_data = scaled_data[training_data_len-60:,:]\n",
        "\n",
        "x_test, y_test = [], dataset[training_data_len:,:]\n",
        "\n",
        "for i in range(60, len(test_data)):\n",
        "  x_test.append(test_data[i-60:i,0])"
      ],
      "execution_count": 17,
      "outputs": []
    },
    {
      "cell_type": "code",
      "metadata": {
        "id": "OtDT7u8Dz3A1"
      },
      "source": [
        "x_test = np.array(x_test)"
      ],
      "execution_count": 18,
      "outputs": []
    },
    {
      "cell_type": "code",
      "metadata": {
        "id": "att0Jjpnz49P"
      },
      "source": [
        "x_test = np.reshape(x_test, (x_test.shape[0], x_test.shape[1], 1))"
      ],
      "execution_count": 19,
      "outputs": []
    },
    {
      "cell_type": "code",
      "metadata": {
        "id": "WcAMm3TPz7Lv"
      },
      "source": [
        "prediction = model.predict(x_test)\n",
        "prediction = scaler.inverse_transform(prediction)"
      ],
      "execution_count": 20,
      "outputs": []
    },
    {
      "cell_type": "code",
      "metadata": {
        "id": "yURkGNSn0ADw"
      },
      "source": [
        "rmse = np.sqrt(np.mean(prediction- y_test)**2)"
      ],
      "execution_count": 21,
      "outputs": []
    },
    {
      "cell_type": "code",
      "metadata": {
        "colab": {
          "base_uri": "https://localhost:8080/"
        },
        "id": "jIOCqQKH0CcF",
        "outputId": "ae781bad-6368-43ef-c6dd-d678fd9db6a3"
      },
      "source": [
        "rmse"
      ],
      "execution_count": 22,
      "outputs": [
        {
          "output_type": "execute_result",
          "data": {
            "text/plain": [
              "35.270802033253204"
            ]
          },
          "metadata": {
            "tags": []
          },
          "execution_count": 22
        }
      ]
    },
    {
      "cell_type": "code",
      "metadata": {
        "colab": {
          "base_uri": "https://localhost:8080/"
        },
        "id": "ACFOq7qC0ELs",
        "outputId": "4a957077-3bef-4354-84cf-e72a42de04bb"
      },
      "source": [
        "train = data[:training_data_len]\n",
        "valid = data[training_data_len:]\n",
        "valid['Prediction'] = prediction \n",
        "valid['Error Precentage'] = ((valid['Close'] - valid['Prediction'])/valid['Close'])*100"
      ],
      "execution_count": 23,
      "outputs": [
        {
          "output_type": "stream",
          "text": [
            "/usr/local/lib/python3.7/dist-packages/ipykernel_launcher.py:3: SettingWithCopyWarning: \n",
            "A value is trying to be set on a copy of a slice from a DataFrame.\n",
            "Try using .loc[row_indexer,col_indexer] = value instead\n",
            "\n",
            "See the caveats in the documentation: https://pandas.pydata.org/pandas-docs/stable/user_guide/indexing.html#returning-a-view-versus-a-copy\n",
            "  This is separate from the ipykernel package so we can avoid doing imports until\n",
            "/usr/local/lib/python3.7/dist-packages/ipykernel_launcher.py:4: SettingWithCopyWarning: \n",
            "A value is trying to be set on a copy of a slice from a DataFrame.\n",
            "Try using .loc[row_indexer,col_indexer] = value instead\n",
            "\n",
            "See the caveats in the documentation: https://pandas.pydata.org/pandas-docs/stable/user_guide/indexing.html#returning-a-view-versus-a-copy\n",
            "  after removing the cwd from sys.path.\n"
          ],
          "name": "stderr"
        }
      ]
    },
    {
      "cell_type": "code",
      "metadata": {
        "colab": {
          "base_uri": "https://localhost:8080/",
          "height": 518
        },
        "id": "1gLPdSBL0Jbo",
        "outputId": "40e80663-f813-4cc6-a32b-199e1829afe4"
      },
      "source": [
        "plt.figure(figsize=(16,8))\n",
        "plt.title(\"Model\")\n",
        "plt.xlabel('Date', fontsize=18)\n",
        "plt.ylabel('Close Price USD($)', fontsize=18)\n",
        "plt.plot(train['Close'])\n",
        "plt.plot(valid[['Close','Prediction']])\n",
        "plt.legend(['Train','Val','Prediction'], loc='lower right')\n",
        "plt.show()"
      ],
      "execution_count": 24,
      "outputs": [
        {
          "output_type": "display_data",
          "data": {
            "image/png": "[encoded data removed]",
            "text/plain": [
              "<Figure size 1152x576 with 1 Axes>"
            ]
          },
          "metadata": {
            "tags": [],
            "needs_background": "light"
          }
        }
      ]
    },
    {
      "cell_type": "code",
      "metadata": {
        "colab": {
          "base_uri": "https://localhost:8080/",
          "height": 1000
        },
        "id": "q7oCjtKe0Np9",
        "outputId": "82a242d7-d84e-4e73-c646-d10ed95031e6"
      },
      "source": [
        "valid"
      ],
      "execution_count": 25,
      "outputs": [
        {
          "output_type": "execute_result",
          "data": {
            "text/html": [
              "<div>\n",
              "<style scoped>\n",
              "    .dataframe tbody tr th:only-of-type {\n",
              "        vertical-align: middle;\n",
              "    }\n",
              "\n",
              "    .dataframe tbody tr th {\n",
              "        vertical-align: top;\n",
              "    }\n",
              "\n",
              "    .dataframe thead th {\n",
              "        text-align: right;\n",
              "    }\n",
              "</style>\n",
              "<table border=\"1\" class=\"dataframe\">\n",
              "  <thead>\n",
              "    <tr style=\"text-align: right;\">\n",
              "      <th></th>\n",
              "      <th>Close</th>\n",
              "      <th>Prediction</th>\n",
              "      <th>Error Precentage</th>\n",
              "    </tr>\n",
              "    <tr>\n",
              "      <th>Date</th>\n",
              "      <th></th>\n",
              "      <th></th>\n",
              "      <th></th>\n",
              "    </tr>\n",
              "  </thead>\n",
              "  <tbody>\n",
              "    <tr>\n",
              "      <th>2021-01-04</th>\n",
              "      <td>3552.899902</td>\n",
              "      <td>3605.659180</td>\n",
              "      <td>-1.484964</td>\n",
              "    </tr>\n",
              "    <tr>\n",
              "      <th>2021-01-05</th>\n",
              "      <td>3551.100098</td>\n",
              "      <td>3595.386719</td>\n",
              "      <td>-1.247124</td>\n",
              "    </tr>\n",
              "    <tr>\n",
              "      <th>2021-01-06</th>\n",
              "      <td>3539.699951</td>\n",
              "      <td>3586.510742</td>\n",
              "      <td>-1.322451</td>\n",
              "    </tr>\n",
              "    <tr>\n",
              "      <th>2021-01-07</th>\n",
              "      <td>3552.800049</td>\n",
              "      <td>3577.867920</td>\n",
              "      <td>-0.705581</td>\n",
              "    </tr>\n",
              "    <tr>\n",
              "      <th>2021-01-08</th>\n",
              "      <td>3575.250000</td>\n",
              "      <td>3572.621094</td>\n",
              "      <td>0.073531</td>\n",
              "    </tr>\n",
              "    <tr>\n",
              "      <th>2021-01-11</th>\n",
              "      <td>3612.850098</td>\n",
              "      <td>3572.703857</td>\n",
              "      <td>1.111207</td>\n",
              "    </tr>\n",
              "    <tr>\n",
              "      <th>2021-01-12</th>\n",
              "      <td>3631.649902</td>\n",
              "      <td>3580.371826</td>\n",
              "      <td>1.411977</td>\n",
              "    </tr>\n",
              "    <tr>\n",
              "      <th>2021-01-13</th>\n",
              "      <td>3621.149902</td>\n",
              "      <td>3592.670898</td>\n",
              "      <td>0.786463</td>\n",
              "    </tr>\n",
              "    <tr>\n",
              "      <th>2021-01-14</th>\n",
              "      <td>3665.449951</td>\n",
              "      <td>3603.665771</td>\n",
              "      <td>1.685582</td>\n",
              "    </tr>\n",
              "    <tr>\n",
              "      <th>2021-01-15</th>\n",
              "      <td>3609.050049</td>\n",
              "      <td>3619.255371</td>\n",
              "      <td>-0.282770</td>\n",
              "    </tr>\n",
              "    <tr>\n",
              "      <th>2021-01-18</th>\n",
              "      <td>3607.850098</td>\n",
              "      <td>3625.831787</td>\n",
              "      <td>-0.498405</td>\n",
              "    </tr>\n",
              "    <tr>\n",
              "      <th>2021-01-19</th>\n",
              "      <td>3601.250000</td>\n",
              "      <td>3628.173096</td>\n",
              "      <td>-0.747604</td>\n",
              "    </tr>\n",
              "    <tr>\n",
              "      <th>2021-01-20</th>\n",
              "      <td>3592.300049</td>\n",
              "      <td>3627.187744</td>\n",
              "      <td>-0.971180</td>\n",
              "    </tr>\n",
              "    <tr>\n",
              "      <th>2021-01-21</th>\n",
              "      <td>3630.800049</td>\n",
              "      <td>3623.532715</td>\n",
              "      <td>0.200158</td>\n",
              "    </tr>\n",
              "    <tr>\n",
              "      <th>2021-01-22</th>\n",
              "      <td>3608.000000</td>\n",
              "      <td>3624.844727</td>\n",
              "      <td>-0.466872</td>\n",
              "    </tr>\n",
              "    <tr>\n",
              "      <th>2021-01-25</th>\n",
              "      <td>3613.550049</td>\n",
              "      <td>3624.224854</td>\n",
              "      <td>-0.295410</td>\n",
              "    </tr>\n",
              "    <tr>\n",
              "      <th>2021-01-27</th>\n",
              "      <td>3610.750000</td>\n",
              "      <td>3624.027344</td>\n",
              "      <td>-0.367717</td>\n",
              "    </tr>\n",
              "    <tr>\n",
              "      <th>2021-01-28</th>\n",
              "      <td>3603.750000</td>\n",
              "      <td>3623.517334</td>\n",
              "      <td>-0.548521</td>\n",
              "    </tr>\n",
              "    <tr>\n",
              "      <th>2021-01-29</th>\n",
              "      <td>3501.100098</td>\n",
              "      <td>3621.957031</td>\n",
              "      <td>-3.451970</td>\n",
              "    </tr>\n",
              "    <tr>\n",
              "      <th>2021-02-01</th>\n",
              "      <td>3520.750000</td>\n",
              "      <td>3605.281982</td>\n",
              "      <td>-2.400965</td>\n",
              "    </tr>\n",
              "    <tr>\n",
              "      <th>2021-02-02</th>\n",
              "      <td>3501.250000</td>\n",
              "      <td>3588.496826</td>\n",
              "      <td>-2.491877</td>\n",
              "    </tr>\n",
              "    <tr>\n",
              "      <th>2021-02-03</th>\n",
              "      <td>3516.500000</td>\n",
              "      <td>3570.595215</td>\n",
              "      <td>-1.538325</td>\n",
              "    </tr>\n",
              "    <tr>\n",
              "      <th>2021-02-04</th>\n",
              "      <td>3580.000000</td>\n",
              "      <td>3557.117188</td>\n",
              "      <td>0.639185</td>\n",
              "    </tr>\n",
              "    <tr>\n",
              "      <th>2021-02-05</th>\n",
              "      <td>3541.649902</td>\n",
              "      <td>3556.452637</td>\n",
              "      <td>-0.417962</td>\n",
              "    </tr>\n",
              "    <tr>\n",
              "      <th>2021-02-08</th>\n",
              "      <td>3473.699951</td>\n",
              "      <td>3555.218262</td>\n",
              "      <td>-2.346729</td>\n",
              "    </tr>\n",
              "    <tr>\n",
              "      <th>2021-02-09</th>\n",
              "      <td>3462.399902</td>\n",
              "      <td>3544.795410</td>\n",
              "      <td>-2.379722</td>\n",
              "    </tr>\n",
              "    <tr>\n",
              "      <th>2021-02-10</th>\n",
              "      <td>3424.850098</td>\n",
              "      <td>3531.034668</td>\n",
              "      <td>-3.100415</td>\n",
              "    </tr>\n",
              "    <tr>\n",
              "      <th>2021-02-11</th>\n",
              "      <td>3462.750000</td>\n",
              "      <td>3512.243896</td>\n",
              "      <td>-1.429323</td>\n",
              "    </tr>\n",
              "    <tr>\n",
              "      <th>2021-02-12</th>\n",
              "      <td>3421.250000</td>\n",
              "      <td>3499.707275</td>\n",
              "      <td>-2.293234</td>\n",
              "    </tr>\n",
              "    <tr>\n",
              "      <th>2021-02-15</th>\n",
              "      <td>3417.000000</td>\n",
              "      <td>3485.061768</td>\n",
              "      <td>-1.991857</td>\n",
              "    </tr>\n",
              "    <tr>\n",
              "      <th>2021-02-16</th>\n",
              "      <td>3389.449951</td>\n",
              "      <td>3471.504150</td>\n",
              "      <td>-2.420871</td>\n",
              "    </tr>\n",
              "    <tr>\n",
              "      <th>2021-02-17</th>\n",
              "      <td>3364.000000</td>\n",
              "      <td>3456.325439</td>\n",
              "      <td>-2.744514</td>\n",
              "    </tr>\n",
              "    <tr>\n",
              "      <th>2021-02-18</th>\n",
              "      <td>3359.449951</td>\n",
              "      <td>3439.191406</td>\n",
              "      <td>-2.373646</td>\n",
              "    </tr>\n",
              "    <tr>\n",
              "      <th>2021-02-19</th>\n",
              "      <td>3331.199951</td>\n",
              "      <td>3423.154785</td>\n",
              "      <td>-2.760412</td>\n",
              "    </tr>\n",
              "    <tr>\n",
              "      <th>2021-02-22</th>\n",
              "      <td>3341.199951</td>\n",
              "      <td>3405.734375</td>\n",
              "      <td>-1.931474</td>\n",
              "    </tr>\n",
              "    <tr>\n",
              "      <th>2021-02-23</th>\n",
              "      <td>3335.949951</td>\n",
              "      <td>3391.859619</td>\n",
              "      <td>-1.675974</td>\n",
              "    </tr>\n",
              "    <tr>\n",
              "      <th>2021-02-24</th>\n",
              "      <td>3405.550049</td>\n",
              "      <td>3380.536865</td>\n",
              "      <td>0.734483</td>\n",
              "    </tr>\n",
              "    <tr>\n",
              "      <th>2021-02-25</th>\n",
              "      <td>3405.000000</td>\n",
              "      <td>3382.015381</td>\n",
              "      <td>0.675026</td>\n",
              "    </tr>\n",
              "    <tr>\n",
              "      <th>2021-02-26</th>\n",
              "      <td>3363.750000</td>\n",
              "      <td>3388.124023</td>\n",
              "      <td>-0.724609</td>\n",
              "    </tr>\n",
              "  </tbody>\n",
              "</table>\n",
              "</div>"
            ],
            "text/plain": [
              "                  Close   Prediction  Error Precentage\n",
              "Date                                                  \n",
              "2021-01-04  3552.899902  3605.659180         -1.484964\n",
              "2021-01-05  3551.100098  3595.386719         -1.247124\n",
              "2021-01-06  3539.699951  3586.510742         -1.322451\n",
              "2021-01-07  3552.800049  3577.867920         -0.705581\n",
              "2021-01-08  3575.250000  3572.621094          0.073531\n",
              "2021-01-11  3612.850098  3572.703857          1.111207\n",
              "2021-01-12  3631.649902  3580.371826          1.411977\n",
              "2021-01-13  3621.149902  3592.670898          0.786463\n",
              "2021-01-14  3665.449951  3603.665771          1.685582\n",
              "2021-01-15  3609.050049  3619.255371         -0.282770\n",
              "2021-01-18  3607.850098  3625.831787         -0.498405\n",
              "2021-01-19  3601.250000  3628.173096         -0.747604\n",
              "2021-01-20  3592.300049  3627.187744         -0.971180\n",
              "2021-01-21  3630.800049  3623.532715          0.200158\n",
              "2021-01-22  3608.000000  3624.844727         -0.466872\n",
              "2021-01-25  3613.550049  3624.224854         -0.295410\n",
              "2021-01-27  3610.750000  3624.027344         -0.367717\n",
              "2021-01-28  3603.750000  3623.517334         -0.548521\n",
              "2021-01-29  3501.100098  3621.957031         -3.451970\n",
              "2021-02-01  3520.750000  3605.281982         -2.400965\n",
              "2021-02-02  3501.250000  3588.496826         -2.491877\n",
              "2021-02-03  3516.500000  3570.595215         -1.538325\n",
              "2021-02-04  3580.000000  3557.117188          0.639185\n",
              "2021-02-05  3541.649902  3556.452637         -0.417962\n",
              "2021-02-08  3473.699951  3555.218262         -2.346729\n",
              "2021-02-09  3462.399902  3544.795410         -2.379722\n",
              "2021-02-10  3424.850098  3531.034668         -3.100415\n",
              "2021-02-11  3462.750000  3512.243896         -1.429323\n",
              "2021-02-12  3421.250000  3499.707275         -2.293234\n",
              "2021-02-15  3417.000000  3485.061768         -1.991857\n",
              "2021-02-16  3389.449951  3471.504150         -2.420871\n",
              "2021-02-17  3364.000000  3456.325439         -2.744514\n",
              "2021-02-18  3359.449951  3439.191406         -2.373646\n",
              "2021-02-19  3331.199951  3423.154785         -2.760412\n",
              "2021-02-22  3341.199951  3405.734375         -1.931474\n",
              "2021-02-23  3335.949951  3391.859619         -1.675974\n",
              "2021-02-24  3405.550049  3380.536865          0.734483\n",
              "2021-02-25  3405.000000  3382.015381          0.675026\n",
              "2021-02-26  3363.750000  3388.124023         -0.724609"
            ]
          },
          "metadata": {
            "tags": []
          },
          "execution_count": 25
        }
      ]
    },
    {
      "cell_type": "code",
      "metadata": {
        "id": "Ql_Ev2-M0Q2K"
      },
      "source": [
        ""
      ],
      "execution_count": null,
      "outputs": []
    }
  ]
}